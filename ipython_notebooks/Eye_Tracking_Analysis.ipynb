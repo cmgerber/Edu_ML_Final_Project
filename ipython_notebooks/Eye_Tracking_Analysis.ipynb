{
 "metadata": {
  "name": "",
  "signature": "sha256:8167cb9d2bda21615a28aea10d404381bfc98dfce6c8bb2e6dcfcfe20e7ad786"
 },
 "nbformat": 3,
 "nbformat_minor": 0,
 "worksheets": [
  {
   "cells": [
    {
     "cell_type": "heading",
     "level": 1,
     "metadata": {},
     "source": [
      "Eye Tracking and Knowledge"
     ]
    },
    {
     "cell_type": "code",
     "collapsed": false,
     "input": [
      "import pandas as pd\n",
      "import numpy as np\n",
      "import string\n",
      "import re\n",
      "import time\n",
      "import math\n",
      "%matplotlib inline\n",
      "import matplotlib.pyplot as plt\n",
      "from sklearn.metrics import confusion_matrix\n",
      "import pylab as pl\n",
      "from sklearn.naive_bayes import GaussianNB\n",
      "from sklearn.ensemble import RandomForestClassifier\n",
      "from sklearn.ensemble import ExtraTreesClassifier\n",
      "from sklearn.feature_selection import SelectKBest, chi2\n",
      "from sklearn.cross_validation import KFold\n",
      "from collections import defaultdict\n",
      "from sklearn.pipeline import Pipeline\n",
      "from sklearn.linear_model import LogisticRegression, LinearRegression\n",
      "from sklearn.preprocessing import StandardScaler\n",
      "from sklearn.cluster import KMeans\n",
      "from scipy.stats import ttest_1samp"
     ],
     "language": "python",
     "metadata": {},
     "outputs": [],
     "prompt_number": 1
    },
    {
     "cell_type": "heading",
     "level": 3,
     "metadata": {},
     "source": [
      "Load gaze and pupil data"
     ]
    },
    {
     "cell_type": "code",
     "collapsed": false,
     "input": [
      "df_gaze = pd.read_csv('../data/logsAndEye_09152014.csv', na_values=['None'])\n",
      "df_pupil = pd.read_csv('../data/pupilDiameters.csv', na_values=['None'])\n",
      "# df_pupil.head()"
     ],
     "language": "python",
     "metadata": {},
     "outputs": [],
     "prompt_number": 2
    },
    {
     "cell_type": "heading",
     "level": 3,
     "metadata": {},
     "source": [
      "Join datasets on subject_sync and add meta features"
     ]
    },
    {
     "cell_type": "code",
     "collapsed": false,
     "input": [
      "# datasets are joined with rows containing null values dropped\n",
      "df_all_data = df_gaze.merge(df_pupil, on='subject_sync').set_index('subject_sync').dropna()\n",
      "\n",
      "# clean up column names (for pupil cols)\n",
      "clean_columns = [name.replace(\" \",\"_\").replace(\"[\",\"\").replace(\"]\",\"\") for name in df_all_data.columns]\n",
      "df_all_data.columns = clean_columns\n",
      "\n",
      "students = set(df_all_data.student)\n",
      "for s in students:\n",
      "    df_all_data[s] = df_all_data.apply(lambda x: 1 if x.student == s else 0, axis=1)\n",
      "    \n",
      "problems = set(df_all_data.problem)\n",
      "for p in problems:\n",
      "    df_all_data[p] = df_all_data.apply(lambda x: 1 if x.problem == p else 0, axis=1)\n",
      "    \n",
      "prob_types = set(df_all_data.problemType)\n",
      "for p in prob_types:\n",
      "    df_all_data[p] = df_all_data.apply(lambda x: 1 if x.problemType == p else 0, axis=1)\n",
      "\n",
      "units = ['U1', 'U2', 'U3']\n",
      "for u in units:\n",
      "    df_all_data[u] = df_all_data.apply(lambda x: 1 if u in x.problem else 0, axis=1)\n"
     ],
     "language": "python",
     "metadata": {},
     "outputs": [],
     "prompt_number": 3
    },
    {
     "cell_type": "code",
     "collapsed": false,
     "input": [
      "df_all_data.columns"
     ],
     "language": "python",
     "metadata": {},
     "outputs": [
      {
       "metadata": {},
       "output_type": "pyout",
       "prompt_number": 4,
       "text": [
        "Index([u'student', u'problem', u'problemOrder', u'problemType', u'logs_Correct', u'logs_OverallIncorrect', u'logs_OverallHint', u'logs_FirstAttempt_Correct', u'logs_errorRate', u'logs_errorRate_medianSplit', u'logs_hintRate', u'logs_firstCorrectRate', u'logs_firstIncorrectRate', u'logs_firstIncorrectRate_medianSplit', u'eye_switch', u'eye_2ndFixDur_GR', u'eye_2ndFixDur_Interactions', u'eye_2ndFixDur_Titles', u'eye_2ndFixDur_Hints', u'eye_2ndFixDur_Progress', u'eye_2ndFixDur_WhiteSpace', u'eye_1stFixDur_GR', u'eye_1stFixDur_Interactions', u'eye_1stFixDur_Titles', u'eye_1stFixDur_Hints', u'eye_1stFixDur_Progress', u'eye_1stFixDur_WhiteSpace', u'eye_fixDur_GR', u'eye_fixDur_Interactions', u'eye_fixDur_Titles', u'eye_fixDur_Hints', u'eye_fixDur_Progress', u'eye_fixDur_WhiteSpace', u'seq2_betweenGRs', u'seq2_autoGR', u'seq2_GR-caption', u'seq2_GR-Interactions', u'seq2_GR-HintText', u'seq2_GR-Progress', u'seq2_Interactions-Progress', u'seq2_Interactions-HintText', u'seq3_betweenGRs', u'seq3_autoGR', u'seq3_GR-caption-GR', u'seq3_caption-GR-caption', u'seq3_GR-Interactions-GR', u'seq3_Interactions-GR-Interactions', u'seq3_GR-HintText-GR', u'seq3_HintText-GR-HintText', u'seq3_Interactions-HintText-Interactions', u'seq3_HintText-Interactions-HintText', u'seq3_GR-Progress-GR', u'seq3_Progress-GR-Progress', u'seq3_Progress-Interactions-Progress', u'pretest_sense', u'posttest1_sense', u'posttest2_sense', u'pretest_fluency', u'posttest1_fluency', u'posttest2_fluency', u'pretest_concScales', u'posttest1_concScales', u'posttest2_concScales', u'prePost_concScales', u'prePost_concScales_gainMedianSplit', u'pretest_sense_medianSplit', u'pretest_fluency_medianSplit', u'pretest_concScales_medianSplit', u'Average_Pupil_Diameter_mm', u'AveragePupil_Size_px_X', u'chem3', u'chem89', u'chem88', u'chem81', u'chem80', u'chem83', u'chem82', u'chem85', u'chem84', u'chem87', u'chem86', u'chem13', u'chem10', u'chem11', u'chem16', u'chem14', u'chem15', u'chem18', u'chem19', u'Chem50', u'chem38', u'chem39', u'chem34', u'chem36', u'chem37', u'chem30', u'chem31', u'chem32', u'chem33', u'chem58', ...], dtype='object')"
       ]
      }
     ],
     "prompt_number": 4
    },
    {
     "cell_type": "heading",
     "level": 2,
     "metadata": {},
     "source": [
      "K means clusters on Eye Tracking features"
     ]
    },
    {
     "cell_type": "code",
     "collapsed": false,
     "input": [
      "gaze_cols = [\n",
      " 'eye_switch',\n",
      " 'eye_2ndFixDur_GR',\n",
      " 'eye_2ndFixDur_Interactions',\n",
      " 'eye_2ndFixDur_Titles',\n",
      " 'eye_2ndFixDur_Hints', \n",
      " 'eye_2ndFixDur_Progress',\n",
      " 'eye_2ndFixDur_WhiteSpace',\n",
      " 'eye_1stFixDur_GR',\n",
      " 'eye_1stFixDur_Interactions',\n",
      " 'eye_1stFixDur_Titles',\n",
      " 'eye_1stFixDur_Hints',\n",
      " 'eye_1stFixDur_Progress',\n",
      " 'eye_1stFixDur_WhiteSpace',\n",
      " 'eye_fixDur_GR',\n",
      " 'eye_fixDur_Interactions',\n",
      " 'eye_fixDur_Titles',\n",
      " 'eye_fixDur_Hints', \n",
      " 'eye_fixDur_Progress',\n",
      " 'eye_fixDur_WhiteSpace',\n",
      " 'seq2_betweenGRs',\n",
      " 'seq2_autoGR',\n",
      " 'seq2_GR-caption',\n",
      " 'seq2_GR-Interactions',\n",
      " 'seq2_GR-HintText',\n",
      " 'seq2_GR-Progress',\n",
      " 'seq2_Interactions-Progress',\n",
      " 'seq2_Interactions-HintText',\n",
      " 'seq3_betweenGRs',\n",
      " 'seq3_autoGR', \n",
      " 'seq3_GR-caption-GR',\n",
      " 'seq3_caption-GR-caption',\n",
      " 'seq3_GR-Interactions-GR',\n",
      " 'seq3_Interactions-GR-Interactions',\n",
      " 'seq3_GR-HintText-GR',\n",
      " 'seq3_HintText-GR-HintText',\n",
      " 'seq3_Interactions-HintText-Interactions',\n",
      " 'seq3_HintText-Interactions-HintText',\n",
      " 'seq3_GR-Progress-GR',\n",
      " 'seq3_Progress-GR-Progress',\n",
      " 'seq3_Progress-Interactions-Progress']"
     ],
     "language": "python",
     "metadata": {},
     "outputs": [],
     "prompt_number": 5
    },
    {
     "cell_type": "code",
     "collapsed": false,
     "input": [
      "df_gaze_features = df_all_data[gaze_cols]\n",
      "df_cluster_features = pd.DataFrame(index=df_gaze_features.index)\n",
      "df_gaze_features = StandardScaler().fit_transform(df_gaze_features)\n",
      "\n",
      "\n",
      "for n in xrange(2,9):\n",
      "    k_means = KMeans(init='k-means++', n_clusters=n, n_init=10)\n",
      "    k_means.fit(df_gaze_features)\n",
      "    k_means_labels = k_means.labels_\n",
      "    k_means_cluster_centers = k_means.cluster_centers_\n",
      "    k_means_labels_unique = np.unique(k_means_labels)\n",
      "    \n",
      "    #create dataframe with cluster\n",
      "    for cluster in xrange(n):\n",
      "        label = 'k%d_%d' % (n, cluster)\n",
      "        df_cluster_features[label] = [1 if x == cluster else 0 for x in k_means_labels]\n",
      "        \n",
      "df_all_data = df_all_data.join(df_cluster_features)"
     ],
     "language": "python",
     "metadata": {},
     "outputs": [],
     "prompt_number": 6
    },
    {
     "cell_type": "code",
     "collapsed": false,
     "input": [
      "cluster_features = list(df_cluster_features.columns)"
     ],
     "language": "python",
     "metadata": {},
     "outputs": [],
     "prompt_number": 7
    },
    {
     "cell_type": "code",
     "collapsed": false,
     "input": [
      "(sorted(df_all_data.logs_firstCorrectRate))[821:]\n",
      "# (sorted(df_all_data.logs_firstCorrectRate))[820:]\n",
      "\n",
      "# 0.61538461499999997\n",
      "# 0.78260869599999994\n",
      "\n",
      "def assign_class_3(percent):\n",
      "    if percent <= 0.61538461499999997:\n",
      "        return 1\n",
      "    elif (percent < 0.78260869599999994) & (percent > 0.61538461499999997):    \n",
      "#     elif (percent < 0.80) & (percent >= 0.63):\n",
      "        return 2\n",
      "    else:\n",
      "        return 3 \n",
      "    \n",
      "df_all_data['firstCorrectThirdSplit'] = df_all_data.logs_firstCorrectRate.apply(assign_class_3)\n",
      "\n",
      "df_all_data.firstCorrectThirdSplit.value_counts()\n",
      "df_all_data.logs_firstIncorrectRate_medianSplit.value_counts()"
     ],
     "language": "python",
     "metadata": {},
     "outputs": [
      {
       "metadata": {},
       "output_type": "pyout",
       "prompt_number": 8,
       "text": [
        "1    637\n",
        "0    597\n",
        "dtype: int64"
       ]
      }
     ],
     "prompt_number": 8
    },
    {
     "cell_type": "code",
     "collapsed": false,
     "input": [
      "#max likely class\n",
      "637.0/1234"
     ],
     "language": "python",
     "metadata": {},
     "outputs": [
      {
       "metadata": {},
       "output_type": "pyout",
       "prompt_number": 9,
       "text": [
        "0.5162074554294975"
       ]
      }
     ],
     "prompt_number": 9
    },
    {
     "cell_type": "code",
     "collapsed": false,
     "input": [
      "# to reference cluster groups\n",
      "k3 = [k for k in cluster_features if 'k3' in k]\n",
      "k7 = [k for k in cluster_features if 'k7' in k]\n",
      "k5 = [k for k in cluster_features if 'k5' in k]\n",
      "k8 = [k for k in cluster_features if 'k8' in k]"
     ],
     "language": "python",
     "metadata": {},
     "outputs": [],
     "prompt_number": 10
    },
    {
     "cell_type": "code",
     "collapsed": false,
     "input": [
      "# FEATURE SELECTION\n",
      "\n",
      "feature_cols = [\n",
      " 'logs_Correct',\n",
      " 'eye_switch',\n",
      " 'eye_2ndFixDur_GR',\n",
      " 'eye_2ndFixDur_Interactions',\n",
      " 'eye_2ndFixDur_Titles',\n",
      " 'eye_2ndFixDur_Hints', #\n",
      " 'eye_2ndFixDur_Progress',\n",
      " 'eye_2ndFixDur_WhiteSpace',\n",
      " 'eye_1stFixDur_GR',\n",
      " 'eye_1stFixDur_Interactions',\n",
      " 'eye_1stFixDur_Titles',\n",
      " 'eye_1stFixDur_Hints',\n",
      " 'eye_1stFixDur_Progress',\n",
      " 'eye_1stFixDur_WhiteSpace',\n",
      " 'eye_fixDur_GR',\n",
      " 'eye_fixDur_Interactions',\n",
      " 'eye_fixDur_Titles',\n",
      " 'eye_fixDur_Hints', #\n",
      " 'eye_fixDur_Progress',\n",
      " 'eye_fixDur_WhiteSpace',\n",
      " 'seq2_betweenGRs',\n",
      " 'seq2_autoGR',\n",
      " 'seq2_GR-caption',\n",
      " 'seq2_GR-Interactions',\n",
      " 'seq2_GR-HintText',\n",
      " 'seq2_GR-Progress',\n",
      " 'seq2_Interactions-Progress',\n",
      " 'seq2_Interactions-HintText',\n",
      " 'seq3_betweenGRs',\n",
      " 'seq3_autoGR', #\n",
      " 'seq3_GR-caption-GR',\n",
      " 'seq3_caption-GR-caption',\n",
      " 'seq3_GR-Interactions-GR',\n",
      " 'seq3_Interactions-GR-Interactions',\n",
      " 'seq3_GR-HintText-GR',\n",
      " 'seq3_HintText-GR-HintText',\n",
      " 'seq3_Interactions-HintText-Interactions',\n",
      " 'seq3_HintText-Interactions-HintText',\n",
      " 'seq3_GR-Progress-GR',\n",
      " 'seq3_Progress-GR-Progress',\n",
      " 'seq3_Progress-Interactions-Progress',\n",
      " 'pretest_sense',\n",
      "#  'posttest1_sense',\n",
      "#  'posttest2_sense',\n",
      " 'pretest_fluency',\n",
      "#  'posttest1_fluency',\n",
      "#  'posttest2_fluency',\n",
      " 'pretest_concScales',\n",
      "#  'posttest1_concScales',\n",
      "#  'posttest2_concScales',\n",
      "#  'prePost_concScales',\n",
      " 'Average_Pupil_Diameter_mm']\n",
      "\n",
      "#choose an outcome variable\n",
      "# outcome_col = 'firstCorrectThirdSplit'\n",
      "# outcome_col = 'logs_errorRate_medianSplit' \n",
      "# oucome_col = 'logs_firstIncorrectRate_medianSplit'\n",
      "\n",
      "other_features = [\n",
      "#  'logs_Correct',\n",
      " 'pretest_sense',\n",
      " 'pretest_fluency',\n",
      " 'pretest_concScales']\n",
      " 'Average_Pupil_Diameter_mm']\n",
      "\n",
      "for col in other_features:\n",
      "    df_all_data[col] = StandardScaler().fit_transform(df_all_data[col])\n",
      "\n",
      "df_all_data['prePost_concScales'] = StandardScaler().fit_transform(df_all_data['prePost_concScales'])\n",
      "\n",
      "selected_feature_cols = cluster_features + other_features + list(prob_types) + units + list(problems) #+ list(prob_types)#other_features + list(prob_types) + units + list(problems)\n",
      "# selected_feature_cols =  feature_cols + list(problems) + list(prob_types) + units\n",
      "\n",
      "df_features = df_all_data[selected_feature_cols]\n",
      "\n",
      "len(df_features.columns)"
     ],
     "language": "python",
     "metadata": {},
     "outputs": [
      {
       "ename": "IndentationError",
       "evalue": "unexpected indent (<ipython-input-26-b5a2b8e7eecc>, line 67)",
       "output_type": "pyerr",
       "traceback": [
        "\u001b[0;36m  File \u001b[0;32m\"<ipython-input-26-b5a2b8e7eecc>\"\u001b[0;36m, line \u001b[0;32m67\u001b[0m\n\u001b[0;31m    'Average_Pupil_Diameter_mm']\u001b[0m\n\u001b[0m    ^\u001b[0m\n\u001b[0;31mIndentationError\u001b[0m\u001b[0;31m:\u001b[0m unexpected indent\n"
       ]
      }
     ],
     "prompt_number": 26
    },
    {
     "cell_type": "code",
     "collapsed": false,
     "input": [
      "print list(set(df_all_data['logs_firstIncorrectRate_medianSplit'].value_counts()))\n",
      "print list(set(df_all_data['prePost_concScales_gainMedianSplit'].value_counts()))\n"
     ],
     "language": "python",
     "metadata": {},
     "outputs": [
      {
       "output_type": "stream",
       "stream": "stdout",
       "text": [
        "[637, 597]\n",
        "[612, 622]\n"
       ]
      }
     ],
     "prompt_number": 12
    },
    {
     "cell_type": "heading",
     "level": 2,
     "metadata": {},
     "source": [
      "Cross-validation function"
     ]
    },
    {
     "cell_type": "code",
     "collapsed": false,
     "input": [
      "# Cross-Validation Function\n",
      "def cv_fun(selected_predictors, outcome_feature):\n",
      "    scores = []\n",
      "    for train_idx, cv_idx in KFold(n=len(df_all_data[selected_predictors]), n_folds=4, indices=False, shuffle=True):\n",
      "        train_features = df_all_data[selected_predictors][train_idx]\n",
      "        train_y    = np.asarray(df_all_data[train_idx][outcome_feature])\n",
      "        test_features  = df_all_data[selected_predictors][cv_idx]\n",
      "        test_y     = np.asarray(list(df_all_data[cv_idx][outcome_feature]))\n",
      "        clf = LogisticRegression(penalty='l2')\n",
      "        clf.fit(train_features, train_y)\n",
      "        score = clf.score(test_features, test_y)    \n",
      "        scores.append(score)\n",
      "        \n",
      "        pred = clf.predict(test_features)\n",
      "        params = clf.get_params()\n",
      "        \n",
      "        labels = list(set(df_all_data[outcome_feature].values))\n",
      "    \n",
      "        coefficients = clf.coef_\n",
      "        if len(labels) > 2:\n",
      "            for c in xrange(len(labels)):\n",
      "                coefficient_dict = defaultdict(list)\n",
      "                for col, coef in zip(selected_feature_cols, coefficients[c]):    \n",
      "                    coefficient_dict[col].append(coef)\n",
      "                result = sorted(coefficient_dict.items(), key=lambda x: abs(x[1][0]), reverse=True)[:15]\n",
      "                for name, value in result:\n",
      "                    print name, \": \", value[0]\n",
      "                print \n",
      "                del coefficient_dict\n",
      "        else:\n",
      "            for c in [0]:\n",
      "                coefficient_dict = defaultdict(list)\n",
      "                for col, coef in zip(selected_feature_cols, coefficients[c]):    \n",
      "                    coefficient_dict[col].append(coef)\n",
      "                result = sorted(coefficient_dict.items(), key=lambda x: abs(x[1][0]), reverse=True)[:20]\n",
      "                for name, value in result:\n",
      "                    print name, \": \", value[0]\n",
      "                print \n",
      "                del coefficient_dict    \n",
      "        \n",
      "        cm = confusion_matrix(test_y, pred, labels)\n",
      "        print(cm)\n",
      "        fig = plt.figure()\n",
      "        ax = fig.add_subplot(111)\n",
      "        cax = ax.matshow(cm)\n",
      "        pl.title('Confusion matrix of the classifier')\n",
      "        fig.colorbar(cax)\n",
      "        ax.set_xticklabels([''] + labels)\n",
      "        ax.set_yticklabels([''] + labels)\n",
      "        pl.xlabel('Predicted')\n",
      "        pl.ylabel('True')\n",
      "        pl.show()\n",
      "        \n",
      "        print params\n",
      "        print score\n",
      "        \n",
      "    return scores, np.mean(scores)\n",
      "\n",
      "# cv_fun(df_features, 'logs_errorRate_medianSplit')\n",
      "# cv_fun(df_features,'logs_firstIncorrectRate_medianSplit')"
     ],
     "language": "python",
     "metadata": {},
     "outputs": [],
     "prompt_number": 13
    },
    {
     "cell_type": "heading",
     "level": 2,
     "metadata": {},
     "source": [
      "Predicting firstIncorrectRate_medianSplit"
     ]
    },
    {
     "cell_type": "code",
     "collapsed": false,
     "input": [
      "selected_feature_cols = other_features + k5 + list(problems) #+ units#+ list(prob_types) + units + list(problems) #+ list(prob_types)#other_features + list(prob_types) + units + list(problems)\n",
      "\n",
      "cv_fun(selected_feature_cols,'logs_firstIncorrectRate_medianSplit')"
     ],
     "language": "python",
     "metadata": {},
     "outputs": [
      {
       "output_type": "stream",
       "stream": "stdout",
       "text": [
        "start_U1_I2_1 :  -2.35276727665\n",
        "start_U3_F2_1 :  1.75054571575\n",
        "start_U2_I2_1 :  -1.56533328285\n",
        "start_U2_S2_1 :  1.53994706066\n",
        "start_U2_I1_1 :  -1.24448780173\n",
        "start_U3_S1_1 :  1.1585466348\n",
        "start_U3_I1_1 :  -1.08015328344\n",
        "start_U2_S1_1 :  1.01708825445\n",
        "start_U1_F2_1 :  0.911068431861\n",
        "start_U1_F1_1 :  -0.878661281863\n",
        "start_U1_S1_1 :  0.835165219013\n",
        "k5_4 :  0.70767191453\n",
        "start_U3_I3_1 :  0.70753292673\n",
        "k5_0 :  0.656382810465\n",
        "start_U1_F3_1 :  0.646841349767\n",
        "start_U2_I3_1 :  -0.642518891476\n",
        "start_U1_I1_1 :  -0.636816003877\n",
        "start_U3_F1_1 :  -0.565798522156\n",
        "start_U3_F3_1 :  0.505498641127\n",
        "start_U2_F1_1 :  0.400582194161\n",
        "\n",
        "[[104  42]\n",
        " [ 43 120]]\n"
       ]
      },
      {
       "metadata": {},
       "output_type": "display_data",
       "png": "[encoded data removed]",
       "text": [
        "<matplotlib.figure.Figure at 0x1096bfed0>"
       ]
      },
      {
       "output_type": "stream",
       "stream": "stdout",
       "text": [
        "{'C': 1.0, 'intercept_scaling': 1, 'fit_intercept': True, 'penalty': 'l2', 'random_state': None, 'dual': False, 'tol': 0.0001, 'class_weight': None}\n",
        "0.724919093851\n",
        "start_U1_I2_1 :  -2.17550685622\n",
        "start_U2_I2_1 :  -2.13741296006\n",
        "start_U3_F2_1 :  1.96159165641\n",
        "start_U2_S2_1 :  1.82685385696\n",
        "start_U2_I1_1 :  -1.50630917634\n",
        "start_U1_S1_1 :  1.49596568929\n",
        "start_U3_I1_1 :  -1.05704003014\n",
        "start_U2_I3_1 :  -0.843420680277\n",
        "start_U2_S1_1 :  0.784831258458\n",
        "start_U3_S2_1 :  0.77952955549\n",
        "k5_0 :  0.765653745301\n",
        "k5_4 :  0.750099346473\n",
        "start_U3_F3_1 :  0.745339170803\n",
        "start_U3_S1_1 :  0.712864298746\n",
        "start_U1_F2_1 :  0.631768555798\n",
        "start_U3_I3_1 :  0.611852334743\n",
        "start_U2_F2_1 :  -0.511963097015\n",
        "start_U1_F3_1 :  0.49132076836\n",
        "start_U2_F1_1 :  0.475188702625\n",
        "start_U1_I1_1 :  -0.426645189052\n",
        "\n",
        "[[109  50]\n",
        " [ 45 105]]\n"
       ]
      },
      {
       "metadata": {},
       "output_type": "display_data",
       "png": "[encoded data removed]",
       "text": [
        "<matplotlib.figure.Figure at 0x1096bf410>"
       ]
      },
      {
       "output_type": "stream",
       "stream": "stdout",
       "text": [
        "{'C': 1.0, 'intercept_scaling': 1, 'fit_intercept': True, 'penalty': 'l2', 'random_state': None, 'dual': False, 'tol': 0.0001, 'class_weight': None}\n",
        "0.692556634304\n",
        "start_U1_I2_1 :  -2.16158476812\n",
        "start_U2_S2_1 :  1.72423431384\n",
        "start_U3_F2_1 :  1.66222097225\n",
        "start_U2_I2_1 :  -1.31141986605\n",
        "start_U2_S1_1 :  1.20627187827\n",
        "start_U1_S1_1 :  1.11692368122\n",
        "start_U3_I1_1 :  -1.08536630824\n",
        "start_U2_I1_1 :  -1.06765510352\n",
        "start_U2_F2_1 :  -0.936921642559\n",
        "start_U1_F1_1 :  -0.897787510773\n",
        "k5_0 :  0.849702198032\n",
        "start_U2_I3_1 :  -0.830458463801\n",
        "start_U3_S1_1 :  0.827868855734\n",
        "start_U3_F3_1 :  0.81477045396\n",
        "start_U1_F3_1 :  0.737454361077\n",
        "start_U3_I3_1 :  0.646847017043\n",
        "k5_4 :  0.617643786596\n",
        "start_U1_S2_1 :  -0.564201037718\n",
        "start_U1_F2_1 :  0.529712447957\n",
        "start_U3_F1_1 :  -0.494242504372\n",
        "\n",
        "[[105  38]\n",
        " [ 45 120]]\n"
       ]
      },
      {
       "metadata": {},
       "output_type": "display_data",
       "png": "[encoded data removed]",
       "text": [
        "<matplotlib.figure.Figure at 0x1037193d0>"
       ]
      },
      {
       "output_type": "stream",
       "stream": "stdout",
       "text": [
        "{'C': 1.0, 'intercept_scaling': 1, 'fit_intercept': True, 'penalty': 'l2', 'random_state': None, 'dual': False, 'tol': 0.0001, 'class_weight': None}\n",
        "0.730519480519\n",
        "start_U1_I2_1 :  -2.49141862707\n",
        "start_U2_S2_1 :  2.02391469029\n",
        "start_U3_F2_1 :  1.79530380394\n",
        "start_U2_I2_1 :  -1.52579361305\n",
        "start_U2_I3_1 :  -1.16414841783\n",
        "start_U1_S1_1 :  1.13696489061\n",
        "start_U3_I1_1 :  -1.1107300352\n",
        "start_U2_I1_1 :  -1.09867830421\n",
        "start_U2_S1_1 :  1.00613142703\n",
        "start_U1_F3_1 :  0.912808021585\n",
        "start_U1_F1_1 :  -0.846054598465\n",
        "start_U3_S1_1 :  0.84342623622\n",
        "start_U3_S2_1 :  0.677307040343\n",
        "start_U3_I3_1 :  0.675557336228\n",
        "start_U3_F1_1 :  -0.670921435412\n",
        "start_U3_F3_1 :  0.597229067347\n",
        "k5_4 :  0.571797624124\n",
        "start_U1_F2_1 :  0.501869147456\n",
        "k5_0 :  0.459216431864\n",
        "start_U2_F2_1 :  -0.437069375153\n",
        "\n",
        "[[110  39]\n",
        " [ 43 116]]\n"
       ]
      },
      {
       "metadata": {},
       "output_type": "display_data",
       "png": "[encoded data removed]",
       "text": [
        "<matplotlib.figure.Figure at 0x103718e50>"
       ]
      },
      {
       "output_type": "stream",
       "stream": "stdout",
       "text": [
        "{'C': 1.0, 'intercept_scaling': 1, 'fit_intercept': True, 'penalty': 'l2', 'random_state': None, 'dual': False, 'tol': 0.0001, 'class_weight': None}\n",
        "0.733766233766\n"
       ]
      },
      {
       "metadata": {},
       "output_type": "pyout",
       "prompt_number": 27,
       "text": [
        "([0.72491909385113273,\n",
        "  0.69255663430420711,\n",
        "  0.73051948051948057,\n",
        "  0.73376623376623373],\n",
        " 0.72044036061026351)"
       ]
      }
     ],
     "prompt_number": 27
    },
    {
     "cell_type": "heading",
     "level": 3,
     "metadata": {},
     "source": [
      "Predicting First Correct performance (3 classes)"
     ]
    },
    {
     "cell_type": "code",
     "collapsed": false,
     "input": [
      "# not very helpful\n",
      "\n",
      "# selected_feature_cols = other_features + cluster_features + list(prob_types) + units #+ units + list(problems) #+ list(prob_types)#other_features + list(prob_types) + units + list(problems)\n",
      "\n",
      "# cv_fun(selected_feature_cols,'firstCorrectThirdSplit')"
     ],
     "language": "python",
     "metadata": {},
     "outputs": [],
     "prompt_number": 151
    },
    {
     "cell_type": "heading",
     "level": 2,
     "metadata": {},
     "source": [
      "Predicting Learning (not used in final)"
     ]
    },
    {
     "cell_type": "code",
     "collapsed": false,
     "input": [
      "selected_feature_cols = other_features + k5 + list(prob_types)# + units + list(problems) #+ list(prob_types)#other_features + list(prob_types) + units + list(problems)\n",
      "\n",
      "cv_fun(selected_feature_cols,'prePost_concScales_gainMedianSplit')\n"
     ],
     "language": "python",
     "metadata": {},
     "outputs": [
      {
       "output_type": "stream",
       "stream": "stdout",
       "text": [
        "pretest_concScales :  -0.960246251295\n",
        "fluency :  0.374564023746\n",
        "sense :  -0.248758904146\n",
        "k5_2 :  -0.158761272183\n",
        "individual :  -0.100849279724\n",
        "k5_4 :  0.0881995060571\n",
        "k5_0 :  0.084502329457\n",
        "k5_1 :  0.0731611207663\n",
        "k5_3 :  -0.0621458442217\n",
        "pretest_sense :  0.0409559751594\n",
        "pretest_fluency :  -0.0038897056996\n",
        "\n",
        "[[ 94  70]\n",
        " [ 40 105]]\n"
       ]
      },
      {
       "metadata": {},
       "output_type": "display_data",
       "png": "[encoded data removed]",
       "text": [
        "<matplotlib.figure.Figure at 0x108fede10>"
       ]
      },
      {
       "output_type": "stream",
       "stream": "stdout",
       "text": [
        "{'C': 1.0, 'intercept_scaling': 1, 'fit_intercept': True, 'penalty': 'l2', 'random_state': None, 'dual': False, 'tol': 0.0001, 'class_weight': None}\n",
        "0.644012944984\n",
        "pretest_concScales :  -0.989566653859\n",
        "fluency :  0.472728778542\n",
        "sense :  -0.312711383595\n",
        "k5_2 :  -0.228812175174\n",
        "individual :  -0.176318519258\n",
        "pretest_sense :  0.172147972966\n",
        "k5_3 :  0.0712649456557\n",
        "k5_1 :  0.0712040363311\n",
        "pretest_fluency :  0.0445770899725\n",
        "k5_0 :  0.0429696510694\n",
        "k5_4 :  0.0270724178062\n",
        "\n",
        "[[100  54]\n",
        " [ 47 108]]\n"
       ]
      },
      {
       "metadata": {},
       "output_type": "display_data",
       "png": "[encoded data removed]",
       "text": [
        "<matplotlib.figure.Figure at 0x109656c90>"
       ]
      },
      {
       "output_type": "stream",
       "stream": "stdout",
       "text": [
        "{'C': 1.0, 'intercept_scaling': 1, 'fit_intercept': True, 'penalty': 'l2', 'random_state': None, 'dual': False, 'tol': 0.0001, 'class_weight': None}\n",
        "0.673139158576\n",
        "pretest_concScales :  -0.973892763002\n",
        "k5_0 :  0.355212413988\n",
        "fluency :  0.22316847752\n",
        "k5_4 :  -0.216365393102\n",
        "pretest_sense :  0.201281479787\n",
        "sense :  -0.166891999286\n",
        "k5_2 :  -0.139984077561\n",
        "k5_3 :  -0.114864355534\n",
        "individual :  -0.0865717659409\n",
        "k5_1 :  0.0857061245022\n",
        "pretest_fluency :  -0.0257263079458\n",
        "\n",
        "[[ 94  45]\n",
        " [ 42 127]]\n"
       ]
      },
      {
       "metadata": {},
       "output_type": "display_data",
       "png": "[encoded data removed]",
       "text": [
        "<matplotlib.figure.Figure at 0x1096c6fd0>"
       ]
      },
      {
       "output_type": "stream",
       "stream": "stdout",
       "text": [
        "{'C': 1.0, 'intercept_scaling': 1, 'fit_intercept': True, 'penalty': 'l2', 'random_state': None, 'dual': False, 'tol': 0.0001, 'class_weight': None}\n",
        "0.717532467532\n",
        "pretest_concScales :  -0.982836082883\n",
        "k5_4 :  -0.288834764954\n",
        "k5_0 :  0.284228692331\n",
        "k5_1 :  0.150708469544\n",
        "pretest_sense :  0.13955543993\n",
        "k5_3 :  -0.119801012511\n",
        "sense :  -0.116376996869\n",
        "fluency :  0.103869951982\n",
        "pretest_fluency :  -0.0401495991858\n",
        "k5_2 :  -0.0357893359715\n",
        "individual :  0.00301909332588\n",
        "\n",
        "[[110  55]\n",
        " [ 42 101]]\n"
       ]
      },
      {
       "metadata": {},
       "output_type": "display_data",
       "png": "[encoded data removed]",
       "text": [
        "<matplotlib.figure.Figure at 0x1096d9150>"
       ]
      },
      {
       "output_type": "stream",
       "stream": "stdout",
       "text": [
        "{'C': 1.0, 'intercept_scaling': 1, 'fit_intercept': True, 'penalty': 'l2', 'random_state': None, 'dual': False, 'tol': 0.0001, 'class_weight': None}\n",
        "0.685064935065\n"
       ]
      },
      {
       "metadata": {},
       "output_type": "pyout",
       "prompt_number": 15,
       "text": [
        "([0.64401294498381878,\n",
        "  0.67313915857605178,\n",
        "  0.71753246753246758,\n",
        "  0.68506493506493504],\n",
        " 0.67993737653931829)"
       ]
      }
     ],
     "prompt_number": 15
    },
    {
     "cell_type": "heading",
     "level": 2,
     "metadata": {},
     "source": [
      "Taking a look at FIR by cluster (5 clusters)"
     ]
    },
    {
     "cell_type": "code",
     "collapsed": false,
     "input": [
      "#Making a copy of the master dataframe\n",
      "df_all_data2 = df_all_data\n",
      "\n",
      "cluster_5 = ['k5_0', 'k5_1', 'k5_2', 'k5_3', 'k5_4']\n",
      "\n",
      "def find_cluster(x):\n",
      "    for cluster in cluster_5:\n",
      "        if x[cluster] == 1:\n",
      "            return cluster_5.index(cluster)\n",
      "\n",
      "df_all_data2['5_clusters_group'] = df_all_data2.apply(find_cluster, axis=1)"
     ],
     "language": "python",
     "metadata": {},
     "outputs": [],
     "prompt_number": 54
    },
    {
     "cell_type": "code",
     "collapsed": false,
     "input": [
      "df_all_data2.pivot_table(rows=['5_clusters_group'], values=['logs_firstIncorrectRate'], aggfunc=np.mean)\n"
     ],
     "language": "python",
     "metadata": {},
     "outputs": [
      {
       "html": [
        "<div style=\"max-height:1000px;max-width:1500px;overflow:auto;\">\n",
        "<table border=\"1\" class=\"dataframe\">\n",
        "  <thead>\n",
        "    <tr style=\"text-align: right;\">\n",
        "      <th></th>\n",
        "      <th>logs_firstIncorrectRate</th>\n",
        "    </tr>\n",
        "    <tr>\n",
        "      <th>5_clusters_group</th>\n",
        "      <th></th>\n",
        "    </tr>\n",
        "  </thead>\n",
        "  <tbody>\n",
        "    <tr>\n",
        "      <th>0</th>\n",
        "      <td> 0.287845</td>\n",
        "    </tr>\n",
        "    <tr>\n",
        "      <th>1</th>\n",
        "      <td> 0.301637</td>\n",
        "    </tr>\n",
        "    <tr>\n",
        "      <th>2</th>\n",
        "      <td> 0.361259</td>\n",
        "    </tr>\n",
        "    <tr>\n",
        "      <th>3</th>\n",
        "      <td> 0.382211</td>\n",
        "    </tr>\n",
        "    <tr>\n",
        "      <th>4</th>\n",
        "      <td> 0.343791</td>\n",
        "    </tr>\n",
        "  </tbody>\n",
        "</table>\n",
        "<p>5 rows \u00d7 1 columns</p>\n",
        "</div>"
       ],
       "metadata": {},
       "output_type": "pyout",
       "prompt_number": 84,
       "text": [
        "                  logs_firstIncorrectRate\n",
        "5_clusters_group                         \n",
        "0                                0.287845\n",
        "1                                0.301637\n",
        "2                                0.361259\n",
        "3                                0.382211\n",
        "4                                0.343791\n",
        "\n",
        "[5 rows x 1 columns]"
       ]
      }
     ],
     "prompt_number": 84
    },
    {
     "cell_type": "heading",
     "level": 2,
     "metadata": {},
     "source": [
      "Inspecting gaze features by cluster"
     ]
    },
    {
     "cell_type": "code",
     "collapsed": false,
     "input": [
      "df_gaze_features = df_all_data[gaze_cols]\n",
      "df_gaze_features_clusters = df_gaze_features.join(df_cluster_features)\n",
      "\n",
      "#get averages for all the gaze clusters\n",
      "gaze_averages = {col:df_gaze_features[col].mean() for col in df_gaze_features.columns}\n",
      "\n",
      "df_cluster_averages = pd.DataFrame()\n",
      "for cluster in df_cluster_features.columns:\n",
      "    for clust, data in df_gaze_features_clusters.groupby(cluster):\n",
      "        if clust == 1:\n",
      "            #create a df of the averaged features values across a\n",
      "            #cluster and then add them to a total dict\n",
      "            df_temp = pd.DataFrame(data.mean()).T\n",
      "            df_temp.index = [cluster]\n",
      "            df_cluster_averages = df_cluster_averages.append(df_temp)\n",
      "            \n",
      "#get rid of cluster columns\n",
      "df_cluster_averages = df_cluster_averages[df_gaze_features.columns]\n",
      "\n",
      "\n",
      "df_k5_0 = df_gaze_features_clusters[df_gaze_features_clusters.k5_0 == 1]\n",
      "df_k5_1 = df_gaze_features_clusters[df_gaze_features_clusters.k5_1 == 1]\n",
      "\n",
      "df_k5_0.eye_fixDur_Interactions \n",
      "# print ttest_1samp(df_k5_0.eye_fixDur_Interactions, gaze_averages['eye_fixDur_Interactions'])\n",
      "# print gaze_averages['eye_fixDur_Interactions']\n",
      "# print ttest_1samp(df_k5_1.eye_fixDur_Interactions, gaze_averages['eye_fixDur_Interactions'])\n",
      "\n",
      "\n",
      "# print ttest_1samp(df_k5_0.eye_fixDur_Hints , gaze_averages['eye_fixDur_Hints'])\n",
      "# print ttest_1samp(df_k5_0.eye_fixDur_WhiteSpace , gaze_averages['eye_fixDur_WhiteSpace'])\n",
      "\n",
      "# print gaze_averages['eye_fixDur_Interactions']\n",
      "# print gaze_averages['eye_fixDur_Hints']\n",
      "# print gaze_averages['eye_fixDur_WhiteSpace']\n",
      "\n",
      "\n",
      "print df_cluster_averages.loc['k5_0'].order(ascending=False)"
     ],
     "language": "python",
     "metadata": {},
     "outputs": [
      {
       "output_type": "stream",
       "stream": "stdout",
       "text": [
        "eye_fixDur_Interactions                    316212.777778\n",
        "eye_2ndFixDur_Interactions                 315961.111111\n",
        "eye_fixDur_GR                              148432.444444\n",
        "eye_2ndFixDur_GR                           148156.833333\n",
        "eye_fixDur_Hints                            55528.888889\n",
        "eye_2ndFixDur_Hints                         55160.055556\n",
        "eye_fixDur_WhiteSpace                       20159.777778\n",
        "eye_2ndFixDur_WhiteSpace                    20010.777778\n",
        "eye_fixDur_Titles                            7549.444444\n",
        "eye_2ndFixDur_Titles                         7174.444444\n",
        "eye_fixDur_Progress                           481.722222\n",
        "eye_1stFixDur_Titles                          375.000000\n",
        "eye_1stFixDur_Hints                           368.833333\n",
        "eye_switch                                    355.611111\n",
        "seq2_autoGR                                   324.111111\n",
        "eye_2ndFixDur_Progress                        313.388889\n",
        "eye_1stFixDur_GR                              275.611111\n",
        "seq3_autoGR                                   268.277778\n",
        "eye_1stFixDur_Interactions                    251.666667\n",
        "eye_1stFixDur_Progress                        168.333333\n",
        "eye_1stFixDur_WhiteSpace                      149.000000\n",
        "seq2_GR-Interactions                          114.888889\n",
        "seq2_Interactions-HintText                     45.722222\n",
        "seq2_GR-Progress                               18.277778\n",
        "seq2_GR-HintText                               18.277778\n",
        "seq3_Interactions-GR-Interactions              16.777778\n",
        "seq2_GR-caption                                 6.333333\n",
        "seq3_GR-Interactions-GR                         4.777778\n",
        "seq3_Interactions-HintText-Interactions         4.333333\n",
        "seq3_HintText-Interactions-HintText             2.666667\n",
        "seq3_GR-caption-GR                              1.722222\n",
        "seq2_Interactions-Progress                      1.611111\n",
        "seq3_HintText-GR-HintText                       0.611111\n",
        "seq3_GR-HintText-GR                             0.444444\n",
        "seq3_Progress-Interactions-Progress             0.333333\n",
        "seq3_caption-GR-caption                         0.333333\n",
        "seq3_Progress-GR-Progress                       0.000000\n",
        "seq3_GR-Progress-GR                             0.000000\n",
        "seq3_betweenGRs                                 0.000000\n",
        "seq2_betweenGRs                                 0.000000\n",
        "Name: k5_0, dtype: float64\n"
       ]
      }
     ],
     "prompt_number": 20
    },
    {
     "cell_type": "code",
     "collapsed": false,
     "input": [
      "#normalize all feature averages with overall feature average\n",
      "df_cluster_averages_normalized = pd.DataFrame()\n",
      "for col in df_cluster_averages.columns:\n",
      "    df_cluster_averages_normalized[col] = df_cluster_averages[col].apply(lambda x: x/gaze_averages[col] * 100)"
     ],
     "language": "python",
     "metadata": {},
     "outputs": [],
     "prompt_number": 21
    },
    {
     "cell_type": "code",
     "collapsed": false,
     "input": [
      "print df_cluster_averages_normalized.loc['k5_0'].order(ascending=False)\n",
      "\n",
      "# df_cluster_averages_normalized.loc['k5_4']).order(ascending=False)"
     ],
     "language": "python",
     "metadata": {},
     "outputs": [
      {
       "output_type": "stream",
       "stream": "stdout",
       "text": [
        "seq3_HintText-Interactions-HintText        1021.946170\n",
        "seq3_autoGR                                 977.427747\n",
        "seq3_Interactions-HintText-Interactions     792.197531\n",
        "eye_2ndFixDur_Hints                         730.004168\n",
        "eye_fixDur_Hints                            715.950502\n",
        "eye_2ndFixDur_GR                            650.970426\n",
        "seq2_autoGR                                 648.337809\n",
        "seq3_GR-Interactions-GR                     647.887668\n",
        "eye_fixDur_GR                               638.326406\n",
        "seq2_Interactions-HintText                  611.943842\n",
        "seq2_GR-Interactions                        498.936790\n",
        "seq3_GR-caption-GR                          478.653654\n",
        "eye_2ndFixDur_Interactions                  407.207948\n",
        "eye_fixDur_Interactions                     406.717289\n",
        "seq3_Progress-Interactions-Progress         391.746032\n",
        "seq3_Interactions-GR-Interactions           333.716599\n",
        "seq2_GR-Progress                            317.136920\n",
        "seq2_GR-HintText                            317.136920\n",
        "seq2_Interactions-Progress                  304.925017\n",
        "eye_switch                                  291.075004\n",
        "eye_2ndFixDur_WhiteSpace                    275.705053\n",
        "eye_fixDur_WhiteSpace                       269.792515\n",
        "seq2_GR-caption                             267.923666\n",
        "seq3_caption-GR-caption                     265.376344\n",
        "eye_1stFixDur_Hints                         184.565486\n",
        "eye_2ndFixDur_Titles                        164.143274\n",
        "eye_1stFixDur_Interactions                  161.860386\n",
        "eye_fixDur_Titles                           160.283818\n",
        "seq3_HintText-GR-HintText                   156.130665\n",
        "seq3_GR-HintText-GR                         127.545220\n",
        "eye_1stFixDur_Progress                      124.576944\n",
        "eye_1stFixDur_Titles                        110.552608\n",
        "eye_fixDur_Progress                         102.106950\n",
        "eye_2ndFixDur_Progress                       93.088199\n",
        "eye_1stFixDur_WhiteSpace                     69.532432\n",
        "eye_1stFixDur_GR                             55.792089\n",
        "seq3_Progress-GR-Progress                     0.000000\n",
        "seq3_GR-Progress-GR                           0.000000\n",
        "seq3_betweenGRs                               0.000000\n",
        "seq2_betweenGRs                               0.000000\n",
        "Name: k5_0, dtype: float64\n",
        "\n"
       ]
      }
     ],
     "prompt_number": 23
    },
    {
     "cell_type": "markdown",
     "metadata": {},
     "source": [
      "##Research Questions\n",
      "\n",
      "1. What are the features of eye tracking that best predict performance? \n",
      "\n",
      "2. Multiple representations of concepts were provided within the tutor. Can an analysis make recommendations about the efficacy of each representation?\n",
      "\n",
      "3. Can we predict learning (Post-Pre knowledge) from eye tracking features?"
     ]
    }
   ],
   "metadata": {}
  }
 ]
}