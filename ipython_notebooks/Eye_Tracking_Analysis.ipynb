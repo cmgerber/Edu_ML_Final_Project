{
 "metadata": {
  "name": "",
  "signature": "sha256:0620df3f68e063437d2aefe8f3779d88fb7b28e5cd62f5b4a161a4790e5b5778"
 },
 "nbformat": 3,
 "nbformat_minor": 0,
 "worksheets": [
  {
   "cells": [
    {
     "cell_type": "heading",
     "level": 1,
     "metadata": {},
     "source": [
      "Eye Tracking and Knowledge"
     ]
    },
    {
     "cell_type": "code",
     "collapsed": false,
     "input": [
      "import pandas as pd\n",
      "import numpy as np\n",
      "import string\n",
      "import re\n",
      "import time\n",
      "import math\n",
      "%matplotlib inline\n",
      "import matplotlib.pyplot as plt\n",
      "from sklearn.metrics import confusion_matrix\n",
      "import pylab as pl\n",
      "# import seaborn\n",
      "from sklearn.naive_bayes import GaussianNB\n",
      "from sklearn.ensemble import RandomForestClassifier\n",
      "from sklearn.ensemble import ExtraTreesClassifier\n",
      "from sklearn.feature_selection import SelectKBest, chi2\n",
      "from sklearn.cross_validation import KFold\n",
      "from collections import defaultdict\n",
      "from sklearn.pipeline import Pipeline\n",
      "from sklearn.linear_model import LogisticRegression, LinearRegression\n",
      "from sklearn.preprocessing import StandardScaler\n",
      "from sklearn.feature_selection import RFE\n",
      "from sklearn.cluster import KMeans"
     ],
     "language": "python",
     "metadata": {},
     "outputs": [],
     "prompt_number": 1
    },
    {
     "cell_type": "heading",
     "level": 3,
     "metadata": {},
     "source": [
      "Load gaze and pupil data"
     ]
    },
    {
     "cell_type": "code",
     "collapsed": false,
     "input": [
      "df_gaze = pd.read_csv('../data/logsAndEye_09152014.csv', na_values=['None'])\n",
      "df_pupil = pd.read_csv('../data/pupilDiameters.csv', na_values=['None'])\n",
      "# df_pupil.head()"
     ],
     "language": "python",
     "metadata": {},
     "outputs": [],
     "prompt_number": 2
    },
    {
     "cell_type": "heading",
     "level": 3,
     "metadata": {},
     "source": [
      "Join datasets on subject_sync and add meta features"
     ]
    },
    {
     "cell_type": "code",
     "collapsed": false,
     "input": [
      "# datasets are joined with rows containing null values dropped\n",
      "df_all_data = df_gaze.merge(df_pupil, on='subject_sync').set_index('subject_sync').dropna()\n",
      "\n",
      "# clean up column names (for pupil cols)\n",
      "clean_columns = [name.replace(\" \",\"_\").replace(\"[\",\"\").replace(\"]\",\"\") for name in df_all_data.columns]\n",
      "df_all_data.columns = clean_columns\n",
      "\n",
      "students = set(df_all_data.student)\n",
      "for s in students:\n",
      "    df_all_data[s] = df_all_data.apply(lambda x: 1 if x.student == s else 0, axis=1)\n",
      "    \n",
      "problems = set(df_all_data.problem)\n",
      "for p in problems:\n",
      "    df_all_data[p] = df_all_data.apply(lambda x: 1 if x.problem == p else 0, axis=1)\n",
      "    \n",
      "prob_types = set(df_all_data.problemType)\n",
      "for p in prob_types:\n",
      "    df_all_data[p] = df_all_data.apply(lambda x: 1 if x.problemType == p else 0, axis=1)\n",
      "\n",
      "units = ['U1', 'U2', 'U3']\n",
      "for u in units:\n",
      "    df_all_data[u] = df_all_data.apply(lambda x: 1 if u in x.problem else 0, axis=1)\n"
     ],
     "language": "python",
     "metadata": {},
     "outputs": [],
     "prompt_number": 3
    },
    {
     "cell_type": "code",
     "collapsed": false,
     "input": [
      "df_all_data.columns"
     ],
     "language": "python",
     "metadata": {},
     "outputs": [
      {
       "metadata": {},
       "output_type": "pyout",
       "prompt_number": 144,
       "text": [
        "Index([u'student', u'problem', u'problemOrder', u'problemType', u'logs_Correct', u'logs_OverallIncorrect', u'logs_OverallHint', u'logs_FirstAttempt_Correct', u'logs_errorRate', u'logs_errorRate_medianSplit', u'logs_hintRate', u'logs_firstCorrectRate', u'logs_firstIncorrectRate', u'logs_firstIncorrectRate_medianSplit', u'eye_switch', u'eye_2ndFixDur_GR', u'eye_2ndFixDur_Interactions', u'eye_2ndFixDur_Titles', u'eye_2ndFixDur_Hints', u'eye_2ndFixDur_Progress', u'eye_2ndFixDur_WhiteSpace', u'eye_1stFixDur_GR', u'eye_1stFixDur_Interactions', u'eye_1stFixDur_Titles', u'eye_1stFixDur_Hints', u'eye_1stFixDur_Progress', u'eye_1stFixDur_WhiteSpace', u'eye_fixDur_GR', u'eye_fixDur_Interactions', u'eye_fixDur_Titles', u'eye_fixDur_Hints', u'eye_fixDur_Progress', u'eye_fixDur_WhiteSpace', u'seq2_betweenGRs', u'seq2_autoGR', u'seq2_GR-caption', u'seq2_GR-Interactions', u'seq2_GR-HintText', u'seq2_GR-Progress', u'seq2_Interactions-Progress', u'seq2_Interactions-HintText', u'seq3_betweenGRs', u'seq3_autoGR', u'seq3_GR-caption-GR', u'seq3_caption-GR-caption', u'seq3_GR-Interactions-GR', u'seq3_Interactions-GR-Interactions', u'seq3_GR-HintText-GR', u'seq3_HintText-GR-HintText', u'seq3_Interactions-HintText-Interactions', u'seq3_HintText-Interactions-HintText', u'seq3_GR-Progress-GR', u'seq3_Progress-GR-Progress', u'seq3_Progress-Interactions-Progress', u'pretest_sense', u'posttest1_sense', u'posttest2_sense', u'pretest_fluency', u'posttest1_fluency', u'posttest2_fluency', u'pretest_concScales', u'posttest1_concScales', u'posttest2_concScales', u'prePost_concScales', u'prePost_concScales_gainMedianSplit', u'pretest_sense_medianSplit', u'pretest_fluency_medianSplit', u'pretest_concScales_medianSplit', u'Average_Pupil_Diameter_mm', u'AveragePupil_Size_px_X', u'chem3', u'chem89', u'chem88', u'chem81', u'chem80', u'chem83', u'chem82', u'chem85', u'chem84', u'chem87', u'chem86', u'chem13', u'chem10', u'chem11', u'chem16', u'chem14', u'chem15', u'chem18', u'chem19', u'Chem50', u'chem38', u'chem39', u'chem34', u'chem36', u'chem37', u'chem30', u'chem31', u'chem32', u'chem33', u'chem58', ...], dtype='object')"
       ]
      }
     ],
     "prompt_number": 144
    },
    {
     "cell_type": "heading",
     "level": 2,
     "metadata": {},
     "source": [
      "K means clusters on Eye Tracking features"
     ]
    },
    {
     "cell_type": "code",
     "collapsed": false,
     "input": [
      "gaze_cols = [\n",
      " 'eye_switch',\n",
      " 'eye_2ndFixDur_GR',\n",
      " 'eye_2ndFixDur_Interactions',\n",
      " 'eye_2ndFixDur_Titles',\n",
      " 'eye_2ndFixDur_Hints', \n",
      " 'eye_2ndFixDur_Progress',\n",
      " 'eye_2ndFixDur_WhiteSpace',\n",
      " 'eye_1stFixDur_GR',\n",
      " 'eye_1stFixDur_Interactions',\n",
      " 'eye_1stFixDur_Titles',\n",
      " 'eye_1stFixDur_Hints',\n",
      " 'eye_1stFixDur_Progress',\n",
      " 'eye_1stFixDur_WhiteSpace',\n",
      " 'eye_fixDur_GR',\n",
      " 'eye_fixDur_Interactions',\n",
      " 'eye_fixDur_Titles',\n",
      " 'eye_fixDur_Hints', \n",
      " 'eye_fixDur_Progress',\n",
      " 'eye_fixDur_WhiteSpace',\n",
      " 'seq2_betweenGRs',\n",
      " 'seq2_autoGR',\n",
      " 'seq2_GR-caption',\n",
      " 'seq2_GR-Interactions',\n",
      " 'seq2_GR-HintText',\n",
      " 'seq2_GR-Progress',\n",
      " 'seq2_Interactions-Progress',\n",
      " 'seq2_Interactions-HintText',\n",
      " 'seq3_betweenGRs',\n",
      " 'seq3_autoGR', \n",
      " 'seq3_GR-caption-GR',\n",
      " 'seq3_caption-GR-caption',\n",
      " 'seq3_GR-Interactions-GR',\n",
      " 'seq3_Interactions-GR-Interactions',\n",
      " 'seq3_GR-HintText-GR',\n",
      " 'seq3_HintText-GR-HintText',\n",
      " 'seq3_Interactions-HintText-Interactions',\n",
      " 'seq3_HintText-Interactions-HintText',\n",
      " 'seq3_GR-Progress-GR',\n",
      " 'seq3_Progress-GR-Progress',\n",
      " 'seq3_Progress-Interactions-Progress']"
     ],
     "language": "python",
     "metadata": {},
     "outputs": [],
     "prompt_number": 4
    },
    {
     "cell_type": "code",
     "collapsed": false,
     "input": [
      "df_gaze_features = df_all_data[gaze_cols]\n",
      "df_cluster_features = pd.DataFrame(index=df_gaze_features.index)\n",
      "df_gaze_features = StandardScaler().fit_transform(df_gaze_features)\n",
      "\n",
      "\n",
      "for n in xrange(2,9):\n",
      "    k_means = KMeans(init='k-means++', n_clusters=n, n_init=10)\n",
      "    k_means.fit(df_gaze_features)\n",
      "    k_means_labels = k_means.labels_\n",
      "    k_means_cluster_centers = k_means.cluster_centers_\n",
      "    k_means_labels_unique = np.unique(k_means_labels)\n",
      "    \n",
      "    #create dataframe with cluster\n",
      "    for cluster in xrange(n):\n",
      "        label = 'k%d_%d' % (n, cluster)\n",
      "        df_cluster_features[label] = [1 if x == cluster else 0 for x in k_means_labels]\n",
      "        \n",
      "df_all_data = df_all_data.join(df_cluster_features)"
     ],
     "language": "python",
     "metadata": {},
     "outputs": [],
     "prompt_number": 5
    },
    {
     "cell_type": "code",
     "collapsed": false,
     "input": [
      "cluster_features = list(df_cluster_features.columns)"
     ],
     "language": "python",
     "metadata": {},
     "outputs": [],
     "prompt_number": 6
    },
    {
     "cell_type": "heading",
     "level": 2,
     "metadata": {},
     "source": [
      "Fill in values for meta features"
     ]
    },
    {
     "cell_type": "code",
     "collapsed": false,
     "input": [
      "(sorted(df_all_data.logs_firstCorrectRate))[309:312]"
     ],
     "language": "python",
     "metadata": {},
     "outputs": [
      {
       "metadata": {},
       "output_type": "pyout",
       "prompt_number": 7,
       "text": [
        "[0.58333333300000001, 0.58823529399999996, 0.58823529399999996]"
       ]
      }
     ],
     "prompt_number": 7
    },
    {
     "cell_type": "code",
     "collapsed": false,
     "input": [
      "(sorted(df_all_data.logs_firstCorrectRate))[821:]\n",
      "# (sorted(df_all_data.logs_firstCorrectRate))[820:]\n",
      "\n",
      "# 0.61538461499999997\n",
      "# 0.78260869599999994\n",
      "\n",
      "def assign_class_3(percent):\n",
      "    if percent <= 0.61538461499999997:\n",
      "        return 1\n",
      "    elif (percent < 0.78260869599999994) & (percent > 0.61538461499999997):    \n",
      "#     elif (percent < 0.80) & (percent >= 0.63):\n",
      "        return 2\n",
      "    else:\n",
      "        return 3 \n",
      "    \n",
      "df_all_data['firstCorrectThirdSplit'] = df_all_data.logs_firstCorrectRate.apply(assign_class_3)\n",
      "\n",
      "df_all_data.firstCorrectThirdSplit.value_counts()"
     ],
     "language": "python",
     "metadata": {},
     "outputs": [
      {
       "metadata": {},
       "output_type": "pyout",
       "prompt_number": 8,
       "text": [
        "3    413\n",
        "1    413\n",
        "2    408\n",
        "dtype: int64"
       ]
      }
     ],
     "prompt_number": 8
    },
    {
     "cell_type": "code",
     "collapsed": false,
     "input": [
      "#max likely class\n",
      "413.0/1234"
     ],
     "language": "python",
     "metadata": {},
     "outputs": [
      {
       "metadata": {},
       "output_type": "pyout",
       "prompt_number": 9,
       "text": [
        "0.3346839546191248"
       ]
      }
     ],
     "prompt_number": 9
    },
    {
     "cell_type": "code",
     "collapsed": false,
     "input": [
      "# list of all columns\n",
      "# [col for col in df_all_data.chem2]\n",
      "\n"
     ],
     "language": "python",
     "metadata": {},
     "outputs": [],
     "prompt_number": 45
    },
    {
     "cell_type": "code",
     "collapsed": false,
     "input": [
      "k8 = [k for k in cluster_features if 'k8' in k]\n",
      "k3 = [k for k in cluster_features if 'k3' in k]"
     ],
     "language": "python",
     "metadata": {},
     "outputs": [],
     "prompt_number": 44
    },
    {
     "cell_type": "code",
     "collapsed": false,
     "input": [
      "# FEATURE SELECTION\n",
      "\n",
      "feature_cols = [\n",
      " 'logs_Correct',\n",
      " 'eye_switch',\n",
      " 'eye_2ndFixDur_GR',\n",
      " 'eye_2ndFixDur_Interactions',\n",
      " 'eye_2ndFixDur_Titles',\n",
      " 'eye_2ndFixDur_Hints', #\n",
      " 'eye_2ndFixDur_Progress',\n",
      " 'eye_2ndFixDur_WhiteSpace',\n",
      " 'eye_1stFixDur_GR',\n",
      " 'eye_1stFixDur_Interactions',\n",
      " 'eye_1stFixDur_Titles',\n",
      " 'eye_1stFixDur_Hints',\n",
      " 'eye_1stFixDur_Progress',\n",
      " 'eye_1stFixDur_WhiteSpace',\n",
      " 'eye_fixDur_GR',\n",
      " 'eye_fixDur_Interactions',\n",
      " 'eye_fixDur_Titles',\n",
      " 'eye_fixDur_Hints', #\n",
      " 'eye_fixDur_Progress',\n",
      " 'eye_fixDur_WhiteSpace',\n",
      " 'seq2_betweenGRs',\n",
      " 'seq2_autoGR',\n",
      " 'seq2_GR-caption',\n",
      " 'seq2_GR-Interactions',\n",
      " 'seq2_GR-HintText',\n",
      " 'seq2_GR-Progress',\n",
      " 'seq2_Interactions-Progress',\n",
      " 'seq2_Interactions-HintText',\n",
      " 'seq3_betweenGRs',\n",
      " 'seq3_autoGR', #\n",
      " 'seq3_GR-caption-GR',\n",
      " 'seq3_caption-GR-caption',\n",
      " 'seq3_GR-Interactions-GR',\n",
      " 'seq3_Interactions-GR-Interactions',\n",
      " 'seq3_GR-HintText-GR',\n",
      " 'seq3_HintText-GR-HintText',\n",
      " 'seq3_Interactions-HintText-Interactions',\n",
      " 'seq3_HintText-Interactions-HintText',\n",
      " 'seq3_GR-Progress-GR',\n",
      " 'seq3_Progress-GR-Progress',\n",
      " 'seq3_Progress-Interactions-Progress',\n",
      " 'pretest_sense',\n",
      "#  'posttest1_sense',\n",
      "#  'posttest2_sense',\n",
      " 'pretest_fluency',\n",
      "#  'posttest1_fluency',\n",
      "#  'posttest2_fluency',\n",
      " 'pretest_concScales',\n",
      "#  'posttest1_concScales',\n",
      "#  'posttest2_concScales',\n",
      "#  'prePost_concScales',\n",
      " 'Average_Pupil_Diameter_mm']\n",
      "\n",
      "#choose an outcome variable\n",
      "# outcome_col = 'firstCorrectThirdSplit'\n",
      "# outcome_col = 'logs_errorRate_medianSplit' \n",
      "# oucome_col = 'logs_firstIncorrectRate_medianSplit'\n",
      "\n",
      "other_features = [\n",
      " 'logs_Correct',\n",
      " 'pretest_sense',\n",
      " 'pretest_fluency',\n",
      " 'pretest_concScales',\n",
      " 'Average_Pupil_Diameter_mm']\n",
      "\n",
      "for col in other_features:\n",
      "    df_all_data[col] = StandardScaler().fit_transform(df_all_data[col])\n",
      "\n",
      "df_all_data['prePost_concScales'] = StandardScaler().fit_transform(df_all_data['prePost_concScales'])\n",
      "\n",
      "selected_feature_cols = cluster_features + other_features + list(prob_types) + units + list(problems) #+ list(prob_types)#other_features + list(prob_types) + units + list(problems)\n",
      "# selected_feature_cols =  feature_cols + list(problems) + list(prob_types) + units\n",
      "\n",
      "df_features = df_all_data[selected_feature_cols]\n",
      "\n",
      "len(df_features.columns)\n"
     ],
     "language": "python",
     "metadata": {},
     "outputs": [
      {
       "metadata": {},
       "output_type": "pyout",
       "prompt_number": 76,
       "text": [
        "70"
       ]
      }
     ],
     "prompt_number": 76
    },
    {
     "cell_type": "code",
     "collapsed": false,
     "input": [
      "print list(set(df_all_data['logs_firstIncorrectRate_medianSplit'].value_counts()))\n",
      "print list(set(df_all_data['prePost_concScales_gainMedianSplit'].value_counts()))\n"
     ],
     "language": "python",
     "metadata": {},
     "outputs": [
      {
       "output_type": "stream",
       "stream": "stdout",
       "text": [
        "[637, 597]\n",
        "[612, 622]\n"
       ]
      }
     ],
     "prompt_number": 103
    },
    {
     "cell_type": "heading",
     "level": 2,
     "metadata": {},
     "source": [
      "Cross-validation function"
     ]
    },
    {
     "cell_type": "code",
     "collapsed": false,
     "input": [
      "# Cross-Validation Function\n",
      "def cv_fun(selected_predictors, outcome_feature):\n",
      "    scores = []\n",
      "    for train_idx, cv_idx in KFold(n=len(df_all_data[selected_predictors]), n_folds=4, indices=False, shuffle=True):\n",
      "        train_features = df_all_data[selected_predictors][train_idx]\n",
      "        train_y    = np.asarray(df_all_data[train_idx][outcome_feature])\n",
      "        test_features  = df_all_data[selected_predictors][cv_idx]\n",
      "        test_y     = np.asarray(list(df_all_data[cv_idx][outcome_feature]))\n",
      "        clf = LogisticRegression(penalty='l2')\n",
      "        clf.fit(train_features, train_y)\n",
      "#         clf.transform(train_features)\n",
      "        score = clf.score(test_features, test_y)    \n",
      "        scores.append(score)\n",
      "        \n",
      "        pred = clf.predict(test_features)\n",
      "        params = clf.get_params()\n",
      "        \n",
      "        labels = list(set(df_all_data[outcome_feature].values))\n",
      "    \n",
      "        coefficients = clf.coef_\n",
      "        if len(labels) > 2:\n",
      "            for c in xrange(len(labels)):\n",
      "                coefficient_dict = defaultdict(list)\n",
      "                for col, coef in zip(selected_feature_cols, coefficients[c]):    \n",
      "                    coefficient_dict[col].append(coef)\n",
      "                result = sorted(coefficient_dict.items(), key=lambda x: abs(x[1][0]), reverse=True)[:15]\n",
      "                for name, value in result:\n",
      "                    print name, \": \", value[0]\n",
      "                print \n",
      "                del coefficient_dict\n",
      "        else:\n",
      "            for c in [0]:\n",
      "                coefficient_dict = defaultdict(list)\n",
      "                for col, coef in zip(selected_feature_cols, coefficients[c]):    \n",
      "                    coefficient_dict[col].append(coef)\n",
      "                result = sorted(coefficient_dict.items(), key=lambda x: abs(x[1][0]), reverse=True)[:15]\n",
      "                for name, value in result:\n",
      "                    print name, \": \", value[0]\n",
      "                print \n",
      "                del coefficient_dict    \n",
      "        \n",
      "        cm = confusion_matrix(test_y, pred, labels)\n",
      "        print(cm)\n",
      "        fig = plt.figure()\n",
      "        ax = fig.add_subplot(111)\n",
      "        cax = ax.matshow(cm)\n",
      "        pl.title('Confusion matrix of the classifier')\n",
      "        fig.colorbar(cax)\n",
      "        ax.set_xticklabels([''] + labels)\n",
      "        ax.set_yticklabels([''] + labels)\n",
      "        pl.xlabel('Predicted')\n",
      "        pl.ylabel('True')\n",
      "        pl.show()\n",
      "        \n",
      "        print params\n",
      "        \n",
      "    return scores, np.mean(scores)\n",
      "\n",
      "# cv_fun(df_features, 'logs_errorRate_medianSplit')\n",
      "# cv_fun(df_features,'logs_firstIncorrectRate_medianSplit')"
     ],
     "language": "python",
     "metadata": {},
     "outputs": [],
     "prompt_number": 136
    },
    {
     "cell_type": "heading",
     "level": 2,
     "metadata": {},
     "source": [
      "Predicting firstIncorrectRate_medianSplit"
     ]
    },
    {
     "cell_type": "code",
     "collapsed": false,
     "input": [
      "selected_feature_cols = other_features + cluster_features #+ list(prob_types) + units + list(problems) #+ list(prob_types)#other_features + list(prob_types) + units + list(problems)\n",
      "\n",
      "cv_fun(selected_feature_cols,'logs_firstIncorrectRate_medianSplit')"
     ],
     "language": "python",
     "metadata": {},
     "outputs": [
      {
       "output_type": "stream",
       "stream": "stdout",
       "text": [
        "k8_3 :  1.17303534248\n",
        "k5_0 :  0.785308744737\n",
        "k5_3 :  -0.492058058187\n",
        "k8_2 :  -0.450232055103\n",
        "k6_0 :  0.406161219686\n",
        "k8_4 :  0.401257449791\n",
        "k8_7 :  -0.390778539818\n",
        "logs_Correct :  -0.363164299652\n",
        "pretest_concScales :  -0.324815899808\n",
        "k7_4 :  -0.269596272326\n",
        "k7_3 :  0.257462921927\n",
        "k6_4 :  0.257462921927\n",
        "k4_2 :  0.257462921927\n",
        "k5_1 :  0.257462921927\n",
        "k8_0 :  -0.254624086327\n",
        "\n",
        "[[ 94  60]\n",
        " [ 46 109]]\n"
       ]
      },
      {
       "metadata": {},
       "output_type": "display_data",
       "png": "[encoded data removed]",
       "text": [
        "<matplotlib.figure.Figure at 0x1098a2310>"
       ]
      },
      {
       "output_type": "stream",
       "stream": "stdout",
       "text": [
        "{'C': 1.0, 'intercept_scaling': 1, 'fit_intercept': True, 'penalty': 'l2', 'random_state': None, 'dual': False, 'tol': 0.0001, 'class_weight': None}\n",
        "k8_3 :  1.21607075757\n",
        "k7_0 :  0.844931938642\n",
        "k3_1 :  -0.569426205412\n",
        "k8_7 :  -0.564004995484\n",
        "k8_0 :  -0.532510031477\n",
        "k3_0 :  0.529006754188\n",
        "k2_0 :  0.526228469922\n",
        "k5_0 :  0.522816699247\n",
        "k8_2 :  -0.520258624884\n",
        "logs_Correct :  -0.494172095816\n",
        "k6_3 :  -0.487854406968\n",
        "k6_0 :  0.485280538269\n",
        "k7_3 :  0.459852268204\n",
        "k6_4 :  0.459852268204\n",
        "k4_2 :  0.459852268204\n",
        "\n",
        "[[ 99  48]\n",
        " [ 57 105]]\n"
       ]
      },
      {
       "metadata": {},
       "output_type": "display_data",
       "png": "[encoded data removed]",
       "text": [
        "<matplotlib.figure.Figure at 0x10373c2d0>"
       ]
      },
      {
       "output_type": "stream",
       "stream": "stdout",
       "text": [
        "{'C': 1.0, 'intercept_scaling': 1, 'fit_intercept': True, 'penalty': 'l2', 'random_state': None, 'dual': False, 'tol': 0.0001, 'class_weight': None}\n",
        "k8_3 :  0.843125735805\n",
        "k5_0 :  0.73608569748\n",
        "k2_0 :  0.576873582418\n",
        "k8_0 :  -0.541284438252\n",
        "k6_5 :  -0.461560310181\n",
        "k7_3 :  0.460220890464\n",
        "k6_4 :  0.460220890464\n",
        "k4_2 :  0.460220890464\n",
        "k5_1 :  0.460220890464\n",
        "logs_Correct :  -0.443667389878\n",
        "k5_2 :  -0.430026037052\n",
        "k7_5 :  -0.382352077162\n",
        "k8_7 :  -0.312487548803\n",
        "k3_2 :  0.311148129086\n",
        "k6_0 :  0.310009645875\n",
        "\n",
        "[[ 83  65]\n",
        " [ 48 112]]\n"
       ]
      },
      {
       "metadata": {},
       "output_type": "display_data",
       "png": "[encoded data removed]",
       "text": [
        "<matplotlib.figure.Figure at 0x109147f50>"
       ]
      },
      {
       "output_type": "stream",
       "stream": "stdout",
       "text": [
        "{'C': 1.0, 'intercept_scaling': 1, 'fit_intercept': True, 'penalty': 'l2', 'random_state': None, 'dual': False, 'tol': 0.0001, 'class_weight': None}\n",
        "k7_0 :  0.63640333195\n",
        "k8_7 :  -0.602809561736\n",
        "k8_3 :  0.570792021185\n",
        "k7_5 :  -0.50683584357\n",
        "k8_0 :  -0.506469376312\n",
        "k5_0 :  0.475632020979\n",
        "logs_Correct :  -0.452562491866\n",
        "k7_6 :  0.391277398588\n",
        "k8_5 :  0.374526836218\n",
        "k7_3 :  0.374140088564\n",
        "k6_4 :  0.374140088564\n",
        "k3_2 :  0.374140088564\n",
        "k4_2 :  0.374140088564\n",
        "k5_1 :  0.374140088564\n",
        "k8_4 :  0.366568372693\n",
        "\n",
        "[[108  40]\n",
        " [ 53 107]]\n"
       ]
      },
      {
       "metadata": {},
       "output_type": "display_data",
       "png": "[encoded data removed]",
       "text": [
        "<matplotlib.figure.Figure at 0x109147ed0>"
       ]
      },
      {
       "output_type": "stream",
       "stream": "stdout",
       "text": [
        "{'C': 1.0, 'intercept_scaling': 1, 'fit_intercept': True, 'penalty': 'l2', 'random_state': None, 'dual': False, 'tol': 0.0001, 'class_weight': None}\n"
       ]
      },
      {
       "metadata": {},
       "output_type": "pyout",
       "prompt_number": 137,
       "text": [
        "([0.65695792880258896,\n",
        "  0.66019417475728159,\n",
        "  0.63311688311688308,\n",
        "  0.69805194805194803],\n",
        " 0.66208023368217539)"
       ]
      }
     ],
     "prompt_number": 137
    },
    {
     "cell_type": "heading",
     "level": 3,
     "metadata": {},
     "source": [
      "Predicting First Correct performance (3 classes)"
     ]
    },
    {
     "cell_type": "code",
     "collapsed": false,
     "input": [
      "selected_feature_cols = other_features + cluster_features + list(prob_types) + units #+ units + list(problems) #+ list(prob_types)#other_features + list(prob_types) + units + list(problems)\n",
      "\n",
      "cv_fun(selected_feature_cols,'firstCorrectThirdSplit')"
     ],
     "language": "python",
     "metadata": {},
     "outputs": [
      {
       "output_type": "stream",
       "stream": "stdout",
       "text": [
        "individual :  -1.52731863122\n",
        "sense :  1.23314244763\n",
        "k7_0 :  0.739518424121\n",
        "k8_5 :  0.512133169381\n",
        "k7_5 :  -0.496965452673\n",
        "k8_4 :  -0.490691785332\n",
        "k4_0 :  -0.482919347191\n",
        "k7_2 :  -0.476013142072\n",
        "k8_3 :  0.475447919884\n",
        "k4_1 :  0.474437788335\n",
        "k6_1 :  -0.363560156194\n",
        "pretest_sense :  -0.277888541662\n",
        "fluency :  0.274828038957\n",
        "U3 :  0.212390333191\n",
        "k6_0 :  0.202221902024\n",
        "\n",
        "k3_1 :  -0.67936221987\n",
        "k8_4 :  0.625496594887\n",
        "k7_5 :  0.496937761887\n",
        "U2 :  -0.474033951667\n",
        "k6_3 :  -0.471387616002\n",
        "k3_0 :  0.441377331599\n",
        "k7_6 :  -0.425868934658\n",
        "k8_3 :  -0.423765015049\n",
        "k8_5 :  -0.420879280439\n",
        "k8_6 :  -0.390281075124\n",
        "k8_1 :  0.388499650046\n",
        "k6_1 :  0.335609948488\n",
        "k5_0 :  -0.325142146481\n",
        "logs_Correct :  0.302631844982\n",
        "k4_0 :  -0.247991435603\n",
        "\n",
        "sense :  -1.40156420796\n",
        "individual :  1.16927347278\n",
        "k7_0 :  -0.94138796369\n",
        "k3_0 :  -0.569815376946\n",
        "k7_2 :  0.556515889389\n",
        "k4_1 :  -0.54643983981\n",
        "U3 :  -0.487293911404\n",
        "k2_0 :  -0.385227590609\n",
        "k4_0 :  0.362016592854\n",
        "logs_Correct :  -0.336418825395\n",
        "k3_1 :  0.288393439983\n",
        "k8_4 :  -0.281678396569\n",
        "U2 :  0.277963306051\n",
        "k7_6 :  0.273756043842\n",
        "pretest_fluency :  0.234797661281\n",
        "\n",
        "[[65 19 22]\n",
        " [25 38 37]\n",
        " [15 32 56]]\n"
       ]
      },
      {
       "metadata": {},
       "output_type": "display_data",
       "png": "[encoded data removed]",
       "text": [
        "<matplotlib.figure.Figure at 0x109ef3a10>"
       ]
      },
      {
       "output_type": "stream",
       "stream": "stdout",
       "text": [
        "{'C': 1.0, 'intercept_scaling': 1, 'fit_intercept': True, 'penalty': 'l2', 'random_state': None, 'dual': False, 'tol': 0.0001, 'class_weight': None}\n",
        "individual :  -1.4420896509\n",
        "sense :  1.10735870313\n",
        "k5_4 :  -0.704517212844\n",
        "k8_3 :  0.665017962789\n",
        "k4_1 :  0.534828262936\n",
        "k8_2 :  -0.49937631158\n",
        "k5_0 :  0.423724433462\n",
        "k4_3 :  -0.385993666219\n",
        "k7_2 :  -0.377941901301\n",
        "k6_1 :  -0.363522976737\n",
        "k7_6 :  0.341415038571\n",
        "k4_0 :  -0.306028074691\n",
        "k6_2 :  0.268999827321\n",
        "pretest_concScales :  -0.265327062725\n",
        "fluency :  0.252420936256\n",
        "\n",
        "k7_6 :  -0.891314743795\n",
        "k5_4 :  0.723310959494\n",
        "k7_5 :  0.667653172632\n",
        "k6_1 :  0.58795630297\n",
        "k3_1 :  -0.4454695397\n",
        "k8_3 :  -0.429876255535\n",
        "k8_7 :  -0.401968779498\n",
        "U2 :  -0.379080240224\n",
        "k5_2 :  -0.353945837664\n",
        "sense :  -0.3500891714\n",
        "k2_1 :  -0.348420908961\n",
        "k4_3 :  0.347479773902\n",
        "k4_1 :  -0.339273292179\n",
        "k7_4 :  0.336604124158\n",
        "k6_0 :  -0.333127897565\n",
        "\n",
        "sense :  -1.19651960746\n",
        "individual :  1.03118523587\n",
        "k7_0 :  -0.839264128957\n",
        "k7_6 :  0.710243302934\n",
        "U3 :  -0.531466961676\n",
        "k7_5 :  -0.530874142061\n",
        "k3_0 :  -0.476515379977\n",
        "k8_7 :  0.456212015631\n",
        "k2_0 :  -0.434529360627\n",
        "k8_3 :  -0.370899196532\n",
        "k4_1 :  -0.346995993904\n",
        "k7_2 :  0.338927612889\n",
        "logs_Correct :  -0.319334088184\n",
        "k8_6 :  -0.311101959531\n",
        "k3_1 :  0.307050375206\n",
        "\n",
        "[[63 20 22]\n",
        " [23 33 42]\n",
        " [17 32 57]]\n"
       ]
      },
      {
       "metadata": {},
       "output_type": "display_data",
       "png": "[encoded data removed]",
       "text": [
        "<matplotlib.figure.Figure at 0x1037ca2d0>"
       ]
      },
      {
       "output_type": "stream",
       "stream": "stdout",
       "text": [
        "{'C': 1.0, 'intercept_scaling': 1, 'fit_intercept': True, 'penalty': 'l2', 'random_state': None, 'dual': False, 'tol': 0.0001, 'class_weight': None}\n",
        "individual :  -1.6430968008\n",
        "sense :  1.28105631409\n",
        "k8_3 :  0.978651611227\n",
        "k7_6 :  0.799092746912\n",
        "k4_1 :  0.650459689436\n",
        "k8_0 :  -0.604935583935\n",
        "k7_5 :  -0.488170225962\n",
        "k4_3 :  -0.46865381692\n",
        "k5_0 :  0.459454322407\n",
        "k8_4 :  -0.443145191571\n",
        "k5_4 :  -0.382422196408\n",
        "k6_1 :  -0.35816932009\n",
        "pretest_sense :  -0.312937883653\n",
        "k4_0 :  -0.310895688333\n",
        "U2 :  -0.301821071019\n",
        "\n",
        "k8_4 :  0.741081658835\n",
        "k8_3 :  -0.738232230666\n",
        "k7_6 :  -0.669492796831\n",
        "k7_2 :  -0.568450480303\n",
        "k5_0 :  -0.513560900344\n",
        "k8_7 :  -0.501870319559\n",
        "k3_1 :  -0.484106225542\n",
        "k5_4 :  0.461121003909\n",
        "k6_1 :  0.423577699919\n",
        "k3_2 :  0.420822114583\n",
        "k4_3 :  0.41593388689\n",
        "k7_5 :  0.375793888245\n",
        "k2_1 :  -0.364222316667\n",
        "k7_0 :  0.340654204426\n",
        "sense :  -0.321342204709\n",
        "\n",
        "sense :  -1.44991205346\n",
        "individual :  1.16512793605\n",
        "k7_2 :  0.583107104602\n",
        "k8_3 :  -0.571232729824\n",
        "k2_0 :  -0.548760671867\n",
        "k4_1 :  -0.507359728878\n",
        "k7_0 :  -0.462811831358\n",
        "logs_Correct :  -0.427535620223\n",
        "U3 :  -0.424832289127\n",
        "k8_7 :  0.412080315867\n",
        "k3_2 :  -0.407200577892\n",
        "k8_4 :  -0.391223161084\n",
        "k6_1 :  -0.373676366466\n",
        "k3_0 :  -0.34966527056\n",
        "k3_1 :  0.288936883498\n",
        "\n",
        "[[59 15 30]\n",
        " [32 35 36]\n",
        " [20 23 58]]\n"
       ]
      },
      {
       "metadata": {},
       "output_type": "display_data",
       "png": "[encoded data removed]",
       "text": [
        "<matplotlib.figure.Figure at 0x102960bd0>"
       ]
      },
      {
       "output_type": "stream",
       "stream": "stdout",
       "text": [
        "{'C': 1.0, 'intercept_scaling': 1, 'fit_intercept': True, 'penalty': 'l2', 'random_state': None, 'dual': False, 'tol': 0.0001, 'class_weight': None}\n",
        "individual :  -1.52221549326\n",
        "sense :  1.10171082656\n",
        "k8_3 :  0.654075102436\n",
        "k8_2 :  -0.593985463241\n",
        "k7_6 :  0.566033222591\n",
        "k4_3 :  -0.560041557116\n",
        "k8_0 :  -0.552438017129\n",
        "k4_1 :  0.547297391279\n",
        "k7_1 :  0.441958509477\n",
        "k7_2 :  -0.430663670694\n",
        "k7_4 :  -0.397860557571\n",
        "k8_5 :  0.373421259758\n",
        "k5_0 :  0.365873186147\n",
        "fluency :  0.353943762151\n",
        "k8_1 :  0.279108302981\n",
        "\n",
        "k7_6 :  -0.720125238046\n",
        "k4_3 :  0.553925358593\n",
        "k8_3 :  -0.51540376537\n",
        "k6_3 :  -0.500978481665\n",
        "k7_4 :  0.447010245819\n",
        "k7_0 :  0.409001755886\n",
        "k4_0 :  -0.408182891676\n",
        "logs_Correct :  0.382416701517\n",
        "k6_1 :  0.359714150603\n",
        "k7_2 :  -0.355579104062\n",
        "k8_2 :  0.355573156964\n",
        "k3_1 :  -0.351933106122\n",
        "U2 :  -0.325242426348\n",
        "k8_7 :  -0.316576438793\n",
        "k6_0 :  -0.29591485629\n",
        "\n",
        "sense :  -1.40403683794\n",
        "individual :  1.26327983609\n",
        "k7_0 :  -0.707724171981\n",
        "k7_2 :  0.702939109329\n",
        "k6_3 :  0.490528641356\n",
        "k5_0 :  -0.465686938793\n",
        "logs_Correct :  -0.432165412443\n",
        "k4_1 :  -0.427908961481\n",
        "k7_1 :  -0.422237596857\n",
        "k8_7 :  0.413370565858\n",
        "k6_1 :  -0.383587279826\n",
        "k8_4 :  -0.372926845397\n",
        "k8_3 :  -0.361230276785\n",
        "U3 :  -0.359548526869\n",
        "k3_2 :  -0.35800159833\n",
        "\n",
        "[[62 20 16]\n",
        " [23 39 45]\n",
        " [26 16 61]]\n"
       ]
      },
      {
       "metadata": {},
       "output_type": "display_data",
       "png": "[encoded data removed]",
       "text": [
        "<matplotlib.figure.Figure at 0x102967810>"
       ]
      },
      {
       "output_type": "stream",
       "stream": "stdout",
       "text": [
        "{'C': 1.0, 'intercept_scaling': 1, 'fit_intercept': True, 'penalty': 'l2', 'random_state': None, 'dual': False, 'tol': 0.0001, 'class_weight': None}\n"
       ]
      },
      {
       "metadata": {},
       "output_type": "pyout",
       "prompt_number": 141,
       "text": [
        "([0.5145631067961165,\n",
        "  0.49514563106796117,\n",
        "  0.4935064935064935,\n",
        "  0.52597402597402598],\n",
        " 0.50729731433614922)"
       ]
      }
     ],
     "prompt_number": 141
    },
    {
     "cell_type": "heading",
     "level": 2,
     "metadata": {},
     "source": [
      "Predicting Learning"
     ]
    },
    {
     "cell_type": "code",
     "collapsed": false,
     "input": [
      "selected_feature_cols = other_features + cluster_features + units # list(prob_types) + units + list(problems) #+ list(prob_types)#other_features + list(prob_types) + units + list(problems)\n",
      "\n",
      "cv_fun(selected_feature_cols,'prePost_concScales_gainMedianSplit')\n"
     ],
     "language": "python",
     "metadata": {},
     "outputs": [
      {
       "output_type": "stream",
       "stream": "stdout",
       "text": [
        "k8_1 :  1.44140706974\n",
        "pretest_concScales :  -0.957087567405\n",
        "k8_6 :  -0.814369434429\n",
        "k8_3 :  -0.601807377326\n",
        "k4_1 :  -0.562055829803\n",
        "k7_5 :  -0.53951571181\n",
        "k2_0 :  -0.377122044514\n",
        "k5_2 :  -0.37471088009\n",
        "k5_0 :  -0.364299665689\n",
        "k6_0 :  -0.354809586298\n",
        "k8_5 :  -0.333435009605\n",
        "k7_2 :  -0.305930156551\n",
        "k5_4 :  0.291229150414\n",
        "k7_6 :  0.284576418351\n",
        "k3_0 :  -0.273558490868\n",
        "\n",
        "[[105  48]\n",
        " [ 45 111]]\n"
       ]
      },
      {
       "metadata": {},
       "output_type": "display_data",
       "png": "[encoded data removed]",
       "text": [
        "<matplotlib.figure.Figure at 0x103661250>"
       ]
      },
      {
       "output_type": "stream",
       "stream": "stdout",
       "text": [
        "{'C': 1.0, 'intercept_scaling': 1, 'fit_intercept': True, 'penalty': 'l2', 'random_state': None, 'dual': False, 'tol': 0.0001, 'class_weight': None}\n",
        "pretest_concScales :  -1.01336960674\n",
        "k8_1 :  1.01334753753\n",
        "k8_3 :  -0.511085334323\n",
        "k5_3 :  0.477694277753\n",
        "k8_6 :  -0.468292783467\n",
        "k5_0 :  -0.439806413588\n",
        "k5_2 :  -0.398753345265\n",
        "k7_5 :  -0.357988538423\n",
        "k6_3 :  0.331836815898\n",
        "k7_2 :  -0.277074491492\n",
        "k7_0 :  0.238875162032\n",
        "k8_0 :  0.230558369145\n",
        "k6_2 :  -0.21108437744\n",
        "k7_3 :  0.203524674763\n",
        "k6_4 :  0.203524674763\n",
        "\n",
        "[[ 99  66]\n",
        " [ 42 102]]\n"
       ]
      },
      {
       "metadata": {},
       "output_type": "display_data",
       "png": "[encoded data removed]",
       "text": [
        "<matplotlib.figure.Figure at 0x102966450>"
       ]
      },
      {
       "output_type": "stream",
       "stream": "stdout",
       "text": [
        "{'C': 1.0, 'intercept_scaling': 1, 'fit_intercept': True, 'penalty': 'l2', 'random_state': None, 'dual': False, 'tol': 0.0001, 'class_weight': None}\n",
        "pretest_concScales :  -0.920594329457\n",
        "k5_0 :  -0.703431749109\n",
        "k8_6 :  -0.565015718566\n",
        "k8_1 :  0.544331197796\n",
        "k4_1 :  -0.531633928641\n",
        "k6_0 :  -0.480325821553\n",
        "k8_5 :  -0.425545532429\n",
        "k4_3 :  0.422163626439\n",
        "k5_3 :  0.409494466894\n",
        "k7_2 :  -0.403504966853\n",
        "k7_0 :  0.366767695508\n",
        "k8_0 :  0.327168618856\n",
        "k6_5 :  0.318697492555\n",
        "k7_5 :  -0.301567969906\n",
        "k6_3 :  0.235021244514\n",
        "\n",
        "[[108  48]\n",
        " [ 44 108]]\n"
       ]
      },
      {
       "metadata": {},
       "output_type": "display_data",
       "png": "[encoded data removed]",
       "text": [
        "<matplotlib.figure.Figure at 0x102983210>"
       ]
      },
      {
       "output_type": "stream",
       "stream": "stdout",
       "text": [
        "{'C': 1.0, 'intercept_scaling': 1, 'fit_intercept': True, 'penalty': 'l2', 'random_state': None, 'dual': False, 'tol': 0.0001, 'class_weight': None}\n",
        "pretest_concScales :  -0.965437693748\n",
        "k8_1 :  0.918975168138\n",
        "k7_5 :  -0.572059498099\n",
        "k4_0 :  0.513333607396\n",
        "k4_1 :  -0.43949855014\n",
        "k5_0 :  -0.428415601535\n",
        "k8_5 :  -0.41040349194\n",
        "k6_5 :  0.357043163431\n",
        "k6_0 :  -0.346961652501\n",
        "k8_2 :  -0.315319190758\n",
        "k8_3 :  -0.293963666873\n",
        "k7_6 :  0.281593243061\n",
        "k4_3 :  -0.276588738654\n",
        "k5_2 :  -0.276588738654\n",
        "k5_4 :  0.274635587114\n",
        "\n",
        "[[ 89  59]\n",
        " [ 38 122]]\n"
       ]
      },
      {
       "metadata": {},
       "output_type": "display_data",
       "png": "[encoded data removed]",
       "text": [
        "<matplotlib.figure.Figure at 0x10913bbd0>"
       ]
      },
      {
       "output_type": "stream",
       "stream": "stdout",
       "text": [
        "{'C': 1.0, 'intercept_scaling': 1, 'fit_intercept': True, 'penalty': 'l2', 'random_state': None, 'dual': False, 'tol': 0.0001, 'class_weight': None}\n"
       ]
      },
      {
       "metadata": {},
       "output_type": "pyout",
       "prompt_number": 142,
       "text": [
        "([0.69902912621359226,\n",
        "  0.65048543689320393,\n",
        "  0.70129870129870131,\n",
        "  0.68506493506493504],\n",
        " 0.68396954986760805)"
       ]
      }
     ],
     "prompt_number": 142
    },
    {
     "cell_type": "heading",
     "level": 2,
     "metadata": {},
     "source": [
      "Classification pipelines"
     ]
    },
    {
     "cell_type": "code",
     "collapsed": false,
     "input": [
      "# def nb(df_train):\n",
      "#     pipeline = Pipeline([\n",
      "# #         ('scaler', StandardScaler()),\n",
      "#         ('clf', GaussianNB())\n",
      "#     ])\n",
      "#     result = cv_fun(pipeline=pipeline)\n",
      "#     print \"NB average score:\", result[1]\n",
      "#     print \"NB scores:\", result[0]\n",
      "#     print \"stddev:\", np.std(result[0]) \n",
      "# #     print \"range:\", np.max(result[0]) - np.min(result[0])\n",
      "#     print\n",
      "    \n",
      "    \n",
      "# def max_ent(df_train):\n",
      "#     pipeline = Pipeline([\n",
      "# #         ('scaler', StandardScaler()),\n",
      "#         ('clf', LogisticRegression(penalty='l2'))\n",
      "#     ])\n",
      "#     result = cv_fun(pipeline=pipeline)\n",
      "#     print \"MaxEnt average score:\", result[1]\n",
      "#     print \"MaxEnt scores:\", result[0]\n",
      "#     print \"stddev:\", np.std(result[0])\n",
      "# #     print \"range:\", np.max(result[0]) - np.min(result[0])\n",
      "#     print\n",
      "\n",
      "    \n",
      "# def random_forest(df_train):\n",
      "#     pipeline = Pipeline([\n",
      "#         ('feature_selection', ExtraTreesClassifier()), # need way to print this, see which features picked\n",
      "#         ('clf', RandomForestClassifier())\n",
      "#     ])\n",
      "#     result = cv_fun(pipeline=pipeline)\n",
      "#     print \"RF average score:\", result[1]\n",
      "#     print \"RF scores:\", result[0]\n",
      "#     print \"stddev:\", np.std(result[0])\n",
      "# #     print \"range:\", np.max(result[0]) - np.min(result[0])\n",
      "#     print\n",
      "\n"
     ],
     "language": "python",
     "metadata": {},
     "outputs": [],
     "prompt_number": 12
    },
    {
     "cell_type": "code",
     "collapsed": false,
     "input": [
      "# Evaluate scores across k folds\n",
      "\n",
      "# nb(df_features)\n",
      "# max_ent(df_features)\n",
      "# random_forest(df_features) #(rf_feature_cols)"
     ],
     "language": "python",
     "metadata": {},
     "outputs": [],
     "prompt_number": 72
    },
    {
     "cell_type": "markdown",
     "metadata": {},
     "source": [
      "##Research Questions\n",
      "\n",
      "1. What are the features of eye tracking that best predict performance? \n",
      "\n",
      "2. Multiple representations of concepts were provided within the tutor. Can an analysis make recommendations about the efficacy of each representation?\n",
      "\n",
      "3. Can we predict learning (Post-Pre knowledge) from eye tracking features?"
     ]
    },
    {
     "cell_type": "code",
     "collapsed": false,
     "input": [
      "# Next TODOs:\n",
      "\n",
      "# Go back and inspect which rows were dropped with dropna(). Other outliers we need to take care of?\n",
      "\n",
      "# Improve feature selection to find most informative features\n",
      "# http://scikit-learn.org/stable/modules/feature_selection.html\n",
      "\n",
      "# problem type, unit, problem, student\n",
      "# 3 bins for outcome\n",
      "\n",
      "#predictive ability of pretest for top vs bottom?"
     ],
     "language": "python",
     "metadata": {},
     "outputs": []
    },
    {
     "cell_type": "code",
     "collapsed": false,
     "input": [
      "# # Refining Random Forest features\n",
      "\n",
      "# rf_feature_cols = [\n",
      "#  'logs_Correct',\n",
      "#  'eye_switch',\n",
      "#  'eye_2ndFixDur_GR',\n",
      "#  'eye_2ndFixDur_Interactions',\n",
      "#  'eye_2ndFixDur_Titles',\n",
      "# #  'eye_2ndFixDur_Hints', #\n",
      "#  'eye_2ndFixDur_Progress',\n",
      "#  'eye_2ndFixDur_WhiteSpace',\n",
      "#  'eye_1stFixDur_GR',\n",
      "#  'eye_1stFixDur_Interactions',\n",
      "#  'eye_1stFixDur_Titles',\n",
      "#  'eye_1stFixDur_Hints',\n",
      "#  'eye_1stFixDur_Progress',\n",
      "#  'eye_1stFixDur_WhiteSpace',\n",
      "#  'eye_fixDur_GR',\n",
      "#  'eye_fixDur_Interactions',\n",
      "#  'eye_fixDur_Titles',\n",
      "# #  'eye_fixDur_Hints', #\n",
      "#  'eye_fixDur_Progress',\n",
      "#  'eye_fixDur_WhiteSpace',\n",
      "#  'seq2_betweenGRs',\n",
      "#  'seq2_autoGR',\n",
      "#  'seq2_GR-caption',\n",
      "#  'seq2_GR-Interactions',\n",
      "#  'seq2_GR-HintText',\n",
      "#  'seq2_GR-Progress',\n",
      "#  'seq2_Interactions-Progress',\n",
      "# #  'seq2_Interactions-HintText',\n",
      "# #  'seq3_betweenGRs',\n",
      "#  'seq3_autoGR', #\n",
      "#  'seq3_GR-caption-GR',\n",
      "#  'seq3_caption-GR-caption',\n",
      "# #  'seq3_GR-Interactions-GR',\n",
      "#  'seq3_Interactions-GR-Interactions',\n",
      "#  'seq3_GR-HintText-GR',\n",
      "#  'seq3_HintText-GR-HintText',\n",
      "#  'seq3_Interactions-HintText-Interactions',\n",
      "#  'seq3_HintText-Interactions-HintText',\n",
      "#  'seq3_GR-Progress-GR',\n",
      "#  'seq3_Progress-GR-Progress',\n",
      "#  'seq3_Progress-Interactions-Progress',\n",
      "#  'pretest_sense',\n",
      "# #  'posttest1_sense',\n",
      "# #  'posttest2_sense',\n",
      "#  'pretest_fluency',\n",
      "# #  'posttest1_fluency',\n",
      "# #  'posttest2_fluency',\n",
      "#  'pretest_concScales',\n",
      "# #  'posttest1_concScales',\n",
      "# #  'posttest2_concScales',\n",
      "# #  'prePost_concScales',\n",
      "#  'Average_Pupil_Diameter_mm',\n",
      "#  'AveragePupil_Size_px_X']\n",
      "\n",
      "\n",
      "# df_rf_features = df_all_data[rf_feature_cols + list(problems) + list(students) + list(prob_types)]\n",
      "\n",
      "\n",
      "# # # Feature Importance with Random Forest / ExtraTreesClassifier and Cross-Validation\n",
      "# # importance_dict = defaultdict(list)\n",
      "# # for train_idx, cv_idx in KFold(n=len(df_rf_features), n_folds=12, indices=False, shuffle=True):\n",
      "# #     train_features = df_rf_features[train_idx]\n",
      "# #     train_y = np.asarray(df_all_data[train_idx][outcome_col])\n",
      "# #     test_features  = df_rf_features[cv_idx]\n",
      "# #     test_y = np.asarray(list(df_all_data[cv_idx][outcome_col]))\n",
      "\n",
      "# #     importances = clf.feature_importances_\n",
      "# #     for col, importance in zip(rf_feature_cols, importances):    \n",
      "# #         importance_dict[col].append(importance)\n",
      "\n",
      "# # # means are all pretty much the same between folds of a feature\n",
      "# # # [np.mean(importance_dict.values()) for key in importance_dict]\n",
      "\n",
      "# # sorted([(i ,importance_dict[i][0]) for i in importance_dict], key=lambda x: x[1], reverse=True)\n",
      "\n",
      "# # print [np.var(importance_dict[i]) for i in importance_dict]\n",
      "# #         if (importance > .03):\n",
      "# #             print col, importance\n",
      "        \n",
      "# #     print len([i for i in importances if i < .01])\n"
     ],
     "language": "python",
     "metadata": {},
     "outputs": []
    },
    {
     "cell_type": "code",
     "collapsed": false,
     "input": [
      "# rf_feature_cols = [\n",
      "#  'logs_Correct',\n",
      "#  'eye_fixDur_WhiteSpace',\n",
      "#  'eye_fixDur_Progress',\n",
      "#  'seq3_HintText-GR-HintText',\n",
      "#  'seq3_HintText-Interactions-HintText',\n",
      "#  'eye_2ndFixDur_Titles',\n",
      "#  'seq2_GR-caption',\n",
      "#  'eye_1stFixDur_Hints',\n",
      "#  'eye_2ndFixDur_GR',\n",
      "#  'seq3_GR-caption-GR',\n",
      "#  'eye_switch',\n",
      "#  'eye_fixDur_Interactions',\n",
      "#  'seq3_Progress-GR-Progress',\n",
      "#  'eye_fixDur_GR',\n",
      "#  'seq2_GR-Interactions',\n",
      "#  'eye_fixDur_Titles',\n",
      "#  'seq2_Interactions-Progress',\n",
      "#  'eye_1stFixDur_GR',\n",
      "#  'seq2_autoGR',\n",
      "#  'eye_1stFixDur_WhiteSpace',\n",
      "#  'eye_1stFixDur_Interactions',\n",
      "#  'eye_1stFixDur_Progress',\n",
      "#  'eye_2ndFixDur_Progress']\n",
      "\n",
      "# df_rf_features = df_all_data[rf_feature_cols + list(students)]"
     ],
     "language": "python",
     "metadata": {},
     "outputs": []
    }
   ],
   "metadata": {}
  }
 ]
}