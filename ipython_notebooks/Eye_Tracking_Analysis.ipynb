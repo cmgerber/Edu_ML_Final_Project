{
 "metadata": {
  "name": "",
  "signature": "sha256:c10af244870918243c671d47e0ce66767777309623a42eb744ee116d37f30328"
 },
 "nbformat": 3,
 "nbformat_minor": 0,
 "worksheets": [
  {
   "cells": [
    {
     "cell_type": "heading",
     "level": 1,
     "metadata": {},
     "source": [
      "Eye Tracking and Knowledge"
     ]
    },
    {
     "cell_type": "code",
     "collapsed": false,
     "input": [
      "import pandas as pd\n",
      "import numpy as np\n",
      "import string\n",
      "import re\n",
      "import time\n",
      "import math\n",
      "%matplotlib inline\n",
      "import matplotlib.pyplot as plt\n",
      "from sklearn.metrics import confusion_matrix\n",
      "import pylab as pl\n",
      "# import seaborn\n",
      "from sklearn.naive_bayes import GaussianNB\n",
      "from sklearn.ensemble import RandomForestClassifier\n",
      "from sklearn.ensemble import ExtraTreesClassifier\n",
      "from sklearn.feature_selection import SelectKBest, chi2\n",
      "from sklearn.cross_validation import KFold\n",
      "from collections import defaultdict\n",
      "from sklearn.pipeline import Pipeline\n",
      "from sklearn.linear_model import LogisticRegression, LinearRegression\n",
      "from sklearn.preprocessing import StandardScaler\n",
      "from sklearn.cluster import KMeans"
     ],
     "language": "python",
     "metadata": {},
     "outputs": [],
     "prompt_number": 1
    },
    {
     "cell_type": "heading",
     "level": 3,
     "metadata": {},
     "source": [
      "Load gaze and pupil data"
     ]
    },
    {
     "cell_type": "code",
     "collapsed": false,
     "input": [
      "df_gaze = pd.read_csv('../data/logsAndEye_09152014.csv', na_values=['None'])\n",
      "df_pupil = pd.read_csv('../data/pupilDiameters.csv', na_values=['None'])\n",
      "# df_pupil.head()"
     ],
     "language": "python",
     "metadata": {},
     "outputs": [],
     "prompt_number": 2
    },
    {
     "cell_type": "heading",
     "level": 3,
     "metadata": {},
     "source": [
      "Join datasets on subject_sync and add meta features"
     ]
    },
    {
     "cell_type": "code",
     "collapsed": false,
     "input": [
      "# datasets are joined with rows containing null values dropped\n",
      "df_all_data = df_gaze.merge(df_pupil, on='subject_sync').set_index('subject_sync').dropna()\n",
      "\n",
      "# clean up column names (for pupil cols)\n",
      "clean_columns = [name.replace(\" \",\"_\").replace(\"[\",\"\").replace(\"]\",\"\") for name in df_all_data.columns]\n",
      "df_all_data.columns = clean_columns\n",
      "\n",
      "students = set(df_all_data.student)\n",
      "for s in students:\n",
      "    df_all_data[s] = df_all_data.apply(lambda x: 1 if x.student == s else 0, axis=1)\n",
      "    \n",
      "problems = set(df_all_data.problem)\n",
      "for p in problems:\n",
      "    df_all_data[p] = df_all_data.apply(lambda x: 1 if x.problem == p else 0, axis=1)\n",
      "    \n",
      "prob_types = set(df_all_data.problemType)\n",
      "for p in prob_types:\n",
      "    df_all_data[p] = df_all_data.apply(lambda x: 1 if x.problemType == p else 0, axis=1)\n",
      "\n",
      "units = ['U1', 'U2', 'U3']\n",
      "for u in units:\n",
      "    df_all_data[u] = df_all_data.apply(lambda x: 1 if u in x.problem else 0, axis=1)\n"
     ],
     "language": "python",
     "metadata": {},
     "outputs": [],
     "prompt_number": 3
    },
    {
     "cell_type": "code",
     "collapsed": false,
     "input": [
      "df_all_data.columns"
     ],
     "language": "python",
     "metadata": {},
     "outputs": [
      {
       "metadata": {},
       "output_type": "pyout",
       "prompt_number": 4,
       "text": [
        "Index([u'student', u'problem', u'problemOrder', u'problemType', u'logs_Correct', u'logs_OverallIncorrect', u'logs_OverallHint', u'logs_FirstAttempt_Correct', u'logs_errorRate', u'logs_errorRate_medianSplit', u'logs_hintRate', u'logs_firstCorrectRate', u'logs_firstIncorrectRate', u'logs_firstIncorrectRate_medianSplit', u'eye_switch', u'eye_2ndFixDur_GR', u'eye_2ndFixDur_Interactions', u'eye_2ndFixDur_Titles', u'eye_2ndFixDur_Hints', u'eye_2ndFixDur_Progress', u'eye_2ndFixDur_WhiteSpace', u'eye_1stFixDur_GR', u'eye_1stFixDur_Interactions', u'eye_1stFixDur_Titles', u'eye_1stFixDur_Hints', u'eye_1stFixDur_Progress', u'eye_1stFixDur_WhiteSpace', u'eye_fixDur_GR', u'eye_fixDur_Interactions', u'eye_fixDur_Titles', u'eye_fixDur_Hints', u'eye_fixDur_Progress', u'eye_fixDur_WhiteSpace', u'seq2_betweenGRs', u'seq2_autoGR', u'seq2_GR-caption', u'seq2_GR-Interactions', u'seq2_GR-HintText', u'seq2_GR-Progress', u'seq2_Interactions-Progress', u'seq2_Interactions-HintText', u'seq3_betweenGRs', u'seq3_autoGR', u'seq3_GR-caption-GR', u'seq3_caption-GR-caption', u'seq3_GR-Interactions-GR', u'seq3_Interactions-GR-Interactions', u'seq3_GR-HintText-GR', u'seq3_HintText-GR-HintText', u'seq3_Interactions-HintText-Interactions', u'seq3_HintText-Interactions-HintText', u'seq3_GR-Progress-GR', u'seq3_Progress-GR-Progress', u'seq3_Progress-Interactions-Progress', u'pretest_sense', u'posttest1_sense', u'posttest2_sense', u'pretest_fluency', u'posttest1_fluency', u'posttest2_fluency', u'pretest_concScales', u'posttest1_concScales', u'posttest2_concScales', u'prePost_concScales', u'prePost_concScales_gainMedianSplit', u'pretest_sense_medianSplit', u'pretest_fluency_medianSplit', u'pretest_concScales_medianSplit', u'Average_Pupil_Diameter_mm', u'AveragePupil_Size_px_X', u'chem3', u'chem89', u'chem88', u'chem81', u'chem80', u'chem83', u'chem82', u'chem85', u'chem84', u'chem87', u'chem86', u'chem13', u'chem10', u'chem11', u'chem16', u'chem14', u'chem15', u'chem18', u'chem19', u'Chem50', u'chem38', u'chem39', u'chem34', u'chem36', u'chem37', u'chem30', u'chem31', u'chem32', u'chem33', u'chem58', ...], dtype='object')"
       ]
      }
     ],
     "prompt_number": 4
    },
    {
     "cell_type": "heading",
     "level": 2,
     "metadata": {},
     "source": [
      "K means clusters on Eye Tracking features"
     ]
    },
    {
     "cell_type": "code",
     "collapsed": false,
     "input": [
      "gaze_cols = [\n",
      " 'eye_switch',\n",
      " 'eye_2ndFixDur_GR',\n",
      " 'eye_2ndFixDur_Interactions',\n",
      " 'eye_2ndFixDur_Titles',\n",
      " 'eye_2ndFixDur_Hints', \n",
      " 'eye_2ndFixDur_Progress',\n",
      " 'eye_2ndFixDur_WhiteSpace',\n",
      " 'eye_1stFixDur_GR',\n",
      " 'eye_1stFixDur_Interactions',\n",
      " 'eye_1stFixDur_Titles',\n",
      " 'eye_1stFixDur_Hints',\n",
      " 'eye_1stFixDur_Progress',\n",
      " 'eye_1stFixDur_WhiteSpace',\n",
      " 'eye_fixDur_GR',\n",
      " 'eye_fixDur_Interactions',\n",
      " 'eye_fixDur_Titles',\n",
      " 'eye_fixDur_Hints', \n",
      " 'eye_fixDur_Progress',\n",
      " 'eye_fixDur_WhiteSpace',\n",
      " 'seq2_betweenGRs',\n",
      " 'seq2_autoGR',\n",
      " 'seq2_GR-caption',\n",
      " 'seq2_GR-Interactions',\n",
      " 'seq2_GR-HintText',\n",
      " 'seq2_GR-Progress',\n",
      " 'seq2_Interactions-Progress',\n",
      " 'seq2_Interactions-HintText',\n",
      " 'seq3_betweenGRs',\n",
      " 'seq3_autoGR', \n",
      " 'seq3_GR-caption-GR',\n",
      " 'seq3_caption-GR-caption',\n",
      " 'seq3_GR-Interactions-GR',\n",
      " 'seq3_Interactions-GR-Interactions',\n",
      " 'seq3_GR-HintText-GR',\n",
      " 'seq3_HintText-GR-HintText',\n",
      " 'seq3_Interactions-HintText-Interactions',\n",
      " 'seq3_HintText-Interactions-HintText',\n",
      " 'seq3_GR-Progress-GR',\n",
      " 'seq3_Progress-GR-Progress',\n",
      " 'seq3_Progress-Interactions-Progress']"
     ],
     "language": "python",
     "metadata": {},
     "outputs": [],
     "prompt_number": 5
    },
    {
     "cell_type": "code",
     "collapsed": false,
     "input": [
      "df_gaze_features = df_all_data[gaze_cols]\n",
      "df_cluster_features = pd.DataFrame(index=df_gaze_features.index)\n",
      "df_gaze_features = StandardScaler().fit_transform(df_gaze_features)\n",
      "\n",
      "\n",
      "for n in xrange(2,9):\n",
      "    k_means = KMeans(init='k-means++', n_clusters=n, n_init=10)\n",
      "    k_means.fit(df_gaze_features)\n",
      "    k_means_labels = k_means.labels_\n",
      "    k_means_cluster_centers = k_means.cluster_centers_\n",
      "    k_means_labels_unique = np.unique(k_means_labels)\n",
      "    \n",
      "    #create dataframe with cluster\n",
      "    for cluster in xrange(n):\n",
      "        label = 'k%d_%d' % (n, cluster)\n",
      "        df_cluster_features[label] = [1 if x == cluster else 0 for x in k_means_labels]\n",
      "        \n",
      "df_all_data = df_all_data.join(df_cluster_features)"
     ],
     "language": "python",
     "metadata": {},
     "outputs": [],
     "prompt_number": 6
    },
    {
     "cell_type": "code",
     "collapsed": false,
     "input": [
      "cluster_features = list(df_cluster_features.columns)"
     ],
     "language": "python",
     "metadata": {},
     "outputs": [],
     "prompt_number": 7
    },
    {
     "cell_type": "heading",
     "level": 2,
     "metadata": {},
     "source": [
      "Fill in values for meta features"
     ]
    },
    {
     "cell_type": "code",
     "collapsed": false,
     "input": [
      "(sorted(df_all_data.logs_firstCorrectRate))[309:312]"
     ],
     "language": "python",
     "metadata": {},
     "outputs": [
      {
       "metadata": {},
       "output_type": "pyout",
       "prompt_number": 8,
       "text": [
        "[0.58333333300000001, 0.58823529399999996, 0.58823529399999996]"
       ]
      }
     ],
     "prompt_number": 8
    },
    {
     "cell_type": "code",
     "collapsed": false,
     "input": [
      "(sorted(df_all_data.logs_firstCorrectRate))[821:]\n",
      "# (sorted(df_all_data.logs_firstCorrectRate))[820:]\n",
      "\n",
      "# 0.61538461499999997\n",
      "# 0.78260869599999994\n",
      "\n",
      "def assign_class_3(percent):\n",
      "    if percent <= 0.61538461499999997:\n",
      "        return 1\n",
      "    elif (percent < 0.78260869599999994) & (percent > 0.61538461499999997):    \n",
      "#     elif (percent < 0.80) & (percent >= 0.63):\n",
      "        return 2\n",
      "    else:\n",
      "        return 3 \n",
      "    \n",
      "df_all_data['firstCorrectThirdSplit'] = df_all_data.logs_firstCorrectRate.apply(assign_class_3)\n",
      "\n",
      "df_all_data.firstCorrectThirdSplit.value_counts()"
     ],
     "language": "python",
     "metadata": {},
     "outputs": [
      {
       "metadata": {},
       "output_type": "pyout",
       "prompt_number": 9,
       "text": [
        "3    413\n",
        "1    413\n",
        "2    408\n",
        "dtype: int64"
       ]
      }
     ],
     "prompt_number": 9
    },
    {
     "cell_type": "code",
     "collapsed": false,
     "input": [
      "#max likely class\n",
      "637.0/1234"
     ],
     "language": "python",
     "metadata": {},
     "outputs": [
      {
       "metadata": {},
       "output_type": "pyout",
       "prompt_number": 141,
       "text": [
        "0.5162074554294975"
       ]
      }
     ],
     "prompt_number": 141
    },
    {
     "cell_type": "code",
     "collapsed": false,
     "input": [
      "# to reference cluster groups\n",
      "k3 = [k for k in cluster_features if 'k3' in k]\n",
      "k7 = [k for k in cluster_features if 'k7' in k]\n",
      "k5 = [k for k in cluster_features if 'k5' in k]\n",
      "k8 = [k for k in cluster_features if 'k8' in k]"
     ],
     "language": "python",
     "metadata": {},
     "outputs": [],
     "prompt_number": 98
    },
    {
     "cell_type": "code",
     "collapsed": false,
     "input": [
      "# FEATURE SELECTION\n",
      "\n",
      "feature_cols = [\n",
      " 'logs_Correct',\n",
      " 'eye_switch',\n",
      " 'eye_2ndFixDur_GR',\n",
      " 'eye_2ndFixDur_Interactions',\n",
      " 'eye_2ndFixDur_Titles',\n",
      " 'eye_2ndFixDur_Hints', #\n",
      " 'eye_2ndFixDur_Progress',\n",
      " 'eye_2ndFixDur_WhiteSpace',\n",
      " 'eye_1stFixDur_GR',\n",
      " 'eye_1stFixDur_Interactions',\n",
      " 'eye_1stFixDur_Titles',\n",
      " 'eye_1stFixDur_Hints',\n",
      " 'eye_1stFixDur_Progress',\n",
      " 'eye_1stFixDur_WhiteSpace',\n",
      " 'eye_fixDur_GR',\n",
      " 'eye_fixDur_Interactions',\n",
      " 'eye_fixDur_Titles',\n",
      " 'eye_fixDur_Hints', #\n",
      " 'eye_fixDur_Progress',\n",
      " 'eye_fixDur_WhiteSpace',\n",
      " 'seq2_betweenGRs',\n",
      " 'seq2_autoGR',\n",
      " 'seq2_GR-caption',\n",
      " 'seq2_GR-Interactions',\n",
      " 'seq2_GR-HintText',\n",
      " 'seq2_GR-Progress',\n",
      " 'seq2_Interactions-Progress',\n",
      " 'seq2_Interactions-HintText',\n",
      " 'seq3_betweenGRs',\n",
      " 'seq3_autoGR', #\n",
      " 'seq3_GR-caption-GR',\n",
      " 'seq3_caption-GR-caption',\n",
      " 'seq3_GR-Interactions-GR',\n",
      " 'seq3_Interactions-GR-Interactions',\n",
      " 'seq3_GR-HintText-GR',\n",
      " 'seq3_HintText-GR-HintText',\n",
      " 'seq3_Interactions-HintText-Interactions',\n",
      " 'seq3_HintText-Interactions-HintText',\n",
      " 'seq3_GR-Progress-GR',\n",
      " 'seq3_Progress-GR-Progress',\n",
      " 'seq3_Progress-Interactions-Progress',\n",
      " 'pretest_sense',\n",
      "#  'posttest1_sense',\n",
      "#  'posttest2_sense',\n",
      " 'pretest_fluency',\n",
      "#  'posttest1_fluency',\n",
      "#  'posttest2_fluency',\n",
      " 'pretest_concScales',\n",
      "#  'posttest1_concScales',\n",
      "#  'posttest2_concScales',\n",
      "#  'prePost_concScales',\n",
      " 'Average_Pupil_Diameter_mm']\n",
      "\n",
      "#choose an outcome variable\n",
      "# outcome_col = 'firstCorrectThirdSplit'\n",
      "# outcome_col = 'logs_errorRate_medianSplit' \n",
      "# oucome_col = 'logs_firstIncorrectRate_medianSplit'\n",
      "\n",
      "other_features = [\n",
      " 'logs_Correct',\n",
      " 'pretest_sense',\n",
      " 'pretest_fluency',\n",
      " 'pretest_concScales',\n",
      " 'Average_Pupil_Diameter_mm']\n",
      "\n",
      "for col in other_features:\n",
      "    df_all_data[col] = StandardScaler().fit_transform(df_all_data[col])\n",
      "\n",
      "df_all_data['prePost_concScales'] = StandardScaler().fit_transform(df_all_data['prePost_concScales'])\n",
      "\n",
      "selected_feature_cols = cluster_features + other_features + list(prob_types) + units + list(problems) #+ list(prob_types)#other_features + list(prob_types) + units + list(problems)\n",
      "# selected_feature_cols =  feature_cols + list(problems) + list(prob_types) + units\n",
      "\n",
      "df_features = df_all_data[selected_feature_cols]\n",
      "\n",
      "len(df_features.columns)\n"
     ],
     "language": "python",
     "metadata": {},
     "outputs": [
      {
       "metadata": {},
       "output_type": "pyout",
       "prompt_number": 99,
       "text": [
        "70"
       ]
      }
     ],
     "prompt_number": 99
    },
    {
     "cell_type": "code",
     "collapsed": false,
     "input": [
      "print list(set(df_all_data['logs_firstIncorrectRate_medianSplit'].value_counts()))\n",
      "print list(set(df_all_data['prePost_concScales_gainMedianSplit'].value_counts()))\n"
     ],
     "language": "python",
     "metadata": {},
     "outputs": [
      {
       "output_type": "stream",
       "stream": "stdout",
       "text": [
        "[637, 597]\n",
        "[612, 622]\n"
       ]
      }
     ],
     "prompt_number": 14
    },
    {
     "cell_type": "heading",
     "level": 2,
     "metadata": {},
     "source": [
      "Cross-validation function"
     ]
    },
    {
     "cell_type": "code",
     "collapsed": false,
     "input": [
      "# Cross-Validation Function\n",
      "def cv_fun(selected_predictors, outcome_feature):\n",
      "    scores = []\n",
      "    for train_idx, cv_idx in KFold(n=len(df_all_data[selected_predictors]), n_folds=4, indices=False, shuffle=True):\n",
      "        train_features = df_all_data[selected_predictors][train_idx]\n",
      "        train_y    = np.asarray(df_all_data[train_idx][outcome_feature])\n",
      "        test_features  = df_all_data[selected_predictors][cv_idx]\n",
      "        test_y     = np.asarray(list(df_all_data[cv_idx][outcome_feature]))\n",
      "        clf = LogisticRegression(penalty='l2')\n",
      "        clf.fit(train_features, train_y)\n",
      "        score = clf.score(test_features, test_y)    \n",
      "        scores.append(score)\n",
      "        \n",
      "        pred = clf.predict(test_features)\n",
      "        params = clf.get_params()\n",
      "        \n",
      "        labels = list(set(df_all_data[outcome_feature].values))\n",
      "    \n",
      "        coefficients = clf.coef_\n",
      "        if len(labels) > 2:\n",
      "            for c in xrange(len(labels)):\n",
      "                coefficient_dict = defaultdict(list)\n",
      "                for col, coef in zip(selected_feature_cols, coefficients[c]):    \n",
      "                    coefficient_dict[col].append(coef)\n",
      "                result = sorted(coefficient_dict.items(), key=lambda x: abs(x[1][0]), reverse=True)[:15]\n",
      "                for name, value in result:\n",
      "                    print name, \": \", value[0]\n",
      "                print \n",
      "                del coefficient_dict\n",
      "        else:\n",
      "            for c in [0]:\n",
      "                coefficient_dict = defaultdict(list)\n",
      "                for col, coef in zip(selected_feature_cols, coefficients[c]):    \n",
      "                    coefficient_dict[col].append(coef)\n",
      "                result = sorted(coefficient_dict.items(), key=lambda x: abs(x[1][0]), reverse=True)[:15]\n",
      "                for name, value in result:\n",
      "                    print name, \": \", value[0]\n",
      "                print \n",
      "                del coefficient_dict    \n",
      "        \n",
      "        cm = confusion_matrix(test_y, pred, labels)\n",
      "        print(cm)\n",
      "        fig = plt.figure()\n",
      "        ax = fig.add_subplot(111)\n",
      "        cax = ax.matshow(cm)\n",
      "        pl.title('Confusion matrix of the classifier')\n",
      "        fig.colorbar(cax)\n",
      "        ax.set_xticklabels([''] + labels)\n",
      "        ax.set_yticklabels([''] + labels)\n",
      "        pl.xlabel('Predicted')\n",
      "        pl.ylabel('True')\n",
      "        pl.show()\n",
      "        \n",
      "        print params\n",
      "        \n",
      "    return scores, np.mean(scores)\n",
      "\n",
      "# cv_fun(df_features, 'logs_errorRate_medianSplit')\n",
      "# cv_fun(df_features,'logs_firstIncorrectRate_medianSplit')"
     ],
     "language": "python",
     "metadata": {},
     "outputs": [],
     "prompt_number": 108
    },
    {
     "cell_type": "heading",
     "level": 2,
     "metadata": {},
     "source": [
      "Predicting firstIncorrectRate_medianSplit"
     ]
    },
    {
     "cell_type": "code",
     "collapsed": false,
     "input": [
      "selected_feature_cols = other_features + k5 + units + list(problems)#+ list(prob_types) + units + list(problems) #+ list(prob_types)#other_features + list(prob_types) + units + list(problems)\n",
      "\n",
      "cv_fun(selected_feature_cols,'logs_firstIncorrectRate_medianSplit')"
     ],
     "language": "python",
     "metadata": {},
     "outputs": [
      {
       "output_type": "stream",
       "stream": "stdout",
       "text": [
        "start_U1_I2_1 :  -2.1840003877\n",
        "start_U2_S2_1 :  1.84374502446\n",
        "start_U3_I3_1 :  1.41705364111\n",
        "start_U3_F2_1 :  1.25669488066\n",
        "start_U3_I1_1 :  -1.15915086007\n",
        "start_U2_I2_1 :  -1.00357528255\n",
        "start_U3_F1_1 :  -0.992945928513\n",
        "k5_0 :  0.983911245369\n",
        "start_U1_F2_1 :  0.936820276464\n",
        "start_U1_S1_1 :  0.923483164928\n",
        "start_U2_S1_1 :  0.792859418083\n",
        "start_U1_I3_1 :  0.777436937558\n",
        "start_U1_F3_1 :  0.687974235618\n",
        "start_U1_F1_1 :  -0.625270767295\n",
        "U3 :  0.59118435811\n",
        "\n",
        "[[110  34]\n",
        " [ 46 119]]\n"
       ]
      },
      {
       "metadata": {},
       "output_type": "display_data",
       "png": "[encoded data removed]",
       "text": [
        "<matplotlib.figure.Figure at 0x1096a9d10>"
       ]
      },
      {
       "output_type": "stream",
       "stream": "stdout",
       "text": [
        "{'C': 1.0, 'intercept_scaling': 1, 'fit_intercept': True, 'penalty': 'l2', 'random_state': None, 'dual': False, 'tol': 0.0001, 'class_weight': None}\n",
        "start_U1_I2_1 :  -2.31330488555\n",
        "start_U2_S1_1 :  1.70819897689\n",
        "start_U3_I3_1 :  1.48981138994\n",
        "start_U2_S2_1 :  1.35093758597\n",
        "start_U3_F1_1 :  -1.34407515699\n",
        "start_U3_I1_1 :  -1.27516549748\n",
        "start_U3_F2_1 :  1.2650191752\n",
        "start_U1_F3_1 :  1.01536468884\n",
        "start_U1_S1_1 :  0.971333945877\n",
        "start_U2_I3_1 :  -0.956974011421\n",
        "start_U1_F2_1 :  0.931944082207\n",
        "start_U2_I1_1 :  -0.913876479915\n",
        "start_U2_I2_1 :  -0.90961185495\n",
        "k5_0 :  0.835822540239\n",
        "k5_1 :  -0.639549331389\n",
        "\n",
        "[[109  44]\n",
        " [ 45 111]]\n"
       ]
      },
      {
       "metadata": {},
       "output_type": "display_data",
       "png": "[encoded data removed]",
       "text": [
        "<matplotlib.figure.Figure at 0x1094d43d0>"
       ]
      },
      {
       "output_type": "stream",
       "stream": "stdout",
       "text": [
        "{'C': 1.0, 'intercept_scaling': 1, 'fit_intercept': True, 'penalty': 'l2', 'random_state': None, 'dual': False, 'tol': 0.0001, 'class_weight': None}\n",
        "start_U1_I2_1 :  -1.93556179833\n",
        "start_U2_S2_1 :  1.6960729988\n",
        "start_U3_I3_1 :  1.32179800771\n",
        "start_U3_I1_1 :  -1.22341070238\n",
        "start_U3_F1_1 :  -1.16626979717\n",
        "start_U3_F2_1 :  1.080878024\n",
        "start_U2_S1_1 :  1.01915164257\n",
        "start_U1_S1_1 :  0.911897596488\n",
        "start_U1_F1_1 :  -0.904711474874\n",
        "start_U2_I2_1 :  -0.866017388958\n",
        "k5_0 :  0.847131236952\n",
        "start_U2_F2_1 :  -0.82460881516\n",
        "start_U1_F3_1 :  0.813980814103\n",
        "start_U2_I3_1 :  -0.805249669892\n",
        "start_U1_F2_1 :  0.716385762059\n",
        "\n",
        "[[102  46]\n",
        " [ 43 117]]\n"
       ]
      },
      {
       "metadata": {},
       "output_type": "display_data",
       "png": "[encoded data removed]",
       "text": [
        "<matplotlib.figure.Figure at 0x1096b50d0>"
       ]
      },
      {
       "output_type": "stream",
       "stream": "stdout",
       "text": [
        "{'C': 1.0, 'intercept_scaling': 1, 'fit_intercept': True, 'penalty': 'l2', 'random_state': None, 'dual': False, 'tol': 0.0001, 'class_weight': None}\n",
        "start_U1_I2_1 :  -1.88034501651\n",
        "start_U2_S2_1 :  1.6343719228\n",
        "start_U3_I1_1 :  -1.47622920915\n",
        "start_U3_I3_1 :  1.42954331045\n",
        "start_U3_F2_1 :  1.35950478765\n",
        "start_U1_S1_1 :  1.31608323717\n",
        "start_U3_F1_1 :  -1.03704728378\n",
        "start_U2_I2_1 :  -0.893533266989\n",
        "k5_3 :  0.832270945606\n",
        "k5_0 :  0.767177047606\n",
        "start_U2_F1_1 :  0.754010067926\n",
        "U3 :  0.696179950404\n",
        "start_U1_F1_1 :  -0.663488971154\n",
        "start_U2_I1_1 :  -0.630733897901\n",
        "start_U2_F2_1 :  -0.60825562236\n",
        "\n",
        "[[104  48]\n",
        " [ 47 109]]\n"
       ]
      },
      {
       "metadata": {},
       "output_type": "display_data",
       "png": "[encoded data removed]",
       "text": [
        "<matplotlib.figure.Figure at 0x1005971d0>"
       ]
      },
      {
       "output_type": "stream",
       "stream": "stdout",
       "text": [
        "{'C': 1.0, 'intercept_scaling': 1, 'fit_intercept': True, 'penalty': 'l2', 'random_state': None, 'dual': False, 'tol': 0.0001, 'class_weight': None}\n"
       ]
      },
      {
       "metadata": {},
       "output_type": "pyout",
       "prompt_number": 152,
       "text": [
        "([0.74110032362459544,\n",
        "  0.71197411003236244,\n",
        "  0.71103896103896103,\n",
        "  0.69155844155844159],\n",
        " 0.71391795906359012)"
       ]
      }
     ],
     "prompt_number": 152
    },
    {
     "cell_type": "heading",
     "level": 3,
     "metadata": {},
     "source": [
      "Predicting First Correct performance (3 classes)"
     ]
    },
    {
     "cell_type": "code",
     "collapsed": false,
     "input": [
      "# not very helpful\n",
      "\n",
      "# selected_feature_cols = other_features + cluster_features + list(prob_types) + units #+ units + list(problems) #+ list(prob_types)#other_features + list(prob_types) + units + list(problems)\n",
      "\n",
      "# cv_fun(selected_feature_cols,'firstCorrectThirdSplit')"
     ],
     "language": "python",
     "metadata": {},
     "outputs": [],
     "prompt_number": 151
    },
    {
     "cell_type": "heading",
     "level": 2,
     "metadata": {},
     "source": [
      "Predicting Learning"
     ]
    },
    {
     "cell_type": "markdown",
     "metadata": {},
     "source": [
      "Larger pupil diameter.... slightly predicted learning gains?"
     ]
    },
    {
     "cell_type": "code",
     "collapsed": false,
     "input": [
      "selected_feature_cols = other_features + k5 + units + list(prob_types)# + units + list(problems) #+ list(prob_types)#other_features + list(prob_types) + units + list(problems)\n",
      "\n",
      "cv_fun(selected_feature_cols,'prePost_concScales_gainMedianSplit')\n"
     ],
     "language": "python",
     "metadata": {},
     "outputs": [
      {
       "output_type": "stream",
       "stream": "stdout",
       "text": [
        "pretest_concScales :  -0.982629871989\n",
        "sense :  -0.344165749241\n",
        "fluency :  0.175714518855\n",
        "pretest_sense :  0.173866778712\n",
        "k5_1 :  -0.162608919603\n",
        "k5_3 :  -0.161664466397\n",
        "Average_Pupil_Diameter_mm :  0.148872227061\n",
        "individual :  0.140598756747\n",
        "k5_2 :  0.136478829945\n",
        "logs_Correct :  -0.112872771317\n",
        "k5_4 :  0.107941977937\n",
        "pretest_fluency :  -0.0948486584044\n",
        "U1 :  -0.0635981294994\n",
        "k5_0 :  0.0520001044784\n",
        "U2 :  0.0298945763399\n",
        "\n",
        "[[ 93  72]\n",
        " [ 36 108]]\n"
       ]
      },
      {
       "metadata": {},
       "output_type": "display_data",
       "png": "[encoded data removed]",
       "text": [
        "<matplotlib.figure.Figure at 0x1096ac910>"
       ]
      },
      {
       "output_type": "stream",
       "stream": "stdout",
       "text": [
        "{'C': 1.0, 'intercept_scaling': 1, 'fit_intercept': True, 'penalty': 'l2', 'random_state': None, 'dual': False, 'tol': 0.0001, 'class_weight': None}\n",
        "pretest_concScales :  -0.929064136267\n",
        "k5_0 :  0.481622020087\n",
        "fluency :  0.398252520554\n",
        "k5_2 :  -0.324632219394\n",
        "individual :  -0.212159958259\n",
        "sense :  -0.144314631201\n",
        "pretest_sense :  0.131419336668\n",
        "k5_1 :  -0.120498242022\n",
        "logs_Correct :  0.116200241904\n",
        "pretest_fluency :  0.0703580032007\n",
        "k5_4 :  0.0643902196838\n",
        "k5_3 :  -0.0591038472593\n",
        "U1 :  0.0465908959712\n",
        "U3 :  -0.0374654249759\n",
        "U2 :  0.0326524600999\n",
        "\n",
        "[[101  48]\n",
        " [ 51 109]]\n"
       ]
      },
      {
       "metadata": {},
       "output_type": "display_data",
       "png": "[encoded data removed]",
       "text": [
        "<matplotlib.figure.Figure at 0x109617a50>"
       ]
      },
      {
       "output_type": "stream",
       "stream": "stdout",
       "text": [
        "{'C': 1.0, 'intercept_scaling': 1, 'fit_intercept': True, 'penalty': 'l2', 'random_state': None, 'dual': False, 'tol': 0.0001, 'class_weight': None}\n",
        "pretest_concScales :  -0.989185436121\n",
        "fluency :  0.346815392094\n",
        "k5_1 :  -0.334611387012\n",
        "k5_0 :  0.320894509832\n",
        "sense :  -0.20368186087\n",
        "k5_4 :  0.163541530551\n",
        "k5_3 :  -0.149649555376\n",
        "individual :  -0.119814614356\n",
        "Average_Pupil_Diameter_mm :  0.115604690076\n",
        "pretest_sense :  0.0861243074983\n",
        "logs_Correct :  -0.0414267222439\n",
        "pretest_fluency :  -0.036435351861\n",
        "U1 :  -0.0342635882149\n",
        "U2 :  0.0314485082168\n",
        "U3 :  0.0261339968664\n",
        "\n",
        "[[105  62]\n",
        " [ 40 101]]\n"
       ]
      },
      {
       "metadata": {},
       "output_type": "display_data",
       "png": "[encoded data removed]",
       "text": [
        "<matplotlib.figure.Figure at 0x1096ac910>"
       ]
      },
      {
       "output_type": "stream",
       "stream": "stdout",
       "text": [
        "{'C': 1.0, 'intercept_scaling': 1, 'fit_intercept': True, 'penalty': 'l2', 'random_state': None, 'dual': False, 'tol': 0.0001, 'class_weight': None}\n",
        "pretest_concScales :  -0.958264418579\n",
        "fluency :  0.232379422135\n",
        "sense :  -0.223347294163\n",
        "Average_Pupil_Diameter_mm :  0.150114548482\n",
        "pretest_sense :  0.140344646335\n",
        "k5_0 :  0.107354160861\n",
        "k5_2 :  -0.0926638748063\n",
        "k5_1 :  -0.08236079552\n",
        "individual :  -0.0614787225373\n",
        "logs_Correct :  -0.0574290068474\n",
        "k5_4 :  0.0530986530229\n",
        "pretest_fluency :  0.0449717753383\n",
        "U1 :  -0.0389845438339\n",
        "k5_3 :  -0.0378747381231\n",
        "U2 :  -0.0235035753207\n",
        "\n",
        "[[ 94  47]\n",
        " [ 49 118]]\n"
       ]
      },
      {
       "metadata": {},
       "output_type": "display_data",
       "png": "[encoded data removed]",
       "text": [
        "<matplotlib.figure.Figure at 0x1095c68d0>"
       ]
      },
      {
       "output_type": "stream",
       "stream": "stdout",
       "text": [
        "{'C': 1.0, 'intercept_scaling': 1, 'fit_intercept': True, 'penalty': 'l2', 'random_state': None, 'dual': False, 'tol': 0.0001, 'class_weight': None}\n"
       ]
      },
      {
       "metadata": {},
       "output_type": "pyout",
       "prompt_number": 150,
       "text": [
        "([0.65048543689320393,\n",
        "  0.67961165048543692,\n",
        "  0.66883116883116878,\n",
        "  0.68831168831168832],\n",
        " 0.67180998613037446)"
       ]
      }
     ],
     "prompt_number": 150
    },
    {
     "cell_type": "code",
     "collapsed": false,
     "input": [
      "df_gaze_features = df_all_data[gaze_cols]\n",
      "df_gaze_features_clusters = df_gaze_features.join(df_cluster_features)\n",
      "\n",
      "#get averages for all the gaze clusters\n",
      "gaze_averages = {col:df_gaze_features[col].mean() for col in df_gaze_features.columns}\n",
      "\n",
      "df_cluster_averages = pd.DataFrame()\n",
      "for cluster in df_cluster_features.columns:\n",
      "    for clust, data in df_gaze_features_clusters.groupby(cluster):\n",
      "        if clust == 1:\n",
      "            #create a df of the averaged features values across a\n",
      "            #cluster and then add them to a total dict\n",
      "            df_temp = pd.DataFrame(data.mean()).T\n",
      "            df_temp.index = [cluster]\n",
      "            df_cluster_averages = df_cluster_averages.append(df_temp)\n",
      "            \n",
      "#get rid of cluster columns\n",
      "df_cluster_averages = df_cluster_averages[df_gaze_features.columns]"
     ],
     "language": "python",
     "metadata": {},
     "outputs": [],
     "prompt_number": 24
    },
    {
     "cell_type": "code",
     "collapsed": false,
     "input": [
      "#normalize all feature averages with overall feature average\n",
      "df_cluster_averages_normalized = pd.DataFrame()\n",
      "for col in df_cluster_averages.columns:\n",
      "    df_cluster_averages_normalized[col] = df_cluster_averages[col].apply(lambda x: x/gaze_averages[col] * 100)"
     ],
     "language": "python",
     "metadata": {},
     "outputs": [],
     "prompt_number": 142
    },
    {
     "cell_type": "code",
     "collapsed": false,
     "input": [
      "# sorted(df_cluster_averages_normalized.loc['k7_4'], key=lambda x: x.values, reverse=True)\n",
      "\n",
      "#Low performer\n",
      "# df_cluster_averages_normalized.loc['k8_4'].order(ascending=False)\n",
      "\n",
      "\n",
      "# k7_4 :  0.914385386197\n",
      "# k5_3 :  0.73932175283\n",
      "# k3_2 :  -0.699737906044\n",
      "# k7_2 :  -0.616550063428\n",
      "# k8_6 :  -0.590497018636\n",
      "\n",
      "# learning\n",
      "# k5_3 :  -0.607725766533\n",
      "# k5_4 :  0.458159218159\n",
      "\n",
      "(df_cluster_averages_normalized.loc['k5_0'] - df_cluster_averages_normalized.loc['k5_3']).order(ascending=False)\n",
      "\n",
      "# k5_3 :  0.820401258562\n",
      "# k8_6 :  -0.785071416066\n",
      "\n",
      "#median split\n",
      "# k7_6 :  1.40764706061\n",
      "# start_U2_S2_1 :  1.36874521897\n",
      "# start_U2_I2_1 :  -1.19106373638\n",
      "# k7_4 :  1.05081482547\n",
      "# start_U1_F2_1 :  0.813825837334\n",
      "# start_U3_I2_1 :  0.784231313816\n",
      "# start_U2_I1_1 :  -0.778347338105\n",
      "# start_U1_S1_1 :  0.744097169493\n",
      "# start_U3_I1_1 :  -0.724358468803\n",
      "# k7_3 :  -0.718354261922\n",
      "\n",
      "\n",
      "# k5_1 :  -0.76907411314\n",
      "# k5_0 :  0.756966514716\n",
      "\n",
      "# k5_0 :  0.829974314924\n",
      "# k5_1 :  -0.750500635363\n",
      "# k5_3 :  0.716071929977\n",
      "\n",
      "print 'Low Achievers:'\n",
      "print df_cluster_averages_normalized.loc['k5_0'].order(ascending=False)\n",
      "print\n",
      "print df_cluster_averages_normalized.loc['k5_3'].order(ascending=False)\n",
      "print\n",
      "print 'High Achievers:'\n",
      "print df_cluster_averages_normalized.loc['k5_1'].order(ascending=False)\n",
      "print\n",
      "\n",
      "\n",
      "\n",
      "# df_cluster_averages_normalized.loc['k5_4']).order(ascending=False)"
     ],
     "language": "python",
     "metadata": {},
     "outputs": [
      {
       "output_type": "stream",
       "stream": "stdout",
       "text": [
        "Low Achievers:\n",
        "seq3_HintText-Interactions-HintText        1021.946170\n",
        "seq3_autoGR                                 977.427747\n",
        "seq3_Interactions-HintText-Interactions     792.197531\n",
        "eye_2ndFixDur_Hints                         730.004168\n",
        "eye_fixDur_Hints                            715.950502\n",
        "eye_2ndFixDur_GR                            650.970426\n",
        "seq2_autoGR                                 648.337809\n",
        "seq3_GR-Interactions-GR                     647.887668\n",
        "eye_fixDur_GR                               638.326406\n",
        "seq2_Interactions-HintText                  611.943842\n",
        "seq2_GR-Interactions                        498.936790\n",
        "seq3_GR-caption-GR                          478.653654\n",
        "eye_2ndFixDur_Interactions                  407.207948\n",
        "eye_fixDur_Interactions                     406.717289\n",
        "seq3_Progress-Interactions-Progress         391.746032\n",
        "seq3_Interactions-GR-Interactions           333.716599\n",
        "seq2_GR-Progress                            317.136920\n",
        "seq2_GR-HintText                            317.136920\n",
        "seq2_Interactions-Progress                  304.925017\n",
        "eye_switch                                  291.075004\n",
        "eye_2ndFixDur_WhiteSpace                    275.705053\n",
        "eye_fixDur_WhiteSpace                       269.792515\n",
        "seq2_GR-caption                             267.923666\n",
        "seq3_caption-GR-caption                     265.376344\n",
        "eye_1stFixDur_Hints                         184.565486\n",
        "eye_2ndFixDur_Titles                        164.143274\n",
        "eye_1stFixDur_Interactions                  161.860386\n",
        "eye_fixDur_Titles                           160.283818\n",
        "seq3_HintText-GR-HintText                   156.130665\n",
        "seq3_GR-HintText-GR                         127.545220\n",
        "eye_1stFixDur_Progress                      124.576944\n",
        "eye_1stFixDur_Titles                        110.552608\n",
        "eye_fixDur_Progress                         102.106950\n",
        "eye_2ndFixDur_Progress                       93.088199\n",
        "eye_1stFixDur_WhiteSpace                     69.532432\n",
        "eye_1stFixDur_GR                             55.792089\n",
        "seq3_Progress-GR-Progress                     0.000000\n",
        "seq3_GR-Progress-GR                           0.000000\n",
        "seq3_betweenGRs                               0.000000\n",
        "seq2_betweenGRs                               0.000000\n",
        "Name: k5_0, dtype: float64\n",
        "\n",
        "eye_2ndFixDur_Titles                       379.743697\n",
        "eye_fixDur_Titles                          367.234096\n",
        "eye_1stFixDur_Titles                       206.041027\n",
        "seq3_caption-GR-caption                    199.032258\n",
        "eye_1stFixDur_Interactions                 149.630718\n",
        "seq2_GR-caption                            149.345010\n",
        "eye_1stFixDur_GR                           141.773412\n",
        "seq3_Interactions-GR-Interactions          137.725905\n",
        "seq3_GR-caption-GR                         136.858449\n",
        "seq2_GR-Interactions                       123.604637\n",
        "eye_1stFixDur_Progress                     114.984183\n",
        "eye_2ndFixDur_Hints                        112.248234\n",
        "eye_fixDur_Hints                           111.947621\n",
        "eye_fixDur_Interactions                    110.164557\n",
        "eye_2ndFixDur_Interactions                 110.085472\n",
        "seq2_Interactions-HintText                 102.508874\n",
        "eye_switch                                 101.470541\n",
        "eye_1stFixDur_Hints                        100.581101\n",
        "eye_1stFixDur_WhiteSpace                    88.562993\n",
        "seq3_GR-Interactions-GR                     85.266400\n",
        "seq3_GR-Progress-GR                         80.264769\n",
        "eye_fixDur_Progress                         78.320070\n",
        "seq3_HintText-GR-HintText                   73.549156\n",
        "eye_fixDur_GR                               70.106501\n",
        "eye_2ndFixDur_GR                            68.550956\n",
        "seq3_autoGR                                 64.614122\n",
        "seq3_HintText-Interactions-HintText         63.871636\n",
        "eye_2ndFixDur_Progress                      63.604243\n",
        "seq2_autoGR                                 62.283831\n",
        "eye_fixDur_WhiteSpace                       60.613550\n",
        "eye_2ndFixDur_WhiteSpace                    59.788362\n",
        "seq2_GR-Progress                            56.259161\n",
        "seq2_GR-HintText                            56.259161\n",
        "seq3_Progress-GR-Progress                   54.991087\n",
        "seq3_GR-HintText-GR                         50.003524\n",
        "seq3_Interactions-HintText-Interactions     48.473625\n",
        "seq2_betweenGRs                             27.189065\n",
        "seq2_Interactions-Progress                  10.036717\n",
        "seq3_betweenGRs                              9.137728\n",
        "seq3_Progress-Interactions-Progress          8.903319\n",
        "Name: k5_3, dtype: float64\n",
        "\n",
        "High Achievers:\n",
        "seq3_betweenGRs                            408.884967\n",
        "seq2_betweenGRs                            394.084830\n",
        "seq3_Progress-GR-Progress                  380.707528\n",
        "seq3_GR-Progress-GR                        357.377976\n",
        "seq3_GR-HintText-GR                        351.195316\n",
        "seq3_HintText-GR-HintText                  336.777715\n",
        "seq2_GR-Progress                           321.478030\n",
        "seq2_GR-HintText                           321.478030\n",
        "eye_2ndFixDur_Progress                     255.378363\n",
        "eye_2ndFixDur_GR                           221.978298\n",
        "eye_fixDur_GR                              220.493624\n",
        "eye_fixDur_Progress                        217.649708\n",
        "seq2_autoGR                                215.255159\n",
        "eye_2ndFixDur_WhiteSpace                   207.980745\n",
        "eye_fixDur_WhiteSpace                      205.308080\n",
        "seq3_autoGR                                181.275382\n",
        "eye_switch                                 159.751744\n",
        "seq2_GR-caption                            153.388024\n",
        "eye_1stFixDur_GR                           152.091822\n",
        "seq3_caption-GR-caption                    139.183397\n",
        "eye_1stFixDur_Progress                     123.649711\n",
        "eye_1stFixDur_WhiteSpace                   114.783826\n",
        "eye_1stFixDur_Hints                        113.012453\n",
        "seq3_GR-caption-GR                         109.810685\n",
        "eye_fixDur_Hints                           109.034112\n",
        "eye_2ndFixDur_Hints                        108.928895\n",
        "eye_1stFixDur_Titles                        76.227183\n",
        "eye_fixDur_Titles                           44.538767\n",
        "eye_2ndFixDur_Titles                        42.079545\n",
        "seq3_GR-Interactions-GR                      1.422424\n",
        "eye_1stFixDur_Interactions                   0.566695\n",
        "seq2_GR-Interactions                         0.561828\n",
        "seq3_Interactions-GR-Interactions            0.278187\n",
        "seq2_Interactions-HintText                   0.140391\n",
        "eye_fixDur_Interactions                      0.134810\n",
        "eye_2ndFixDur_Interactions                   0.133944\n",
        "seq3_Progress-Interactions-Progress          0.000000\n",
        "seq3_HintText-Interactions-HintText          0.000000\n",
        "seq3_Interactions-HintText-Interactions      0.000000\n",
        "seq2_Interactions-Progress                   0.000000\n",
        "Name: k5_1, dtype: float64\n",
        "\n"
       ]
      }
     ],
     "prompt_number": 149
    },
    {
     "cell_type": "code",
     "collapsed": false,
     "input": [
      "# Next TODOs:\n",
      "\n",
      "# Go back and inspect which rows were dropped with dropna(). Other outliers we need to take care of?\n",
      "\n",
      "# Improve feature selection to find most informative features\n",
      "# http://scikit-learn.org/stable/modules/feature_selection.html\n",
      "\n",
      "# problem type, unit, problem, student\n",
      "# 3 bins for outcome\n",
      "\n",
      "#predictive ability of pretest for top vs bottom?"
     ],
     "language": "python",
     "metadata": {},
     "outputs": [],
     "prompt_number": 21
    },
    {
     "cell_type": "markdown",
     "metadata": {},
     "source": [
      "##Research Questions\n",
      "\n",
      "1. What are the features of eye tracking that best predict performance? \n",
      "\n",
      "2. Multiple representations of concepts were provided within the tutor. Can an analysis make recommendations about the efficacy of each representation?\n",
      "\n",
      "3. Can we predict learning (Post-Pre knowledge) from eye tracking features?"
     ]
    }
   ],
   "metadata": {}
  }
 ]
}