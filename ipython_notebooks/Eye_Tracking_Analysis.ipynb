{
 "metadata": {
  "name": "",
  "signature": "sha256:43d85c7d2687ac747ffd3f11f3097523a1d49508741c96cb6bdb870dec455092"
 },
 "nbformat": 3,
 "nbformat_minor": 0,
 "worksheets": [
  {
   "cells": [
    {
     "cell_type": "heading",
     "level": 1,
     "metadata": {},
     "source": [
      "Eye Tracking and Knowledge"
     ]
    },
    {
     "cell_type": "code",
     "collapsed": false,
     "input": [
      "import pandas as pd\n",
      "import numpy as np\n",
      "import string\n",
      "import re\n",
      "import time\n",
      "import math\n",
      "%matplotlib inline\n",
      "import matplotlib.pyplot as plt\n",
      "from sklearn.metrics import confusion_matrix\n",
      "import pylab as pl\n",
      "# import seaborn\n",
      "from sklearn.naive_bayes import GaussianNB\n",
      "from sklearn.ensemble import RandomForestClassifier\n",
      "from sklearn.ensemble import ExtraTreesClassifier\n",
      "from sklearn.feature_selection import SelectKBest, chi2\n",
      "from sklearn.cross_validation import KFold\n",
      "from collections import defaultdict\n",
      "from sklearn.pipeline import Pipeline\n",
      "from sklearn.linear_model import LogisticRegression\n",
      "from sklearn.preprocessing import StandardScaler\n",
      "from sklearn.feature_selection import RFE\n",
      "from sklearn.cluster import KMeans"
     ],
     "language": "python",
     "metadata": {},
     "outputs": [],
     "prompt_number": 1
    },
    {
     "cell_type": "heading",
     "level": 3,
     "metadata": {},
     "source": [
      "Load gaze and pupil data"
     ]
    },
    {
     "cell_type": "code",
     "collapsed": false,
     "input": [
      "df_gaze = pd.read_csv('../data/logsAndEye_09152014.csv', na_values=['None'])\n",
      "df_pupil = pd.read_csv('../data/pupilDiameters.csv', na_values=['None'])\n",
      "# df_pupil.head()"
     ],
     "language": "python",
     "metadata": {},
     "outputs": [],
     "prompt_number": 2
    },
    {
     "cell_type": "heading",
     "level": 3,
     "metadata": {},
     "source": [
      "Join datasets on subject_sync and add meta features"
     ]
    },
    {
     "cell_type": "code",
     "collapsed": false,
     "input": [
      "# datasets are joined with rows containing null values dropped\n",
      "df_all_data = df_gaze.merge(df_pupil, on='subject_sync').set_index('subject_sync').dropna()\n",
      "\n",
      "# clean up column names (for pupil cols)\n",
      "clean_columns = [name.replace(\" \",\"_\").replace(\"[\",\"\").replace(\"]\",\"\") for name in df_all_data.columns]\n",
      "df_all_data.columns = clean_columns\n",
      "\n",
      "students = set(df_all_data.student)\n",
      "for s in students:\n",
      "    df_all_data[s] = df_all_data.apply(lambda x: 1 if x.student == s else 0, axis=1)\n",
      "    \n",
      "problems = set(df_all_data.problem)\n",
      "for p in problems:\n",
      "    df_all_data[p] = df_all_data.apply(lambda x: 1 if x.problem == p else 0, axis=1)\n",
      "    \n",
      "prob_types = set(df_all_data.problemType)\n",
      "for p in prob_types:\n",
      "    df_all_data[p] = df_all_data.apply(lambda x: 1 if x.problemType == p else 0, axis=1)\n",
      "\n",
      "units = ['U1', 'U2', 'U3']\n",
      "for u in units:\n",
      "    df_all_data[u] = df_all_data.apply(lambda x: 1 if u in x.problem else 0, axis=1)\n"
     ],
     "language": "python",
     "metadata": {},
     "outputs": [],
     "prompt_number": 3
    },
    {
     "cell_type": "heading",
     "level": 2,
     "metadata": {},
     "source": [
      "K means clusters on Eye Tracking features"
     ]
    },
    {
     "cell_type": "code",
     "collapsed": false,
     "input": [
      "gaze_cols = [\n",
      " 'eye_switch',\n",
      " 'eye_2ndFixDur_GR',\n",
      " 'eye_2ndFixDur_Interactions',\n",
      " 'eye_2ndFixDur_Titles',\n",
      " 'eye_2ndFixDur_Hints', \n",
      " 'eye_2ndFixDur_Progress',\n",
      " 'eye_2ndFixDur_WhiteSpace',\n",
      " 'eye_1stFixDur_GR',\n",
      " 'eye_1stFixDur_Interactions',\n",
      " 'eye_1stFixDur_Titles',\n",
      " 'eye_1stFixDur_Hints',\n",
      " 'eye_1stFixDur_Progress',\n",
      " 'eye_1stFixDur_WhiteSpace',\n",
      " 'eye_fixDur_GR',\n",
      " 'eye_fixDur_Interactions',\n",
      " 'eye_fixDur_Titles',\n",
      " 'eye_fixDur_Hints', \n",
      " 'eye_fixDur_Progress',\n",
      " 'eye_fixDur_WhiteSpace',\n",
      " 'seq2_betweenGRs',\n",
      " 'seq2_autoGR',\n",
      " 'seq2_GR-caption',\n",
      " 'seq2_GR-Interactions',\n",
      " 'seq2_GR-HintText',\n",
      " 'seq2_GR-Progress',\n",
      " 'seq2_Interactions-Progress',\n",
      " 'seq2_Interactions-HintText',\n",
      " 'seq3_betweenGRs',\n",
      " 'seq3_autoGR', \n",
      " 'seq3_GR-caption-GR',\n",
      " 'seq3_caption-GR-caption',\n",
      " 'seq3_GR-Interactions-GR',\n",
      " 'seq3_Interactions-GR-Interactions',\n",
      " 'seq3_GR-HintText-GR',\n",
      " 'seq3_HintText-GR-HintText',\n",
      " 'seq3_Interactions-HintText-Interactions',\n",
      " 'seq3_HintText-Interactions-HintText',\n",
      " 'seq3_GR-Progress-GR',\n",
      " 'seq3_Progress-GR-Progress',\n",
      " 'seq3_Progress-Interactions-Progress']"
     ],
     "language": "python",
     "metadata": {},
     "outputs": [],
     "prompt_number": 4
    },
    {
     "cell_type": "code",
     "collapsed": false,
     "input": [
      "df_gaze_features = df_all_data[gaze_cols]\n",
      "df_cluster_features = pd.DataFrame(index=df_gaze_features.index)\n",
      "df_gaze_features = StandardScaler().fit_transform(df_gaze_features)\n",
      "\n",
      "for n in xrange(2,9):\n",
      "    k_means = KMeans(init='k-means++', n_clusters=n, n_init=10)\n",
      "    k_means.fit(df_gaze_features)\n",
      "    k_means_labels = k_means.labels_\n",
      "    k_means_cluster_centers = k_means.cluster_centers_\n",
      "    k_means_labels_unique = np.unique(k_means_labels)\n",
      "    \n",
      "    #create dataframe with cluster\n",
      "    for cluster in xrange(n):\n",
      "        label = 'k%d_%d' % (n, cluster)\n",
      "        df_cluster_features[label] = [1 if x == cluster else 0 for x in k_means_labels]\n",
      "        \n",
      "df_all_data = df_all_data.join(df_cluster_features)"
     ],
     "language": "python",
     "metadata": {},
     "outputs": [],
     "prompt_number": 5
    },
    {
     "cell_type": "code",
     "collapsed": false,
     "input": [
      "cluster_features = list(df_cluster_features.columns)"
     ],
     "language": "python",
     "metadata": {},
     "outputs": [],
     "prompt_number": 6
    },
    {
     "cell_type": "heading",
     "level": 2,
     "metadata": {},
     "source": [
      "Fill in values for meta features"
     ]
    },
    {
     "cell_type": "code",
     "collapsed": false,
     "input": [
      "(sorted(df_all_data.logs_firstCorrectRate))[821:]\n",
      "# (sorted(df_all_data.logs_firstCorrectRate))[820:]\n",
      "\n",
      "# 0.61538461499999997\n",
      "# 0.78260869599999994\n",
      "\n",
      "def assign_class(percent):\n",
      "    if percent < 0.61538461499999997:\n",
      "        return 1\n",
      "    elif (percent < 0.78260869599999994) & (percent > 0.61538461499999997):    \n",
      "#     elif (percent < 0.80) & (percent >= 0.63):\n",
      "        return 2\n",
      "    else:\n",
      "        return 3 \n",
      "    \n",
      "df_all_data['firstCorrectThirdSplit'] = df_all_data.logs_firstCorrectRate.apply(assign_class)\n",
      "\n",
      "df_all_data.firstCorrectThirdSplit.value_counts()"
     ],
     "language": "python",
     "metadata": {},
     "outputs": [
      {
       "metadata": {},
       "output_type": "pyout",
       "prompt_number": 14,
       "text": [
        "3    423\n",
        "2    408\n",
        "1    403\n",
        "dtype: int64"
       ]
      }
     ],
     "prompt_number": 14
    },
    {
     "cell_type": "code",
     "collapsed": false,
     "input": [
      "#max likely class\n",
      "423.0/1234"
     ],
     "language": "python",
     "metadata": {},
     "outputs": [
      {
       "metadata": {},
       "output_type": "pyout",
       "prompt_number": 21,
       "text": [
        "0.3427876823338736"
       ]
      }
     ],
     "prompt_number": 21
    },
    {
     "cell_type": "code",
     "collapsed": false,
     "input": [
      "# list of all columns\n",
      "# [col for col in df_all_data.chem2]"
     ],
     "language": "python",
     "metadata": {},
     "outputs": []
    },
    {
     "cell_type": "code",
     "collapsed": false,
     "input": [
      "# FEATURE SELECTION\n",
      "\n",
      "feature_cols = [\n",
      " 'logs_Correct',\n",
      " 'eye_switch',\n",
      " 'eye_2ndFixDur_GR',\n",
      " 'eye_2ndFixDur_Interactions',\n",
      " 'eye_2ndFixDur_Titles',\n",
      " 'eye_2ndFixDur_Hints', #\n",
      " 'eye_2ndFixDur_Progress',\n",
      " 'eye_2ndFixDur_WhiteSpace',\n",
      " 'eye_1stFixDur_GR',\n",
      " 'eye_1stFixDur_Interactions',\n",
      " 'eye_1stFixDur_Titles',\n",
      " 'eye_1stFixDur_Hints',\n",
      " 'eye_1stFixDur_Progress',\n",
      " 'eye_1stFixDur_WhiteSpace',\n",
      " 'eye_fixDur_GR',\n",
      " 'eye_fixDur_Interactions',\n",
      " 'eye_fixDur_Titles',\n",
      " 'eye_fixDur_Hints', #\n",
      " 'eye_fixDur_Progress',\n",
      " 'eye_fixDur_WhiteSpace',\n",
      " 'seq2_betweenGRs',\n",
      " 'seq2_autoGR',\n",
      " 'seq2_GR-caption',\n",
      " 'seq2_GR-Interactions',\n",
      " 'seq2_GR-HintText',\n",
      " 'seq2_GR-Progress',\n",
      " 'seq2_Interactions-Progress',\n",
      " 'seq2_Interactions-HintText',\n",
      " 'seq3_betweenGRs',\n",
      " 'seq3_autoGR', #\n",
      " 'seq3_GR-caption-GR',\n",
      " 'seq3_caption-GR-caption',\n",
      " 'seq3_GR-Interactions-GR',\n",
      " 'seq3_Interactions-GR-Interactions',\n",
      " 'seq3_GR-HintText-GR',\n",
      " 'seq3_HintText-GR-HintText',\n",
      " 'seq3_Interactions-HintText-Interactions',\n",
      " 'seq3_HintText-Interactions-HintText',\n",
      " 'seq3_GR-Progress-GR',\n",
      " 'seq3_Progress-GR-Progress',\n",
      " 'seq3_Progress-Interactions-Progress',\n",
      " 'pretest_sense',\n",
      "#  'posttest1_sense',\n",
      "#  'posttest2_sense',\n",
      " 'pretest_fluency',\n",
      "#  'posttest1_fluency',\n",
      "#  'posttest2_fluency',\n",
      " 'pretest_concScales',\n",
      "#  'posttest1_concScales',\n",
      "#  'posttest2_concScales',\n",
      "#  'prePost_concScales',\n",
      " 'Average_Pupil_Diameter_mm',\n",
      " 'AveragePupil_Size_px_X']\n",
      "\n",
      "#choose an outcome variable\n",
      "outcome_col = 'firstCorrectThirdSplit'\n",
      "# outcome_col = 'logs_errorRate_medianSplit' \n",
      "# oucome_col = 'logs_firstIncorrectRate_medianSplit'\n",
      "\n",
      "other_features = [\n",
      " 'logs_Correct',\n",
      " 'pretest_sense',\n",
      " 'pretest_fluency',\n",
      " 'pretest_concScales',\n",
      " 'Average_Pupil_Diameter_mm']\n",
      "\n",
      "selected_feature_cols =  list(problems) + list(prob_types) + units + cluster_features + other_features\n",
      "\n",
      "df_features = df_all_data[selected_feature_cols]\n",
      "len(df_features.columns)\n"
     ],
     "language": "python",
     "metadata": {},
     "outputs": [
      {
       "metadata": {},
       "output_type": "pyout",
       "prompt_number": 90,
       "text": [
        "70"
       ]
      }
     ],
     "prompt_number": 90
    },
    {
     "cell_type": "code",
     "collapsed": false,
     "input": [
      "# df_features"
     ],
     "language": "python",
     "metadata": {},
     "outputs": [],
     "prompt_number": 10
    },
    {
     "cell_type": "heading",
     "level": 2,
     "metadata": {},
     "source": [
      "Cross-validation function"
     ]
    },
    {
     "cell_type": "code",
     "collapsed": false,
     "input": [
      "# Cross-Validation Function\n",
      "def cv_fun(df_features):\n",
      "    scores = []\n",
      "    for train_idx, cv_idx in KFold(n=len(df_features), n_folds=4, indices=False, shuffle=True):\n",
      "        train_features = df_features[train_idx]\n",
      "        train_y    = np.asarray(df_all_data[train_idx][outcome_col])\n",
      "        test_features  = df_features[cv_idx]\n",
      "        test_y     = np.asarray(list(df_all_data[cv_idx][outcome_col]))\n",
      "        clf = LogisticRegression(penalty='l2')\n",
      "        clf.fit(train_features, train_y)\n",
      "        score = clf.score(test_features, test_y)    \n",
      "        scores.append(score)\n",
      "        \n",
      "        pred = clf.predict(test_features)\n",
      "        params = clf.get_params()\n",
      "        \n",
      "        \n",
      "        coefficients = clf.coef_\n",
      "        for c in xrange(3):\n",
      "            coefficient_dict = defaultdict(list)\n",
      "            for col, coef in zip(selected_feature_cols, coefficients[c]):    \n",
      "                coefficient_dict[col].append(coef)\n",
      "            result = sorted(coefficient_dict.items(), key=lambda x: abs(x[1][0]), reverse=True)[:10]\n",
      "            for name, value in result:\n",
      "                print name, \": \", value\n",
      "            print \n",
      "            del coefficient_dict\n",
      "        \n",
      "        labels = [1, 2, 3]\n",
      "        cm = confusion_matrix(test_y, pred, labels)\n",
      "        print(cm)\n",
      "        fig = plt.figure()\n",
      "        ax = fig.add_subplot(111)\n",
      "        cax = ax.matshow(cm)\n",
      "        pl.title('Confusion matrix of the classifier')\n",
      "        fig.colorbar(cax)\n",
      "        ax.set_xticklabels([''] + labels)\n",
      "        ax.set_yticklabels([''] + labels)\n",
      "        pl.xlabel('Predicted')\n",
      "        pl.ylabel('True')\n",
      "        pl.show()\n",
      "        \n",
      "        print params\n",
      "        \n",
      "    return scores, np.mean(scores)\n",
      "\n",
      "cv_fun(df_features)"
     ],
     "language": "python",
     "metadata": {},
     "outputs": [
      {
       "output_type": "stream",
       "stream": "stdout",
       "text": [
        "pretest_sense :  [-1.6632605096601967]\n",
        "start_U2_S2_1 :  [1.4101867156333867]\n",
        "sense :  [1.2451154019581328]\n",
        "start_U3_F2_1 :  [1.2331086322919405]\n",
        "start_U2_I2_1 :  [-1.0631186728793605]\n",
        "individual :  [-1.0531892814384511]\n",
        "pretest_concScales :  [-0.88952352993724504]\n",
        "start_U3_I3_1 :  [0.85909009300484895]\n",
        "start_U1_S2_1 :  [-0.81581323042612985]\n",
        "start_U2_F3_1 :  [-0.81357388419787957]\n",
        "\n",
        "start_U2_S2_1 :  [-1.0567618331026956]\n",
        "start_U1_I2_1 :  [-0.86875310514809312]\n",
        "start_U3_S2_1 :  [0.77510499878814099]\n",
        "pretest_concScales :  [-0.71546040660768095]\n",
        "start_U2_F3_1 :  [0.60944255820952764]\n",
        "start_U1_I1_1 :  [0.6023660030850031]\n",
        "start_U1_I3_1 :  [0.59525921402931958]\n",
        "k3_2 :  [-0.54548649742734701]\n",
        "start_U1_S2_1 :  [0.5125727526247309]\n",
        "k7_1 :  [-0.49062046834280737]\n",
        "\n",
        "pretest_sense :  [1.8568903583732217]\n",
        "start_U3_F2_1 :  [-1.5084780570717571]\n",
        "pretest_concScales :  [1.4823346666250183]\n",
        "start_U2_I2_1 :  [1.2427815367218285]\n",
        "sense :  [-1.2092697966939323]\n",
        "start_U1_I2_1 :  [1.1935501153139958]\n",
        "start_U1_S1_1 :  [-1.1052615846110228]\n",
        "start_U1_F1_1 :  [1.0676838724271427]\n",
        "start_U1_I3_1 :  [-1.0040683967775552]\n",
        "individual :  [1.0010953573192163]\n",
        "\n",
        "[[77 23 10]\n",
        " [27 30 32]\n",
        " [13 27 70]]\n"
       ]
      },
      {
       "metadata": {},
       "output_type": "display_data",
       "png": "[encoded data removed]",
       "text": [
        "<matplotlib.figure.Figure at 0x10383ff50>"
       ]
      },
      {
       "output_type": "stream",
       "stream": "stdout",
       "text": [
        "{'C': 1.0, 'intercept_scaling': 1, 'fit_intercept': True, 'penalty': 'l2', 'random_state': None, 'dual': False, 'tol': 0.0001, 'class_weight': None}\n",
        "start_U2_S2_1 :  [1.6505710107760732]\n",
        "pretest_sense :  [-1.5781900308234904]\n",
        "start_U1_S2_1 :  [-1.3641632707763833]\n",
        "start_U1_F1_1 :  [-1.2706519839099184]\n",
        "start_U3_F2_1 :  [1.1743654960686145]\n",
        "sense :  [1.109281448039295]\n",
        "start_U2_I2_1 :  [-1.0601348026613648]\n",
        "start_U3_I1_1 :  [-0.94155780702806469]\n",
        "start_U1_F2_1 :  [0.86674465088734132]\n",
        "start_U1_S1_1 :  [0.85755303869434507]\n",
        "\n",
        "start_U2_S2_1 :  [-1.104375696602871]\n",
        "start_U1_S2_1 :  [0.9037398652984473]\n",
        "start_U1_I2_1 :  [-0.88683403802070082]\n",
        "start_U3_F1_1 :  [-0.82233134996149115]\n",
        "start_U3_F3_1 :  [0.68178314723937516]\n",
        "k3_2 :  [-0.62269757948103099]\n",
        "k7_0 :  [0.61192093381618162]\n",
        "start_U2_I1_1 :  [0.59349042272132935]\n",
        "start_U1_I3_1 :  [0.57225193670786167]\n",
        "start_U2_F3_1 :  [0.55628878898198242]\n",
        "\n",
        "pretest_sense :  [1.555481695649281]\n",
        "start_U3_F2_1 :  [-1.5263927304498432]\n",
        "start_U2_I2_1 :  [1.4372351612805696]\n",
        "start_U1_I2_1 :  [1.3661775229006226]\n",
        "start_U1_I3_1 :  [-1.3221660873642782]\n",
        "sense :  [-1.169950748803938]\n",
        "start_U1_S1_1 :  [-1.1528569487216993]\n",
        "start_U1_F1_1 :  [1.1481575243353053]\n",
        "start_U2_S2_1 :  [-1.1402880045623143]\n",
        "start_U1_S2_1 :  [1.0860139289026352]\n",
        "\n",
        "[[59 26 10]\n",
        " [17 46 28]\n",
        " [ 8 45 70]]"
       ]
      },
      {
       "output_type": "stream",
       "stream": "stdout",
       "text": [
        "\n"
       ]
      },
      {
       "metadata": {},
       "output_type": "display_data",
       "png": "[encoded data removed]",
       "text": [
        "<matplotlib.figure.Figure at 0x109109210>"
       ]
      },
      {
       "output_type": "stream",
       "stream": "stdout",
       "text": [
        "{'C': 1.0, 'intercept_scaling': 1, 'fit_intercept': True, 'penalty': 'l2', 'random_state': None, 'dual': False, 'tol': 0.0001, 'class_weight': None}\n",
        "pretest_sense :  [-1.6159867170261959]\n",
        "start_U2_S2_1 :  [1.5873218955288113]\n",
        "start_U3_F2_1 :  [1.2644289733638976]\n",
        "sense :  [1.2247043424736319]\n",
        "pretest_concScales :  [-1.0088069394693675]\n",
        "start_U2_I2_1 :  [-0.98571486605066616]\n",
        "individual :  [-0.9714636070528071]\n",
        "start_U1_S2_1 :  [-0.90168943760387776]\n",
        "start_U3_F1_1 :  [-0.89162044743244018]\n",
        "start_U3_I1_1 :  [-0.88018925705020601]\n",
        "\n",
        "start_U2_S2_1 :  [-1.1946239728632271]\n",
        "start_U1_I2_1 :  [-1.1880156361450085]\n",
        "start_U3_S2_1 :  [1.0193617850763268]\n",
        "start_U2_F3_1 :  [0.8387608593922794]\n",
        "start_U1_I3_1 :  [0.76454059637329108]\n",
        "k7_0 :  [0.69684348821915809]\n",
        "pretest_fluency :  [-0.66613520402731963]\n",
        "start_U3_S1_1 :  [-0.62674542169105485]\n",
        "k3_2 :  [-0.55438210964693369]\n",
        "k7_6 :  [-0.54870498179197491]\n",
        "\n",
        "pretest_sense :  [1.5077194216662877]\n",
        "start_U1_I2_1 :  [1.4769155910823279]\n",
        "sense :  [-1.3412969399913452]\n",
        "start_U3_F2_1 :  [-1.3203545242429342]\n",
        "start_U1_I3_1 :  [-1.2764612440407812]\n",
        "start_U1_S2_1 :  [1.2622666168346643]\n",
        "start_U2_I2_1 :  [1.1778174487332504]\n",
        "start_U1_S1_1 :  [-1.142254631911058]\n",
        "individual :  [1.1234626000258294]\n",
        "start_U2_S2_1 :  "
       ]
      },
      {
       "output_type": "stream",
       "stream": "stdout",
       "text": [
        "[-0.98000891295661285]\n",
        "\n",
        "[[59 19 11]\n",
        " [25 48 38]\n",
        " [23 21 64]]\n"
       ]
      },
      {
       "metadata": {},
       "output_type": "display_data",
       "png": "[encoded data removed]",
       "text": [
        "<matplotlib.figure.Figure at 0x10907f150>"
       ]
      },
      {
       "output_type": "stream",
       "stream": "stdout",
       "text": [
        "{'C': 1.0, 'intercept_scaling': 1, 'fit_intercept': True, 'penalty': 'l2', 'random_state': None, 'dual': False, 'tol': 0.0001, 'class_weight': None}\n",
        "pretest_sense"
       ]
      },
      {
       "output_type": "stream",
       "stream": "stdout",
       "text": [
        " :  [-1.8936728929972295]\n",
        "start_U2_S2_1 :  [1.6337083372667638]\n",
        "start_U2_I2_1 :  [-1.585828942123052]\n",
        "individual :  [-1.4920908780929165]\n",
        "start_U3_F2_1 :  [1.3380393602904894]\n",
        "start_U3_I1_1 :  [-1.2773764597910915]\n",
        "sense :  [1.2735776470281686]\n",
        "start_U3_I3_1 :  [0.98437068149424256]\n",
        "start_U1_I2_1 :  [-0.94550472504389027]\n",
        "start_U1_S2_1 :  [-0.93816208214813424]\n",
        "\n",
        "start_U2_S2_1 :  [-1.3859370822737496]\n",
        "start_U1_I2_1 :  [-1.0518084410424]\n",
        "start_U3_S2_1 :  [0.770772658696671]\n",
        "k8_2 :  [-0.69748954772700156]\n",
        "start_U1_I3_1 :  [0.63884773872342704]\n",
        "k6_1 :  [-0.4991332590124346]\n",
        "start_U1_S2_1 :  [0.49070950628287241]\n",
        "k6_0 :  [0.45548496433872154]\n",
        "start_U1_I1_1 :  [0.45176926837037706]\n",
        "pretest_fluency :  [-0.44430463242493951]\n",
        "\n",
        "pretest_sense :  [1.7567426459754916]\n",
        "start_U1_I2_1 :  [1.4617921658742508]\n",
        "start_U3_F2_1 :  [-1.4507995825122457]\n",
        "start_U1_I3_1 :  [-1.3937386426662888]\n",
        "sense :  [-1.2859714161601254]\n",
        "start_U1_S1_1 :  [-1.167017946933002]\n",
        "start_U2_I2_1 :  [1.1350974551947688]\n",
        "start_U1_S2_1 :  [1.0188248185481947]\n",
        "pretest_concScales :  [1.0023028593601182]\n",
        "start_U1_F1_1 :  [1.0017825718176427]\n",
        "\n",
        "[[60 26 23]\n",
        " [30 48 39]\n",
        " [12 14 56]]\n"
       ]
      },
      {
       "metadata": {},
       "output_type": "display_data",
       "png": "[encoded data removed]",
       "text": [
        "<matplotlib.figure.Figure at 0x1038aa850>"
       ]
      },
      {
       "output_type": "stream",
       "stream": "stdout",
       "text": [
        "{'C': 1.0, 'intercept_scaling': 1, 'fit_intercept': True, 'penalty': 'l2', 'random_state': None, 'dual': False, 'tol': 0.0001, 'class_weight': None}\n"
       ]
      },
      {
       "metadata": {},
       "output_type": "pyout",
       "prompt_number": 91,
       "text": [
        "([0.57281553398058249,\n",
        "  0.56634304207119746,\n",
        "  0.55519480519480524,\n",
        "  0.53246753246753242],\n",
        " 0.55670522842852943)"
       ]
      }
     ],
     "prompt_number": 91
    },
    {
     "cell_type": "heading",
     "level": 2,
     "metadata": {},
     "source": [
      "Classification pipelines"
     ]
    },
    {
     "cell_type": "code",
     "collapsed": false,
     "input": [
      "def nb(df_train):\n",
      "    pipeline = Pipeline([\n",
      "#         ('scaler', StandardScaler()),\n",
      "        ('clf', GaussianNB())\n",
      "    ])\n",
      "    result = cv_fun(pipeline=pipeline)\n",
      "    print \"NB average score:\", result[1]\n",
      "    print \"NB scores:\", result[0]\n",
      "    print \"stddev:\", np.std(result[0]) \n",
      "#     print \"range:\", np.max(result[0]) - np.min(result[0])\n",
      "    print\n",
      "    \n",
      "    \n",
      "def max_ent(df_train):\n",
      "    pipeline = Pipeline([\n",
      "#         ('scaler', StandardScaler()),\n",
      "        ('clf', LogisticRegression(penalty='l2'))\n",
      "    ])\n",
      "    result = cv_fun(pipeline=pipeline)\n",
      "    print \"MaxEnt average score:\", result[1]\n",
      "    print \"MaxEnt scores:\", result[0]\n",
      "    print \"stddev:\", np.std(result[0])\n",
      "#     print \"range:\", np.max(result[0]) - np.min(result[0])\n",
      "    print\n",
      "\n",
      "    \n",
      "def random_forest(df_train):\n",
      "    pipeline = Pipeline([\n",
      "        ('feature_selection', ExtraTreesClassifier()), # need way to print this, see which features picked\n",
      "        ('clf', RandomForestClassifier())\n",
      "    ])\n",
      "    result = cv_fun(pipeline=pipeline)\n",
      "    print \"RF average score:\", result[1]\n",
      "    print \"RF scores:\", result[0]\n",
      "    print \"stddev:\", np.std(result[0])\n",
      "#     print \"range:\", np.max(result[0]) - np.min(result[0])\n",
      "    print\n",
      "\n"
     ],
     "language": "python",
     "metadata": {},
     "outputs": [],
     "prompt_number": 12
    },
    {
     "cell_type": "code",
     "collapsed": false,
     "input": [
      "# Evaluate scores across k folds\n",
      "\n",
      "# nb(df_features)\n",
      "max_ent(df_features)\n",
      "# random_forest(df_features) #(rf_feature_cols)"
     ],
     "language": "python",
     "metadata": {},
     "outputs": [
      {
       "ename": "TypeError",
       "evalue": "cv_fun() got an unexpected keyword argument 'pipeline'",
       "output_type": "pyerr",
       "traceback": [
        "\u001b[0;31m---------------------------------------------------------------------------\u001b[0m\n\u001b[0;31mTypeError\u001b[0m                                 Traceback (most recent call last)",
        "\u001b[0;32m<ipython-input-49-405b62f08c7c>\u001b[0m in \u001b[0;36m<module>\u001b[0;34m()\u001b[0m\n\u001b[1;32m      2\u001b[0m \u001b[0;34m\u001b[0m\u001b[0m\n\u001b[1;32m      3\u001b[0m \u001b[0;31m# nb(df_features)\u001b[0m\u001b[0;34m\u001b[0m\u001b[0;34m\u001b[0m\u001b[0m\n\u001b[0;32m----> 4\u001b[0;31m \u001b[0mmax_ent\u001b[0m\u001b[0;34m(\u001b[0m\u001b[0mdf_features\u001b[0m\u001b[0;34m)\u001b[0m\u001b[0;34m\u001b[0m\u001b[0m\n\u001b[0m\u001b[1;32m      5\u001b[0m \u001b[0;31m# random_forest(df_features) #(rf_feature_cols)\u001b[0m\u001b[0;34m\u001b[0m\u001b[0;34m\u001b[0m\u001b[0m\n",
        "\u001b[0;32m<ipython-input-12-6b722d4c29ce>\u001b[0m in \u001b[0;36mmax_ent\u001b[0;34m(df_train)\u001b[0m\n\u001b[1;32m     17\u001b[0m         \u001b[0;34m(\u001b[0m\u001b[0;34m'clf'\u001b[0m\u001b[0;34m,\u001b[0m \u001b[0mLogisticRegression\u001b[0m\u001b[0;34m(\u001b[0m\u001b[0mpenalty\u001b[0m\u001b[0;34m=\u001b[0m\u001b[0;34m'l2'\u001b[0m\u001b[0;34m)\u001b[0m\u001b[0;34m)\u001b[0m\u001b[0;34m\u001b[0m\u001b[0m\n\u001b[1;32m     18\u001b[0m     ])\n\u001b[0;32m---> 19\u001b[0;31m     \u001b[0mresult\u001b[0m \u001b[0;34m=\u001b[0m \u001b[0mcv_fun\u001b[0m\u001b[0;34m(\u001b[0m\u001b[0mpipeline\u001b[0m\u001b[0;34m=\u001b[0m\u001b[0mpipeline\u001b[0m\u001b[0;34m)\u001b[0m\u001b[0;34m\u001b[0m\u001b[0m\n\u001b[0m\u001b[1;32m     20\u001b[0m     \u001b[0;32mprint\u001b[0m \u001b[0;34m\"MaxEnt average score:\"\u001b[0m\u001b[0;34m,\u001b[0m \u001b[0mresult\u001b[0m\u001b[0;34m[\u001b[0m\u001b[0;36m1\u001b[0m\u001b[0;34m]\u001b[0m\u001b[0;34m\u001b[0m\u001b[0m\n\u001b[1;32m     21\u001b[0m     \u001b[0;32mprint\u001b[0m \u001b[0;34m\"MaxEnt scores:\"\u001b[0m\u001b[0;34m,\u001b[0m \u001b[0mresult\u001b[0m\u001b[0;34m[\u001b[0m\u001b[0;36m0\u001b[0m\u001b[0;34m]\u001b[0m\u001b[0;34m\u001b[0m\u001b[0m\n",
        "\u001b[0;31mTypeError\u001b[0m: cv_fun() got an unexpected keyword argument 'pipeline'"
       ]
      }
     ],
     "prompt_number": 49
    },
    {
     "cell_type": "code",
     "collapsed": false,
     "input": [
      "df_features_shuffled = df_features.reindex(np.random.permutation(df_features.index))\n",
      "\n",
      "len(df_features_shuffled)\n",
      "train_features = df_features[:1080]\n",
      "train_y    = np.asarray(df_all_data[train_idx][outcome_col])\n",
      "test_features  = df_features[cv_idx]\n",
      "test_y     = np.asarray(list(df_all_data[cv_idx][outcome_col]))\n",
      "pipeline.fit(train_features, train_y)\n",
      "score = pipeline.score(test_features, test_y)    \n",
      "\n",
      "\n",
      "\n",
      "\n",
      "# from sklearn.metrics import confusion_matrix\n",
      "# import pylab as pl\n",
      "\n",
      "# labels = ['1', '2', '3']\n",
      "# cm = confusion_matrix(target_data_test, pred, labels)\n",
      "# print(cm)\n",
      "# fig = plt.figure()\n",
      "# ax = fig.add_subplot(111)\n",
      "# cax = ax.matshow(cm)\n",
      "# pl.title('Confusion matrix of the classifier')\n",
      "# fig.colorbar(cax)\n",
      "# ax.set_xticklabels([''] + labels)\n",
      "# ax.set_yticklabels([''] + labels)\n",
      "# pl.xlabel('Predicted')\n",
      "# pl.ylabel('True')\n",
      "# pl.show()"
     ],
     "language": "python",
     "metadata": {},
     "outputs": [
      {
       "metadata": {},
       "output_type": "pyout",
       "prompt_number": 58,
       "text": [
        "1234"
       ]
      }
     ],
     "prompt_number": 58
    },
    {
     "cell_type": "markdown",
     "metadata": {},
     "source": [
      "##Research Questions\n",
      "\n",
      "1. What are the features of eye tracking that best predict performance? \n",
      "\n",
      "2. Multiple representations of concepts were provided within the tutor. Can an analysis make recommendations about the efficacy of each representation?\n",
      "\n",
      "3. Can we predict learning (Post-Pre knowledge) from eye tracking features?"
     ]
    },
    {
     "cell_type": "code",
     "collapsed": false,
     "input": [
      "# Next TODOs:\n",
      "\n",
      "# Go back and inspect which rows were dropped with dropna(). Other outliers we need to take care of?\n",
      "\n",
      "# Improve feature selection to find most informative features\n",
      "# http://scikit-learn.org/stable/modules/feature_selection.html\n",
      "\n",
      "# problem type, unit, problem, student\n",
      "# 3 bins for outcome\n",
      "\n",
      "#predictive ability of pretest for top vs bottom?"
     ],
     "language": "python",
     "metadata": {},
     "outputs": []
    },
    {
     "cell_type": "code",
     "collapsed": false,
     "input": [
      "# # Refining Random Forest features\n",
      "\n",
      "# rf_feature_cols = [\n",
      "#  'logs_Correct',\n",
      "#  'eye_switch',\n",
      "#  'eye_2ndFixDur_GR',\n",
      "#  'eye_2ndFixDur_Interactions',\n",
      "#  'eye_2ndFixDur_Titles',\n",
      "# #  'eye_2ndFixDur_Hints', #\n",
      "#  'eye_2ndFixDur_Progress',\n",
      "#  'eye_2ndFixDur_WhiteSpace',\n",
      "#  'eye_1stFixDur_GR',\n",
      "#  'eye_1stFixDur_Interactions',\n",
      "#  'eye_1stFixDur_Titles',\n",
      "#  'eye_1stFixDur_Hints',\n",
      "#  'eye_1stFixDur_Progress',\n",
      "#  'eye_1stFixDur_WhiteSpace',\n",
      "#  'eye_fixDur_GR',\n",
      "#  'eye_fixDur_Interactions',\n",
      "#  'eye_fixDur_Titles',\n",
      "# #  'eye_fixDur_Hints', #\n",
      "#  'eye_fixDur_Progress',\n",
      "#  'eye_fixDur_WhiteSpace',\n",
      "#  'seq2_betweenGRs',\n",
      "#  'seq2_autoGR',\n",
      "#  'seq2_GR-caption',\n",
      "#  'seq2_GR-Interactions',\n",
      "#  'seq2_GR-HintText',\n",
      "#  'seq2_GR-Progress',\n",
      "#  'seq2_Interactions-Progress',\n",
      "# #  'seq2_Interactions-HintText',\n",
      "# #  'seq3_betweenGRs',\n",
      "#  'seq3_autoGR', #\n",
      "#  'seq3_GR-caption-GR',\n",
      "#  'seq3_caption-GR-caption',\n",
      "# #  'seq3_GR-Interactions-GR',\n",
      "#  'seq3_Interactions-GR-Interactions',\n",
      "#  'seq3_GR-HintText-GR',\n",
      "#  'seq3_HintText-GR-HintText',\n",
      "#  'seq3_Interactions-HintText-Interactions',\n",
      "#  'seq3_HintText-Interactions-HintText',\n",
      "#  'seq3_GR-Progress-GR',\n",
      "#  'seq3_Progress-GR-Progress',\n",
      "#  'seq3_Progress-Interactions-Progress',\n",
      "#  'pretest_sense',\n",
      "# #  'posttest1_sense',\n",
      "# #  'posttest2_sense',\n",
      "#  'pretest_fluency',\n",
      "# #  'posttest1_fluency',\n",
      "# #  'posttest2_fluency',\n",
      "#  'pretest_concScales',\n",
      "# #  'posttest1_concScales',\n",
      "# #  'posttest2_concScales',\n",
      "# #  'prePost_concScales',\n",
      "#  'Average_Pupil_Diameter_mm',\n",
      "#  'AveragePupil_Size_px_X']\n",
      "\n",
      "\n",
      "# df_rf_features = df_all_data[rf_feature_cols + list(problems) + list(students) + list(prob_types)]\n",
      "\n",
      "\n",
      "# # # Feature Importance with Random Forest / ExtraTreesClassifier and Cross-Validation\n",
      "# # importance_dict = defaultdict(list)\n",
      "# # for train_idx, cv_idx in KFold(n=len(df_rf_features), n_folds=12, indices=False, shuffle=True):\n",
      "# #     train_features = df_rf_features[train_idx]\n",
      "# #     train_y = np.asarray(df_all_data[train_idx][outcome_col])\n",
      "# #     test_features  = df_rf_features[cv_idx]\n",
      "# #     test_y = np.asarray(list(df_all_data[cv_idx][outcome_col]))\n",
      "\n",
      "# #     importances = clf.feature_importances_\n",
      "# #     for col, importance in zip(rf_feature_cols, importances):    \n",
      "# #         importance_dict[col].append(importance)\n",
      "\n",
      "# # # means are all pretty much the same between folds of a feature\n",
      "# # # [np.mean(importance_dict.values()) for key in importance_dict]\n",
      "\n",
      "# # sorted([(i ,importance_dict[i][0]) for i in importance_dict], key=lambda x: x[1], reverse=True)\n",
      "\n",
      "# # print [np.var(importance_dict[i]) for i in importance_dict]\n",
      "# #         if (importance > .03):\n",
      "# #             print col, importance\n",
      "        \n",
      "# #     print len([i for i in importances if i < .01])\n"
     ],
     "language": "python",
     "metadata": {},
     "outputs": []
    },
    {
     "cell_type": "code",
     "collapsed": false,
     "input": [
      "# rf_feature_cols = [\n",
      "#  'logs_Correct',\n",
      "#  'eye_fixDur_WhiteSpace',\n",
      "#  'eye_fixDur_Progress',\n",
      "#  'seq3_HintText-GR-HintText',\n",
      "#  'seq3_HintText-Interactions-HintText',\n",
      "#  'eye_2ndFixDur_Titles',\n",
      "#  'seq2_GR-caption',\n",
      "#  'eye_1stFixDur_Hints',\n",
      "#  'eye_2ndFixDur_GR',\n",
      "#  'seq3_GR-caption-GR',\n",
      "#  'eye_switch',\n",
      "#  'eye_fixDur_Interactions',\n",
      "#  'seq3_Progress-GR-Progress',\n",
      "#  'eye_fixDur_GR',\n",
      "#  'seq2_GR-Interactions',\n",
      "#  'eye_fixDur_Titles',\n",
      "#  'seq2_Interactions-Progress',\n",
      "#  'eye_1stFixDur_GR',\n",
      "#  'seq2_autoGR',\n",
      "#  'eye_1stFixDur_WhiteSpace',\n",
      "#  'eye_1stFixDur_Interactions',\n",
      "#  'eye_1stFixDur_Progress',\n",
      "#  'eye_2ndFixDur_Progress']\n",
      "\n",
      "# df_rf_features = df_all_data[rf_feature_cols + list(students)]"
     ],
     "language": "python",
     "metadata": {},
     "outputs": []
    }
   ],
   "metadata": {}
  }
 ]
}