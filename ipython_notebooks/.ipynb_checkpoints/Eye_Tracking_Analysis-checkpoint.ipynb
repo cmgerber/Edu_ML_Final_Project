{
 "metadata": {
  "name": "",
  "signature": "sha256:1e22b318868f639b9b3aa3e54d22923723398098365f803b9210b14737fdaf5a"
 },
 "nbformat": 3,
 "nbformat_minor": 0,
 "worksheets": [
  {
   "cells": [
    {
     "cell_type": "heading",
     "level": 1,
     "metadata": {},
     "source": [
      "Eye Tracking and Knowledge"
     ]
    },
    {
     "cell_type": "code",
     "collapsed": false,
     "input": [
      "import pandas as pd\n",
      "import numpy as np\n",
      "import string\n",
      "import re\n",
      "import time\n",
      "import math\n",
      "%matplotlib inline\n",
      "import matplotlib.pyplot as plt\n",
      "import seaborn\n",
      "from decimal import *\n",
      "from sklearn.naive_bayes import GaussianNB\n",
      "from sklearn.ensemble import RandomForestClassifier\n",
      "from sklearn.ensemble import ExtraTreesClassifier\n",
      "from sklearn.feature_selection import SelectKBest, chi2\n",
      "from sklearn.cross_validation import KFold\n",
      "\n",
      "from sklearn.multiclass import OneVsRestClassifier\n",
      "from sklearn.svm import LinearSVC\n",
      "from sklearn.linear_model import LogisticRegression\n",
      "from sklearn.pipeline import Pipeline\n",
      "from sklearn import metrics\n",
      "\n",
      "from sklearn.preprocessing import StandardScaler\n",
      "from sklearn.lda import LDA\n",
      "from sklearn.decomposition import PCA"
     ],
     "language": "python",
     "metadata": {},
     "outputs": [],
     "prompt_number": 11
    },
    {
     "cell_type": "heading",
     "level": 3,
     "metadata": {},
     "source": [
      "Load gaze and pupil data"
     ]
    },
    {
     "cell_type": "code",
     "collapsed": false,
     "input": [
      "df_gaze = pd.read_csv('../data/logsAndEye_09152014.csv', na_values=['None'])\n",
      "df_pupil = pd.read_csv('../data/pupilDiameters.csv', na_values=['None'])\n",
      "# df_pupil.head()"
     ],
     "language": "python",
     "metadata": {},
     "outputs": [],
     "prompt_number": 3
    },
    {
     "cell_type": "heading",
     "level": 3,
     "metadata": {},
     "source": [
      "Join datasets on subject_sync"
     ]
    },
    {
     "cell_type": "code",
     "collapsed": false,
     "input": [
      "# datasets are joined with rows containing null values dropped\n",
      "df_all_data = df_gaze.merge(df_pupil, on='subject_sync').set_index('subject_sync').dropna()\n",
      "\n",
      "# clean up column names (for pupil cols)\n",
      "clean_columns = [name.replace(\" \",\"_\").replace(\"[\",\"\").replace(\"]\",\"\") for name in df_all_data.columns]\n",
      "df_all_data.columns = clean_columns"
     ],
     "language": "python",
     "metadata": {},
     "outputs": [],
     "prompt_number": 4
    },
    {
     "cell_type": "code",
     "collapsed": false,
     "input": [
      "# list of all columns\n",
      "# [col for col in df_all_data.columns]"
     ],
     "language": "python",
     "metadata": {},
     "outputs": [],
     "prompt_number": 5
    },
    {
     "cell_type": "code",
     "collapsed": false,
     "input": [
      "feature_cols = [\n",
      " 'logs_Correct',\n",
      " 'eye_switch',\n",
      " 'eye_2ndFixDur_GR',\n",
      " 'eye_2ndFixDur_Interactions',\n",
      " 'eye_2ndFixDur_Titles',\n",
      " 'eye_2ndFixDur_Hints', #\n",
      " 'eye_2ndFixDur_Progress',\n",
      " 'eye_2ndFixDur_WhiteSpace',\n",
      " 'eye_1stFixDur_GR',\n",
      " 'eye_1stFixDur_Interactions',\n",
      " 'eye_1stFixDur_Titles',\n",
      " 'eye_1stFixDur_Hints',\n",
      " 'eye_1stFixDur_Progress',\n",
      " 'eye_1stFixDur_WhiteSpace',\n",
      " 'eye_fixDur_GR',\n",
      " 'eye_fixDur_Interactions',\n",
      " 'eye_fixDur_Titles',\n",
      " 'eye_fixDur_Hints', #\n",
      " 'eye_fixDur_Progress',\n",
      "#  'eye_fixDur_WhiteSpace',\n",
      " 'seq2_betweenGRs',\n",
      " 'seq2_autoGR',\n",
      " 'seq2_GR-caption',\n",
      " 'seq2_GR-Interactions',\n",
      " 'seq2_GR-HintText',\n",
      " 'seq2_GR-Progress',\n",
      " 'seq2_Interactions-Progress',\n",
      " 'seq2_Interactions-HintText',\n",
      " 'seq3_betweenGRs',\n",
      " 'seq3_autoGR', #\n",
      "#  'seq3_GR-caption-GR',\n",
      " 'seq3_caption-GR-caption',\n",
      " 'seq3_GR-Interactions-GR',\n",
      " 'seq3_Interactions-GR-Interactions',\n",
      "#  'seq3_GR-HintText-GR',\n",
      " 'seq3_HintText-GR-HintText',\n",
      " 'seq3_Interactions-HintText-Interactions',\n",
      " 'seq3_HintText-Interactions-HintText',\n",
      " 'seq3_GR-Progress-GR',\n",
      "#  'seq3_Progress-GR-Progress',\n",
      "#  'seq3_Progress-Interactions-Progress',\n",
      " 'pretest_sense',\n",
      "#  'posttest1_sense',\n",
      "#  'posttest2_sense',\n",
      " 'pretest_fluency',\n",
      "#  'posttest1_fluency',\n",
      "#  'posttest2_fluency',\n",
      " 'pretest_concScales',\n",
      "#  'posttest1_concScales',\n",
      "#  'posttest2_concScales',\n",
      "#  'prePost_concScales',\n",
      " 'Average_Pupil_Diameter_mm',\n",
      " 'AveragePupil_Size_px_X']\n",
      "\n",
      "#choose an outcome variable\n",
      "outcome_col = 'logs_errorRate_medianSplit' \n",
      "# oucome_col = 'logs_firstIncorrectRate_medianSplit'\n",
      "\n",
      "df_features = df_all_data[feature_cols]\n",
      "len(df_features)"
     ],
     "language": "python",
     "metadata": {},
     "outputs": [
      {
       "metadata": {},
       "output_type": "pyout",
       "prompt_number": 6,
       "text": [
        "1234"
       ]
      }
     ],
     "prompt_number": 6
    },
    {
     "cell_type": "heading",
     "level": 2,
     "metadata": {},
     "source": [
      "Cross-validation function"
     ]
    },
    {
     "cell_type": "code",
     "collapsed": false,
     "input": [
      "# Cross-Validation Function\n",
      "def cv_fun(pipeline):\n",
      "    scores = []\n",
      "    for train_idx, cv_idx in KFold(n=len(df_features), n_folds=7, indices=False, shuffle=True):\n",
      "        train_features = df_features[train_idx]\n",
      "        train_y    = np.asarray(df_all_data[train_idx][outcome_col])\n",
      "        test_features  = df_features[cv_idx]\n",
      "        test_y     = np.asarray(list(df_all_data[cv_idx][outcome_col]))\n",
      "        pipeline.fit(train_features, train_y)\n",
      "        score = pipeline.score(test_features, test_y)    \n",
      "        scores.append(score)\n",
      "    return scores, np.mean(scores)"
     ],
     "language": "python",
     "metadata": {},
     "outputs": [],
     "prompt_number": 7
    },
    {
     "cell_type": "code",
     "collapsed": false,
     "input": [
      "# Refining Random Forest features\n",
      "\n",
      "rf_feature_cols = [\n",
      " 'logs_Correct',\n",
      " 'eye_switch',\n",
      " 'eye_2ndFixDur_GR',\n",
      " 'eye_2ndFixDur_Interactions',\n",
      " 'eye_2ndFixDur_Titles',\n",
      "#  'eye_2ndFixDur_Hints', #\n",
      " 'eye_2ndFixDur_Progress',\n",
      " 'eye_2ndFixDur_WhiteSpace',\n",
      " 'eye_1stFixDur_GR',\n",
      " 'eye_1stFixDur_Interactions',\n",
      " 'eye_1stFixDur_Titles',\n",
      " 'eye_1stFixDur_Hints',\n",
      " 'eye_1stFixDur_Progress',\n",
      " 'eye_1stFixDur_WhiteSpace',\n",
      " 'eye_fixDur_GR',\n",
      " 'eye_fixDur_Interactions',\n",
      " 'eye_fixDur_Titles',\n",
      "#  'eye_fixDur_Hints', #\n",
      " 'eye_fixDur_Progress',\n",
      " 'eye_fixDur_WhiteSpace',\n",
      " 'seq2_betweenGRs',\n",
      " 'seq2_autoGR',\n",
      " 'seq2_GR-caption',\n",
      " 'seq2_GR-Interactions',\n",
      " 'seq2_GR-HintText',\n",
      " 'seq2_GR-Progress',\n",
      " 'seq2_Interactions-Progress',\n",
      "#  'seq2_Interactions-HintText',\n",
      "#  'seq3_betweenGRs',\n",
      " 'seq3_autoGR', #\n",
      " 'seq3_GR-caption-GR',\n",
      " 'seq3_caption-GR-caption',\n",
      "#  'seq3_GR-Interactions-GR',\n",
      " 'seq3_Interactions-GR-Interactions',\n",
      " 'seq3_GR-HintText-GR',\n",
      " 'seq3_HintText-GR-HintText',\n",
      " 'seq3_Interactions-HintText-Interactions',\n",
      " 'seq3_HintText-Interactions-HintText',\n",
      " 'seq3_GR-Progress-GR',\n",
      " 'seq3_Progress-GR-Progress',\n",
      " 'seq3_Progress-Interactions-Progress',\n",
      " 'pretest_sense',\n",
      "#  'posttest1_sense',\n",
      "#  'posttest2_sense',\n",
      " 'pretest_fluency',\n",
      "#  'posttest1_fluency',\n",
      "#  'posttest2_fluency',\n",
      " 'pretest_concScales',\n",
      "#  'posttest1_concScales',\n",
      "#  'posttest2_concScales',\n",
      "#  'prePost_concScales',\n",
      " 'Average_Pupil_Diameter_mm',\n",
      " 'AveragePupil_Size_px_X']\n",
      "\n",
      "df_rf_features = df_all_data[rf_feature_cols]\n",
      "\n",
      "\n",
      "# Feature Importance with Random Forest / ExtraTreesClassifier and Cross-Validation\n",
      "scores = []\n",
      "for train_idx, cv_idx in KFold(n=len(df_rf_features), n_folds=8, indices=False, shuffle=True):\n",
      "    train_features = df_rf_features[train_idx]\n",
      "    train_y = np.asarray(df_all_data[train_idx][outcome_col])\n",
      "    test_features  = df_rf_features[cv_idx]\n",
      "    test_y = np.asarray(list(df_all_data[cv_idx][outcome_col]))\n",
      "\n",
      "    importances = clf.feature_importances_\n",
      "    for col, importance in zip(rf_feature_cols, importances):    \n",
      "        if (importance > .03):\n",
      "            print col, importance\n",
      "        \n",
      "    print len([i for i in importances if i < .01])\n"
     ],
     "language": "python",
     "metadata": {},
     "outputs": [
      {
       "output_type": "stream",
       "stream": "stderr",
       "text": [
        "/Users/colingerber/Documents/I_School_Classes/Edu_Machine/Final_Project/Edu_ML_Final_Project/env/lib/python2.7/site-packages/sklearn/cross_validation.py:65: DeprecationWarning: The indices parameter is deprecated and will be removed (assumed True) in 0.17\n",
        "  stacklevel=1)\n"
       ]
      },
      {
       "ename": "NameError",
       "evalue": "name 'clf' is not defined",
       "output_type": "pyerr",
       "traceback": [
        "\u001b[0;31m---------------------------------------------------------------------------\u001b[0m\n\u001b[0;31mNameError\u001b[0m                                 Traceback (most recent call last)",
        "\u001b[0;32m<ipython-input-8-b90e0f618012>\u001b[0m in \u001b[0;36m<module>\u001b[0;34m()\u001b[0m\n\u001b[1;32m     67\u001b[0m     \u001b[0mtest_y\u001b[0m \u001b[0;34m=\u001b[0m \u001b[0mnp\u001b[0m\u001b[0;34m.\u001b[0m\u001b[0masarray\u001b[0m\u001b[0;34m(\u001b[0m\u001b[0mlist\u001b[0m\u001b[0;34m(\u001b[0m\u001b[0mdf_all_data\u001b[0m\u001b[0;34m[\u001b[0m\u001b[0mcv_idx\u001b[0m\u001b[0;34m]\u001b[0m\u001b[0;34m[\u001b[0m\u001b[0moutcome_col\u001b[0m\u001b[0;34m]\u001b[0m\u001b[0;34m)\u001b[0m\u001b[0;34m)\u001b[0m\u001b[0;34m\u001b[0m\u001b[0m\n\u001b[1;32m     68\u001b[0m \u001b[0;34m\u001b[0m\u001b[0m\n\u001b[0;32m---> 69\u001b[0;31m     \u001b[0mimportances\u001b[0m \u001b[0;34m=\u001b[0m \u001b[0mclf\u001b[0m\u001b[0;34m.\u001b[0m\u001b[0mfeature_importances_\u001b[0m\u001b[0;34m\u001b[0m\u001b[0m\n\u001b[0m\u001b[1;32m     70\u001b[0m     \u001b[0;32mfor\u001b[0m \u001b[0mcol\u001b[0m\u001b[0;34m,\u001b[0m \u001b[0mimportance\u001b[0m \u001b[0;32min\u001b[0m \u001b[0mzip\u001b[0m\u001b[0;34m(\u001b[0m\u001b[0mrf_feature_cols\u001b[0m\u001b[0;34m,\u001b[0m \u001b[0mimportances\u001b[0m\u001b[0;34m)\u001b[0m\u001b[0;34m:\u001b[0m\u001b[0;34m\u001b[0m\u001b[0m\n\u001b[1;32m     71\u001b[0m         \u001b[0;32mif\u001b[0m \u001b[0;34m(\u001b[0m\u001b[0mimportance\u001b[0m \u001b[0;34m>\u001b[0m \u001b[0;36m.03\u001b[0m\u001b[0;34m)\u001b[0m\u001b[0;34m:\u001b[0m\u001b[0;34m\u001b[0m\u001b[0m\n",
        "\u001b[0;31mNameError\u001b[0m: name 'clf' is not defined"
       ]
      }
     ],
     "prompt_number": 8
    },
    {
     "cell_type": "code",
     "collapsed": false,
     "input": [],
     "language": "python",
     "metadata": {},
     "outputs": []
    },
    {
     "cell_type": "heading",
     "level": 2,
     "metadata": {},
     "source": [
      "Classification pipelines"
     ]
    },
    {
     "cell_type": "code",
     "collapsed": false,
     "input": [
      "def nb(df_train):\n",
      "    pipeline = Pipeline([\n",
      "        ('scaler', StandardScaler()),\n",
      "        #('reduce_dim', PCA()),\n",
      "        ('reduce_dim', LDA()),\n",
      "        ('clf', GaussianNB())\n",
      "    ])\n",
      "    result = cv_fun(pipeline=pipeline)\n",
      "    print \"NB average score:\", result[1]\n",
      "    print \"NB scores:\", result[0]\n",
      "    print \"stddev:\", np.std(result[0]) \n",
      "#     print \"range:\", np.max(result[0]) - np.min(result[0])\n",
      "    print\n",
      "    \n",
      "    \n",
      "def max_ent(df_train):\n",
      "    pipeline = Pipeline([\n",
      "        ('scaler', StandardScaler()),\n",
      "        ('reduce_dim', PCA()),\n",
      "        #('reduce_dim', LDA()),\n",
      "        ('clf', LogisticRegression(penalty='l2'))\n",
      "    ])\n",
      "    result = cv_fun(pipeline=pipeline)\n",
      "    print \"MaxEnt average score:\", result[1]\n",
      "    print \"MaxEnt scores:\", result[0]\n",
      "    print \"stddev:\", np.std(result[0])\n",
      "#     print \"range:\", np.max(result[0]) - np.min(result[0])\n",
      "    print\n",
      "\n",
      "    \n",
      "def random_forest(df_train):\n",
      "    pipeline = Pipeline([\n",
      "        ('scaler', StandardScaler()),\n",
      "        #('reduce_dim', PCA()),\n",
      "        #('reduce_dim', LDA()),\n",
      "        ('feature_selection', ExtraTreesClassifier()), # need way to print this, see which features picked\n",
      "        ('clf', RandomForestClassifier())\n",
      "    ])\n",
      "    result = cv_fun(pipeline=pipeline)\n",
      "    print \"RF average score:\", result[1]\n",
      "    print \"RF scores:\", result[0]\n",
      "    print \"stddev:\", np.std(result[0])\n",
      "#     print \"range:\", np.max(result[0]) - np.min(result[0])\n",
      "    print\n",
      "\n"
     ],
     "language": "python",
     "metadata": {},
     "outputs": [],
     "prompt_number": 28
    },
    {
     "cell_type": "code",
     "collapsed": false,
     "input": [
      "# Evaluate scores across k folds\n",
      "\n",
      "# currently, features chosen using feature selection for RF, so not surprising that Naive Bayes\n",
      "# is not doing very well\n",
      "\n",
      "nb(df_features)\n",
      "max_ent(df_features)\n",
      "random_forest(df_rf_features)"
     ],
     "language": "python",
     "metadata": {},
     "outputs": [
      {
       "output_type": "stream",
       "stream": "stderr",
       "text": [
        "/Users/colingerber/Documents/I_School_Classes/Edu_Machine/Final_Project/Edu_ML_Final_Project/env/lib/python2.7/site-packages/sklearn/cross_validation.py:65: DeprecationWarning: The indices parameter is deprecated and will be removed (assumed True) in 0.17\n",
        "  stacklevel=1)\n",
        "/Users/colingerber/Documents/I_School_Classes/Edu_Machine/Final_Project/Edu_ML_Final_Project/env/lib/python2.7/site-packages/sklearn/cross_validation.py:65: DeprecationWarning: The indices parameter is deprecated and will be removed (assumed True) in 0.17\n",
        "  stacklevel=1)\n"
       ]
      },
      {
       "output_type": "stream",
       "stream": "stdout",
       "text": [
        "NB average score: 0.646603749358\n",
        "NB scores: [0.69491525423728817, 0.68926553672316382, 0.65340909090909094, 0.61931818181818177, 0.57386363636363635, 0.68181818181818177, 0.61363636363636365]\n",
        "stddev: 0.0423638546872\n",
        "\n",
        "MaxEnt average score:"
       ]
      },
      {
       "output_type": "stream",
       "stream": "stdout",
       "text": [
        " 0.64825005503\n",
        "MaxEnt scores: [0.71751412429378536, 0.6384180790960452, 0.70454545454545459, 0.56818181818181823, 0.59659090909090906, 0.65909090909090906, 0.65340909090909094]\n",
        "stddev: 0.0496948987429\n",
        "\n",
        "RF average score:"
       ]
      },
      {
       "output_type": "stream",
       "stream": "stdout",
       "text": [
        " 0.662906302737\n",
        "RF scores: [0.6384180790960452, 0.66101694915254239, 0.625, 0.69886363636363635, 0.65340909090909094, 0.70454545454545459, 0.65909090909090906]\n",
        "stddev: 0.0271809639461\n",
        "\n"
       ]
      },
      {
       "output_type": "stream",
       "stream": "stderr",
       "text": [
        "/Users/colingerber/Documents/I_School_Classes/Edu_Machine/Final_Project/Edu_ML_Final_Project/env/lib/python2.7/site-packages/sklearn/cross_validation.py:65: DeprecationWarning: The indices parameter is deprecated and will be removed (assumed True) in 0.17\n",
        "  stacklevel=1)\n"
       ]
      }
     ],
     "prompt_number": 29
    },
    {
     "cell_type": "code",
     "collapsed": false,
     "input": [
      "NB = .588\n",
      "ME = .64\n",
      "RF = .69"
     ],
     "language": "python",
     "metadata": {},
     "outputs": []
    },
    {
     "cell_type": "markdown",
     "metadata": {},
     "source": [
      "##Research Questions\n",
      "\n",
      "1. What are the features of eye tracking that best predict performance? \n",
      "\n",
      "2. Multiple representations of concepts were provided within the tutor. Can an analysis make recommendations about the efficacy of each representation?\n",
      "\n",
      "3. Can we predict learning (Post-Pre knowledge) from eye tracking features?"
     ]
    },
    {
     "cell_type": "code",
     "collapsed": false,
     "input": [
      "# Next TODOs:\n",
      "\n",
      "# Go back and inspect which rows were dropped with dropna(). Other outliers we need to take care of?\n",
      "\n",
      "# Improve feature selection to find most informative features\n",
      "# http://scikit-learn.org/stable/modules/feature_selection.html"
     ],
     "language": "python",
     "metadata": {},
     "outputs": []
    },
    {
     "cell_type": "markdown",
     "metadata": {},
     "source": [
      "Check predictive measure of pre-test for top x percent vs. bottom x percent\n",
      "\n",
      "K means k2 through k8 and binary features / spectral clustering\n",
      "  does one clustering do better than the other\n",
      "  test each k to see which is best, find feature break down of each cluster in best k\n",
      "  \n",
      "compare just clusters, just features, and both for predictions"
     ]
    },
    {
     "cell_type": "code",
     "collapsed": false,
     "input": [],
     "language": "python",
     "metadata": {},
     "outputs": []
    }
   ],
   "metadata": {}
  }
 ]
}