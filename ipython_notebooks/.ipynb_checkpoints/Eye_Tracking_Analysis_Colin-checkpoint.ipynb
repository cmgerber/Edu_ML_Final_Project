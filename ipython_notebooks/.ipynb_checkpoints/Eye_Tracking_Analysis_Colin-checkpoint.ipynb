{
 "metadata": {
  "name": "",
  "signature": "sha256:f31a01beb2951296c3a50fb4d659c99c606879647021fbe02176f07f31523fed"
 },
 "nbformat": 3,
 "nbformat_minor": 0,
 "worksheets": [
  {
   "cells": [
    {
     "cell_type": "heading",
     "level": 1,
     "metadata": {},
     "source": [
      "Eye Tracking and Knowledge"
     ]
    },
    {
     "cell_type": "code",
     "collapsed": false,
     "input": [
      "import pandas as pd\n",
      "import numpy as np\n",
      "import string\n",
      "import re\n",
      "import time\n",
      "import math\n",
      "%matplotlib inline\n",
      "import matplotlib.pyplot as plt\n",
      "import seaborn\n",
      "from decimal import *\n",
      "from sklearn.naive_bayes import GaussianNB\n",
      "from sklearn.ensemble import RandomForestClassifier\n",
      "from sklearn.ensemble import ExtraTreesClassifier\n",
      "from sklearn.feature_selection import SelectKBest, chi2\n",
      "from sklearn.cross_validation import KFold\n",
      "\n",
      "from sklearn.multiclass import OneVsRestClassifier\n",
      "from sklearn.svm import LinearSVC\n",
      "from sklearn.linear_model import LogisticRegression\n",
      "from sklearn.pipeline import Pipeline\n",
      "from sklearn import metrics\n",
      "\n",
      "from sklearn.preprocessing import StandardScaler\n",
      "from sklearn.lda import LDA\n",
      "from sklearn.decomposition import PCA"
     ],
     "language": "python",
     "metadata": {},
     "outputs": [],
     "prompt_number": 1
    },
    {
     "cell_type": "heading",
     "level": 3,
     "metadata": {},
     "source": [
      "Load gaze and pupil data"
     ]
    },
    {
     "cell_type": "code",
     "collapsed": false,
     "input": [
      "df_gaze = pd.read_csv('../data/logsAndEye_09152014.csv', na_values=['None'])\n",
      "df_pupil = pd.read_csv('../data/pupilDiameters.csv', na_values=['None'])\n",
      "# df_pupil.head()"
     ],
     "language": "python",
     "metadata": {},
     "outputs": [],
     "prompt_number": 2
    },
    {
     "cell_type": "heading",
     "level": 3,
     "metadata": {},
     "source": [
      "Join datasets on subject_sync"
     ]
    },
    {
     "cell_type": "code",
     "collapsed": false,
     "input": [
      "# datasets are joined with rows containing null values dropped\n",
      "df_all_data = df_gaze.merge(df_pupil, on='subject_sync').set_index('subject_sync').dropna()\n",
      "\n",
      "# clean up column names (for pupil cols)\n",
      "clean_columns = [name.replace(\" \",\"_\").replace(\"[\",\"\").replace(\"]\",\"\") for name in df_all_data.columns]\n",
      "df_all_data.columns = clean_columns"
     ],
     "language": "python",
     "metadata": {},
     "outputs": [],
     "prompt_number": 3
    },
    {
     "cell_type": "code",
     "collapsed": false,
     "input": [
      "# list of all columns\n",
      "# [col for col in df_all_data.columns]"
     ],
     "language": "python",
     "metadata": {},
     "outputs": [],
     "prompt_number": 5
    },
    {
     "cell_type": "code",
     "collapsed": false,
     "input": [
      "feature_cols = [\n",
      " 'logs_Correct',\n",
      " 'eye_switch',\n",
      " 'eye_2ndFixDur_GR',\n",
      " 'eye_2ndFixDur_Interactions',\n",
      " 'eye_2ndFixDur_Titles',\n",
      " 'eye_2ndFixDur_Hints', #\n",
      " 'eye_2ndFixDur_Progress',\n",
      " 'eye_2ndFixDur_WhiteSpace',\n",
      " 'eye_1stFixDur_GR',\n",
      " 'eye_1stFixDur_Interactions',\n",
      " 'eye_1stFixDur_Titles',\n",
      " 'eye_1stFixDur_Hints',\n",
      " 'eye_1stFixDur_Progress',\n",
      " 'eye_1stFixDur_WhiteSpace',\n",
      " 'eye_fixDur_GR',\n",
      " 'eye_fixDur_Interactions',\n",
      " 'eye_fixDur_Titles',\n",
      " 'eye_fixDur_Hints', #\n",
      " 'eye_fixDur_Progress',\n",
      "#  'eye_fixDur_WhiteSpace',\n",
      " 'seq2_betweenGRs',\n",
      " 'seq2_autoGR',\n",
      " 'seq2_GR-caption',\n",
      " 'seq2_GR-Interactions',\n",
      " 'seq2_GR-HintText',\n",
      " 'seq2_GR-Progress',\n",
      " 'seq2_Interactions-Progress',\n",
      " 'seq2_Interactions-HintText',\n",
      " 'seq3_betweenGRs',\n",
      " 'seq3_autoGR', #\n",
      "#  'seq3_GR-caption-GR',\n",
      " 'seq3_caption-GR-caption',\n",
      " 'seq3_GR-Interactions-GR',\n",
      " 'seq3_Interactions-GR-Interactions',\n",
      "#  'seq3_GR-HintText-GR',\n",
      " 'seq3_HintText-GR-HintText',\n",
      " 'seq3_Interactions-HintText-Interactions',\n",
      " 'seq3_HintText-Interactions-HintText',\n",
      " 'seq3_GR-Progress-GR',\n",
      "#  'seq3_Progress-GR-Progress',\n",
      "#  'seq3_Progress-Interactions-Progress',\n",
      " 'pretest_sense',\n",
      "#  'posttest1_sense',\n",
      "#  'posttest2_sense',\n",
      " 'pretest_fluency',\n",
      "#  'posttest1_fluency',\n",
      "#  'posttest2_fluency',\n",
      " 'pretest_concScales',\n",
      "#  'posttest1_concScales',\n",
      "#  'posttest2_concScales',\n",
      "#  'prePost_concScales',\n",
      " 'Average_Pupil_Diameter_mm',\n",
      " 'AveragePupil_Size_px_X']\n",
      "\n",
      "#choose an outcome variable\n",
      "outcome_col = 'logs_errorRate_medianSplit' \n",
      "# oucome_col = 'logs_firstIncorrectRate_medianSplit'\n",
      "\n",
      "df_features = df_all_data[feature_cols]\n",
      "len(df_features)"
     ],
     "language": "python",
     "metadata": {},
     "outputs": [
      {
       "metadata": {},
       "output_type": "pyout",
       "prompt_number": 27,
       "text": [
        "1234"
       ]
      }
     ],
     "prompt_number": 27
    },
    {
     "cell_type": "heading",
     "level": 2,
     "metadata": {},
     "source": [
      "Cross-validation function"
     ]
    },
    {
     "cell_type": "code",
     "collapsed": false,
     "input": [
      "# Cross-Validation Function\n",
      "def cv_fun(pipeline):\n",
      "    scores = []\n",
      "    for train_idx, cv_idx in KFold(n=len(df_features), n_folds=7, indices=False, shuffle=True):\n",
      "        train_features = df_features[train_idx]\n",
      "        train_y    = np.asarray(df_all_data[train_idx][outcome_col])\n",
      "        test_features  = df_features[cv_idx]\n",
      "        test_y     = np.asarray(list(df_all_data[cv_idx][outcome_col]))\n",
      "        pipeline.fit(train_features, train_y)\n",
      "        score = pipeline.score(test_features, test_y)    \n",
      "        scores.append(score)\n",
      "    return scores, np.mean(scores)"
     ],
     "language": "python",
     "metadata": {},
     "outputs": [],
     "prompt_number": 40
    },
    {
     "cell_type": "code",
     "collapsed": false,
     "input": [
      "# Refining Random Forest features\n",
      "\n",
      "rf_feature_cols = [\n",
      " 'logs_Correct',\n",
      " 'eye_switch',\n",
      " 'eye_2ndFixDur_GR',\n",
      " 'eye_2ndFixDur_Interactions',\n",
      " 'eye_2ndFixDur_Titles',\n",
      "#  'eye_2ndFixDur_Hints', #\n",
      " 'eye_2ndFixDur_Progress',\n",
      " 'eye_2ndFixDur_WhiteSpace',\n",
      " 'eye_1stFixDur_GR',\n",
      " 'eye_1stFixDur_Interactions',\n",
      " 'eye_1stFixDur_Titles',\n",
      " 'eye_1stFixDur_Hints',\n",
      " 'eye_1stFixDur_Progress',\n",
      " 'eye_1stFixDur_WhiteSpace',\n",
      " 'eye_fixDur_GR',\n",
      " 'eye_fixDur_Interactions',\n",
      " 'eye_fixDur_Titles',\n",
      "#  'eye_fixDur_Hints', #\n",
      " 'eye_fixDur_Progress',\n",
      " 'eye_fixDur_WhiteSpace',\n",
      " 'seq2_betweenGRs',\n",
      " 'seq2_autoGR',\n",
      " 'seq2_GR-caption',\n",
      " 'seq2_GR-Interactions',\n",
      " 'seq2_GR-HintText',\n",
      " 'seq2_GR-Progress',\n",
      " 'seq2_Interactions-Progress',\n",
      "#  'seq2_Interactions-HintText',\n",
      "#  'seq3_betweenGRs',\n",
      " 'seq3_autoGR', #\n",
      " 'seq3_GR-caption-GR',\n",
      " 'seq3_caption-GR-caption',\n",
      "#  'seq3_GR-Interactions-GR',\n",
      " 'seq3_Interactions-GR-Interactions',\n",
      " 'seq3_GR-HintText-GR',\n",
      " 'seq3_HintText-GR-HintText',\n",
      " 'seq3_Interactions-HintText-Interactions',\n",
      " 'seq3_HintText-Interactions-HintText',\n",
      " 'seq3_GR-Progress-GR',\n",
      " 'seq3_Progress-GR-Progress',\n",
      " 'seq3_Progress-Interactions-Progress',\n",
      " 'pretest_sense',\n",
      "#  'posttest1_sense',\n",
      "#  'posttest2_sense',\n",
      " 'pretest_fluency',\n",
      "#  'posttest1_fluency',\n",
      "#  'posttest2_fluency',\n",
      " 'pretest_concScales',\n",
      "#  'posttest1_concScales',\n",
      "#  'posttest2_concScales',\n",
      "#  'prePost_concScales',\n",
      " 'Average_Pupil_Diameter_mm',\n",
      " 'AveragePupil_Size_px_X']\n",
      "\n",
      "df_rf_features = df_all_data[rf_feature_cols]\n",
      "\n",
      "\n",
      "# Feature Importance with Random Forest / ExtraTreesClassifier and Cross-Validation\n",
      "scores = []\n",
      "for train_idx, cv_idx in KFold(n=len(df_rf_features), n_folds=8, indices=False, shuffle=True):\n",
      "    train_features = df_rf_features[train_idx]\n",
      "    train_y = np.asarray(df_all_data[train_idx][outcome_col])\n",
      "    test_features  = df_rf_features[cv_idx]\n",
      "    test_y = np.asarray(list(df_all_data[cv_idx][outcome_col]))\n",
      "\n",
      "    importances = clf.feature_importances_\n",
      "    for col, importance in zip(rf_feature_cols, importances):    \n",
      "        if (importance > .03):\n",
      "            print col, importance\n",
      "        \n",
      "    print len([i for i in importances if i < .01])\n"
     ],
     "language": "python",
     "metadata": {},
     "outputs": [
      {
       "output_type": "stream",
       "stream": "stderr",
       "text": [
        "/Users/colingerber/Documents/I_School_Classes/Edu_Machine/Final_Project/Edu_ML_Final_Project/env/lib/python2.7/site-packages/sklearn/cross_validation.py:65: DeprecationWarning: The indices parameter is deprecated and will be removed (assumed True) in 0.17\n",
        "  stacklevel=1)\n"
       ]
      },
      {
       "ename": "NameError",
       "evalue": "name 'clf' is not defined",
       "output_type": "pyerr",
       "traceback": [
        "\u001b[0;31m---------------------------------------------------------------------------\u001b[0m\n\u001b[0;31mNameError\u001b[0m                                 Traceback (most recent call last)",
        "\u001b[0;32m<ipython-input-8-b90e0f618012>\u001b[0m in \u001b[0;36m<module>\u001b[0;34m()\u001b[0m\n\u001b[1;32m     67\u001b[0m     \u001b[0mtest_y\u001b[0m \u001b[0;34m=\u001b[0m \u001b[0mnp\u001b[0m\u001b[0;34m.\u001b[0m\u001b[0masarray\u001b[0m\u001b[0;34m(\u001b[0m\u001b[0mlist\u001b[0m\u001b[0;34m(\u001b[0m\u001b[0mdf_all_data\u001b[0m\u001b[0;34m[\u001b[0m\u001b[0mcv_idx\u001b[0m\u001b[0;34m]\u001b[0m\u001b[0;34m[\u001b[0m\u001b[0moutcome_col\u001b[0m\u001b[0;34m]\u001b[0m\u001b[0;34m)\u001b[0m\u001b[0;34m)\u001b[0m\u001b[0;34m\u001b[0m\u001b[0m\n\u001b[1;32m     68\u001b[0m \u001b[0;34m\u001b[0m\u001b[0m\n\u001b[0;32m---> 69\u001b[0;31m     \u001b[0mimportances\u001b[0m \u001b[0;34m=\u001b[0m \u001b[0mclf\u001b[0m\u001b[0;34m.\u001b[0m\u001b[0mfeature_importances_\u001b[0m\u001b[0;34m\u001b[0m\u001b[0m\n\u001b[0m\u001b[1;32m     70\u001b[0m     \u001b[0;32mfor\u001b[0m \u001b[0mcol\u001b[0m\u001b[0;34m,\u001b[0m \u001b[0mimportance\u001b[0m \u001b[0;32min\u001b[0m \u001b[0mzip\u001b[0m\u001b[0;34m(\u001b[0m\u001b[0mrf_feature_cols\u001b[0m\u001b[0;34m,\u001b[0m \u001b[0mimportances\u001b[0m\u001b[0;34m)\u001b[0m\u001b[0;34m:\u001b[0m\u001b[0;34m\u001b[0m\u001b[0m\n\u001b[1;32m     71\u001b[0m         \u001b[0;32mif\u001b[0m \u001b[0;34m(\u001b[0m\u001b[0mimportance\u001b[0m \u001b[0;34m>\u001b[0m \u001b[0;36m.03\u001b[0m\u001b[0;34m)\u001b[0m\u001b[0;34m:\u001b[0m\u001b[0;34m\u001b[0m\u001b[0m\n",
        "\u001b[0;31mNameError\u001b[0m: name 'clf' is not defined"
       ]
      }
     ],
     "prompt_number": 8
    },
    {
     "cell_type": "heading",
     "level": 2,
     "metadata": {},
     "source": [
      "Classification pipelines"
     ]
    },
    {
     "cell_type": "code",
     "collapsed": false,
     "input": [
      "def nb(df_train):\n",
      "    pipeline = Pipeline([\n",
      "        #('scaler', StandardScaler()),\n",
      "        #('reduce_dim', PCA()),\n",
      "        #('reduce_dim', LDA()),\n",
      "        ('clf', GaussianNB())\n",
      "    ])\n",
      "    result = cv_fun(pipeline=pipeline)\n",
      "    print \"NB average score:\", result[1]\n",
      "    print \"NB scores:\", result[0]\n",
      "    print \"stddev:\", np.std(result[0]) \n",
      "#     print \"range:\", np.max(result[0]) - np.min(result[0])\n",
      "    print\n",
      "    \n",
      "    \n",
      "def max_ent(df_train):\n",
      "    pipeline = Pipeline([\n",
      "        #('scaler', StandardScaler()),\n",
      "        #('reduce_dim', PCA()),\n",
      "        #('reduce_dim', LDA()),\n",
      "        ('clf', LogisticRegression(penalty='l2'))\n",
      "    ])\n",
      "    result = cv_fun(pipeline=pipeline)\n",
      "    print \"MaxEnt average score:\", result[1]\n",
      "    print \"MaxEnt scores:\", result[0]\n",
      "    print \"stddev:\", np.std(result[0])\n",
      "#     print \"range:\", np.max(result[0]) - np.min(result[0])\n",
      "    print\n",
      "\n",
      "    \n",
      "def random_forest(df_train):\n",
      "    pipeline = Pipeline([\n",
      "        #('scaler', StandardScaler()),\n",
      "        #('reduce_dim', PCA()),\n",
      "        #('reduce_dim', LDA()),\n",
      "        ('feature_selection', ExtraTreesClassifier()), # need way to print this, see which features picked\n",
      "        ('clf', RandomForestClassifier())\n",
      "    ])\n",
      "    result = cv_fun(pipeline=pipeline)\n",
      "    print \"RF average score:\", result[1]\n",
      "    print \"RF scores:\", result[0]\n",
      "    print \"stddev:\", np.std(result[0])\n",
      "#     print \"range:\", np.max(result[0]) - np.min(result[0])\n",
      "    print\n",
      "\n"
     ],
     "language": "python",
     "metadata": {},
     "outputs": [],
     "prompt_number": 38
    },
    {
     "cell_type": "code",
     "collapsed": false,
     "input": [
      "# Evaluate scores across k folds\n",
      "\n",
      "# currently, features chosen using feature selection for RF, so not surprising that Naive Bayes\n",
      "# is not doing very well\n",
      "\n",
      "nb(df_features)\n",
      "max_ent(df_features)\n",
      "random_forest(df_features)"
     ],
     "language": "python",
     "metadata": {},
     "outputs": [
      {
       "output_type": "stream",
       "stream": "stderr",
       "text": [
        "/Users/colingerber/Documents/I_School_Classes/Edu_Machine/Final_Project/Edu_ML_Final_Project/env/lib/python2.7/site-packages/sklearn/cross_validation.py:65: DeprecationWarning: The indices parameter is deprecated and will be removed (assumed True) in 0.17\n",
        "  stacklevel=1)\n",
        "/Users/colingerber/Documents/I_School_Classes/Edu_Machine/Final_Project/Edu_ML_Final_Project/env/lib/python2.7/site-packages/sklearn/cross_validation.py:65: DeprecationWarning: The indices parameter is deprecated and will be removed (assumed True) in 0.17\n",
        "  stacklevel=1)\n"
       ]
      },
      {
       "output_type": "stream",
       "stream": "stdout",
       "text": [
        "NB average score: 0.586694731822\n",
        "NB scores: [0.56497175141242939, 0.6271186440677966, 0.57954545454545459, 0.56818181818181823, 0.57954545454545459, 0.60795454545454541, 0.57954545454545459]\n",
        "stddev: 0.0208875379901\n",
        "\n",
        "MaxEnt average score:"
       ]
      },
      {
       "output_type": "stream",
       "stream": "stdout",
       "text": [
        " 0.640999889941\n",
        "MaxEnt scores: [0.62146892655367236, 0.66666666666666663, 0.60227272727272729, 0.65909090909090906, 0.65909090909090906, 0.61931818181818177, 0.65909090909090906]\n",
        "stddev: 0.0238806151974\n",
        "\n",
        "RF average score:"
       ]
      },
      {
       "output_type": "stream",
       "stream": "stdout",
       "text": [
        " 0.642568236848\n",
        "RF scores: [0.67231638418079098, 0.68361581920903958, 0.64772727272727271, 0.63636363636363635, 0.60227272727272729, 0.64204545454545459, 0.61363636363636365]\n",
        "stddev: 0.0269815378324\n",
        "\n"
       ]
      },
      {
       "output_type": "stream",
       "stream": "stderr",
       "text": [
        "/Users/colingerber/Documents/I_School_Classes/Edu_Machine/Final_Project/Edu_ML_Final_Project/env/lib/python2.7/site-packages/sklearn/cross_validation.py:65: DeprecationWarning: The indices parameter is deprecated and will be removed (assumed True) in 0.17\n",
        "  stacklevel=1)\n"
       ]
      }
     ],
     "prompt_number": 41
    },
    {
     "cell_type": "code",
     "collapsed": false,
     "input": [
      "NB = .588\n",
      "ME = .64\n",
      "RF = .69"
     ],
     "language": "python",
     "metadata": {},
     "outputs": []
    },
    {
     "cell_type": "markdown",
     "metadata": {},
     "source": [
      "##Research Questions\n",
      "\n",
      "1. What are the features of eye tracking that best predict performance? \n",
      "\n",
      "2. Multiple representations of concepts were provided within the tutor. Can an analysis make recommendations about the efficacy of each representation?\n",
      "\n",
      "3. Can we predict learning (Post-Pre knowledge) from eye tracking features?"
     ]
    },
    {
     "cell_type": "code",
     "collapsed": false,
     "input": [
      "# Next TODOs:\n",
      "\n",
      "# Go back and inspect which rows were dropped with dropna(). Other outliers we need to take care of?\n",
      "\n",
      "# Improve feature selection to find most informative features\n",
      "# http://scikit-learn.org/stable/modules/feature_selection.html"
     ],
     "language": "python",
     "metadata": {},
     "outputs": []
    },
    {
     "cell_type": "markdown",
     "metadata": {},
     "source": [
      "Check predictive measure of pre-test for top x percent vs. bottom x percent\n",
      "\n",
      "K means k2 through k8 and binary features / spectral clustering\n",
      "  does one clustering do better than the other\n",
      "  test each k to see which is best, find feature break down of each cluster in best k\n",
      "  \n",
      "compare just clusters, just features, and both for predictions\n",
      "\n",
      "gaze behavior profile (pattern)"
     ]
    },
    {
     "cell_type": "heading",
     "level": 2,
     "metadata": {},
     "source": [
      "Clusters"
     ]
    },
    {
     "cell_type": "code",
     "collapsed": false,
     "input": [
      "gaze_cols = [\n",
      " 'eye_switch',\n",
      " 'eye_2ndFixDur_GR',\n",
      " 'eye_2ndFixDur_Interactions',\n",
      " 'eye_2ndFixDur_Titles',\n",
      " 'eye_2ndFixDur_Hints', \n",
      " 'eye_2ndFixDur_Progress',\n",
      " 'eye_2ndFixDur_WhiteSpace',\n",
      " 'eye_1stFixDur_GR',\n",
      " 'eye_1stFixDur_Interactions',\n",
      " 'eye_1stFixDur_Titles',\n",
      " 'eye_1stFixDur_Hints',\n",
      " 'eye_1stFixDur_Progress',\n",
      " 'eye_1stFixDur_WhiteSpace',\n",
      " 'eye_fixDur_GR',\n",
      " 'eye_fixDur_Interactions',\n",
      " 'eye_fixDur_Titles',\n",
      " 'eye_fixDur_Hints', \n",
      " 'eye_fixDur_Progress',\n",
      " 'eye_fixDur_WhiteSpace',\n",
      " 'seq2_betweenGRs',\n",
      " 'seq2_autoGR',\n",
      " 'seq2_GR-caption',\n",
      " 'seq2_GR-Interactions',\n",
      " 'seq2_GR-HintText',\n",
      " 'seq2_GR-Progress',\n",
      " 'seq2_Interactions-Progress',\n",
      " 'seq2_Interactions-HintText',\n",
      " 'seq3_betweenGRs',\n",
      " 'seq3_autoGR', \n",
      " 'seq3_GR-caption-GR',\n",
      " 'seq3_caption-GR-caption',\n",
      " 'seq3_GR-Interactions-GR',\n",
      " 'seq3_Interactions-GR-Interactions',\n",
      " 'seq3_GR-HintText-GR',\n",
      " 'seq3_HintText-GR-HintText',\n",
      " 'seq3_Interactions-HintText-Interactions',\n",
      " 'seq3_HintText-Interactions-HintText',\n",
      " 'seq3_GR-Progress-GR',\n",
      " 'seq3_Progress-GR-Progress',\n",
      " 'seq3_Progress-Interactions-Progress']"
     ],
     "language": "python",
     "metadata": {},
     "outputs": [],
     "prompt_number": 44
    },
    {
     "cell_type": "heading",
     "level": 3,
     "metadata": {},
     "source": [
      "KMeans"
     ]
    },
    {
     "cell_type": "code",
     "collapsed": false,
     "input": [
      "from sklearn.cluster import KMeans\n",
      "\n",
      "df_gaze_features = df_all_data[gaze_cols]\n",
      "df_cluster_features = pd.DataFrame(index=df_gaze_features.index)\n",
      "# normalize dataset for easier parameter selection\n",
      "df_gaze_features = StandardScaler().fit_transform(df_gaze_features)\n",
      "\n",
      "\n",
      "for n in xrange(2,9):\n",
      "    k_means = KMeans(init='k-means++', n_clusters=n, n_init=100)\n",
      "    k_means.fit(df_gaze_features)\n",
      "    k_means_labels = k_means.labels_\n",
      "    k_means_cluster_centers = k_means.cluster_centers_\n",
      "    k_means_labels_unique = np.unique(k_means_labels)\n",
      "    \n",
      "    #create dataframe with cluster\n",
      "    for cluster in xrange(n):\n",
      "        label = 'k%d_%d' % (n, cluster)\n",
      "        df_cluster_features[label] = [1 if x == cluster else 0 for x in k_means_labels]"
     ],
     "language": "python",
     "metadata": {},
     "outputs": [],
     "prompt_number": 55
    },
    {
     "cell_type": "code",
     "collapsed": false,
     "input": [
      "# add new features to existing features\n",
      "df_features_clusters = df_features.join(df_cluster_features)"
     ],
     "language": "python",
     "metadata": {},
     "outputs": [],
     "prompt_number": 56
    },
    {
     "cell_type": "code",
     "collapsed": false,
     "input": [
      "#clusters alone\n",
      "nb(df_cluster_features)\n",
      "max_ent(df_cluster_features)\n",
      "random_forest(df_cluster_features)"
     ],
     "language": "python",
     "metadata": {},
     "outputs": [
      {
       "output_type": "stream",
       "stream": "stderr",
       "text": [
        "/Users/colingerber/Documents/I_School_Classes/Edu_Machine/Final_Project/Edu_ML_Final_Project/env/lib/python2.7/site-packages/sklearn/cross_validation.py:65: DeprecationWarning: The indices parameter is deprecated and will be removed (assumed True) in 0.17\n",
        "  stacklevel=1)\n",
        "/Users/colingerber/Documents/I_School_Classes/Edu_Machine/Final_Project/Edu_ML_Final_Project/env/lib/python2.7/site-packages/sklearn/cross_validation.py:65: DeprecationWarning: The indices parameter is deprecated and will be removed (assumed True) in 0.17\n",
        "  stacklevel=1)\n"
       ]
      },
      {
       "output_type": "stream",
       "stream": "stdout",
       "text": [
        "NB average score: 0.588263078729\n",
        "NB scores: [0.6271186440677966, 0.63276836158192096, 0.53409090909090906, 0.5625, 0.59090909090909094, 0.64772727272727271, 0.52272727272727271]\n",
        "stddev: 0.046177868795\n",
        "\n",
        "MaxEnt average score:"
       ]
      },
      {
       "output_type": "stream",
       "stream": "stdout",
       "text": [
        " 0.642637023993\n",
        "MaxEnt scores: [0.65536723163841804, 0.61581920903954801, 0.65340909090909094, 0.67613636363636365, 0.65340909090909094, 0.64204545454545459, 0.60227272727272729]\n",
        "stddev: 0.0234982078269\n",
        "\n",
        "RF average score:"
       ]
      },
      {
       "output_type": "stream",
       "stream": "stdout",
       "text": [
        " 0.627279147406\n",
        "RF scores: [0.66101694915254239, 0.53107344632768361, 0.64772727272727271, 0.57386363636363635, 0.63068181818181823, 0.64204545454545459, 0.70454545454545459]\n",
        "stddev: 0.0532713043226\n",
        "\n"
       ]
      },
      {
       "output_type": "stream",
       "stream": "stderr",
       "text": [
        "/Users/colingerber/Documents/I_School_Classes/Edu_Machine/Final_Project/Edu_ML_Final_Project/env/lib/python2.7/site-packages/sklearn/cross_validation.py:65: DeprecationWarning: The indices parameter is deprecated and will be removed (assumed True) in 0.17\n",
        "  stacklevel=1)\n"
       ]
      }
     ],
     "prompt_number": 57
    },
    {
     "cell_type": "code",
     "collapsed": false,
     "input": [
      "NB = .59\n",
      "ME = .64\n",
      "RF = .64"
     ],
     "language": "python",
     "metadata": {},
     "outputs": []
    },
    {
     "cell_type": "code",
     "collapsed": false,
     "input": [
      "#conbined with cluster\n",
      "nb(df_features_clusters)\n",
      "max_ent(df_features_clusters)\n",
      "random_forest(df_features_clusters)"
     ],
     "language": "python",
     "metadata": {},
     "outputs": [
      {
       "output_type": "stream",
       "stream": "stderr",
       "text": [
        "/Users/colingerber/Documents/I_School_Classes/Edu_Machine/Final_Project/Edu_ML_Final_Project/env/lib/python2.7/site-packages/sklearn/cross_validation.py:65: DeprecationWarning: The indices parameter is deprecated and will be removed (assumed True) in 0.17\n",
        "  stacklevel=1)\n",
        "/Users/colingerber/Documents/I_School_Classes/Edu_Machine/Final_Project/Edu_ML_Final_Project/env/lib/python2.7/site-packages/sklearn/cross_validation.py:65: DeprecationWarning: The indices parameter is deprecated and will be removed (assumed True) in 0.17\n",
        "  stacklevel=1)\n"
       ]
      },
      {
       "output_type": "stream",
       "stream": "stdout",
       "text": [
        "NB average score: 0.590762345\n",
        "NB scores: [0.61016949152542377, 0.57062146892655363, 0.57954545454545459, 0.61931818181818177, 0.53409090909090906, 0.58522727272727271, 0.63636363636363635]\n",
        "stddev: 0.0317249634025\n",
        "\n",
        "MaxEnt average score:"
       ]
      },
      {
       "output_type": "stream",
       "stream": "stdout",
       "text": [
        " 0.644251228997\n",
        "MaxEnt scores: [0.63276836158192096, 0.64971751412429379, 0.66477272727272729, 0.65340909090909094, 0.63068181818181823, 0.66477272727272729, 0.61363636363636365]\n",
        "stddev: 0.0177653982539\n",
        "\n",
        "RF average score:"
       ]
      },
      {
       "output_type": "stream",
       "stream": "stdout",
       "text": [
        " 0.660507924279\n",
        "RF scores: [0.60451977401129942, 0.64971751412429379, 0.64772727272727271, 0.64772727272727271, 0.6875, 0.70454545454545459, 0.68181818181818177]\n",
        "stddev: 0.0309372621606\n",
        "\n"
       ]
      },
      {
       "output_type": "stream",
       "stream": "stderr",
       "text": [
        "/Users/colingerber/Documents/I_School_Classes/Edu_Machine/Final_Project/Edu_ML_Final_Project/env/lib/python2.7/site-packages/sklearn/cross_validation.py:65: DeprecationWarning: The indices parameter is deprecated and will be removed (assumed True) in 0.17\n",
        "  stacklevel=1)\n"
       ]
      }
     ],
     "prompt_number": 58
    },
    {
     "cell_type": "code",
     "collapsed": false,
     "input": [
      "NB = .59\n",
      "ME = .66\n",
      "RF = .66"
     ],
     "language": "python",
     "metadata": {},
     "outputs": []
    },
    {
     "cell_type": "heading",
     "level": 3,
     "metadata": {},
     "source": [
      "Finding best k value"
     ]
    },
    {
     "cell_type": "code",
     "collapsed": false,
     "input": [
      "#redefine algorithm defs for use in finding best k\n",
      "\n",
      "def nb_test(df_train):\n",
      "    pipeline = Pipeline([\n",
      "        #('scaler', StandardScaler()),\n",
      "        #('reduce_dim', PCA()),\n",
      "        #('reduce_dim', LDA()),\n",
      "        ('clf', GaussianNB())\n",
      "    ])\n",
      "    result = cv_fun(pipeline=pipeline)\n",
      "    #return average\n",
      "    return result[1]\n",
      "\n",
      "    \n",
      "    \n",
      "def max_ent_test(df_train):\n",
      "    pipeline = Pipeline([\n",
      "        #('scaler', StandardScaler()),\n",
      "        #('reduce_dim', PCA()),\n",
      "        #('reduce_dim', LDA()),\n",
      "        ('clf', LogisticRegression(penalty='l2'))\n",
      "    ])\n",
      "    result = cv_fun(pipeline=pipeline)\n",
      "    #return average\n",
      "    return result[1]\n",
      "\n",
      "    \n",
      "def random_forest_test(df_train):\n",
      "    pipeline = Pipeline([\n",
      "        #('scaler', StandardScaler()),\n",
      "        #('reduce_dim', PCA()),\n",
      "        #('reduce_dim', LDA()),\n",
      "        ('feature_selection', ExtraTreesClassifier()), # need way to print this, see which features picked\n",
      "        ('clf', RandomForestClassifier())\n",
      "    ])\n",
      "    result = cv_fun(pipeline=pipeline)\n",
      "    #return average score\n",
      "    return result[1]"
     ],
     "language": "python",
     "metadata": {},
     "outputs": [],
     "prompt_number": 50
    },
    {
     "cell_type": "code",
     "collapsed": false,
     "input": [
      "#loop through all the different k values and test they to find which is best\n",
      "\n",
      "cluster_results_dict = {}\n",
      "\n",
      "for n in xrange(2,9):\n",
      "    cluster = 'k%d' % (n)\n",
      "    cluster_results_dict[cluster] = {}\n",
      "    columns = [col for col in df_cluster_features.columns if cluster in col]\n",
      "    df_test = df_cluster_features[columns]\n",
      "    nb_result = nb_test(df_test)\n",
      "    me_result = max_ent_test(df_test)\n",
      "    rf_result = random_forest_test(df_test)\n",
      "    \n",
      "    cluster_results_dict[cluster]['nb'] = nb_result\n",
      "    cluster_results_dict[cluster]['me'] = me_result\n",
      "    cluster_results_dict[cluster]['rf'] = rf_result"
     ],
     "language": "python",
     "metadata": {},
     "outputs": []
    },
    {
     "cell_type": "code",
     "collapsed": false,
     "input": [
      "nb_top = 0; me_top = 0; rf_top = 0;\n",
      "for k in cluster_results_dict:\n",
      "    if cluster_results_dict[k]['nb'] > nb_top:\n",
      "        nb_top = cluster_results_dict[k]['nb']\n",
      "        nb_cluster = k\n",
      "    if cluster_results_dict[k]['me'] > me_top:\n",
      "        me_top = cluster_results_dict[k]['me']\n",
      "        me_cluster = k\n",
      "    if cluster_results_dict[k]['rf'] > rf_top:\n",
      "        rf_top = cluster_results_dict[k]['rf']\n",
      "        rf_cluster = k\n",
      "print 'Best Clusters'\n",
      "print 'NB: %s at %.3f%% accuracy' % (nb_cluster, nb_top)\n",
      "print 'ME: %s at %.3f%% accuracy' % (me_cluster, me_top)\n",
      "print 'RF: %s at %.3f%% accuracy' % (rf_cluster, rf_top)"
     ],
     "language": "python",
     "metadata": {},
     "outputs": [
      {
       "output_type": "stream",
       "stream": "stdout",
       "text": [
        "Best Clusters\n",
        "NB: k8 at 0.600% accuracy\n",
        "ME: k3 at 0.646% accuracy\n",
        "RF: k7 at 0.670% accuracy\n"
       ]
      }
     ],
     "prompt_number": 60
    },
    {
     "cell_type": "code",
     "collapsed": false,
     "input": [
      "cluster_results_dict"
     ],
     "language": "python",
     "metadata": {},
     "outputs": [
      {
       "metadata": {},
       "output_type": "pyout",
       "prompt_number": 61,
       "text": [
        "{'k2': {'me': 0.62962708195759043,\n",
        "  'nb': 0.59245450876806804,\n",
        "  'rf': 0.66369047619047616},\n",
        " 'k3': {'me': 0.64585167657201559,\n",
        "  'nb': 0.58746514784650372,\n",
        "  'rf': 0.64749798224374489},\n",
        " 'k4': {'me': 0.63775772250348517,\n",
        "  'nb': 0.58988645535255713,\n",
        "  'rf': 0.6580132438183286},\n",
        " 'k5': {'me': 0.64420537090028618,\n",
        "  'nb': 0.58753393499156203,\n",
        "  'rf': 0.64989636070144541},\n",
        " 'k6': {'me': 0.63775772250348517,\n",
        "  'nb': 0.58674517572822649,\n",
        "  'rf': 0.65719238388729917},\n",
        " 'k7': {'me': 0.63048004255631374,\n",
        "  'nb': 0.59638454765573401,\n",
        "  'rf': 0.67014271039694762},\n",
        " 'k8': {'me': 0.64187119377797353,\n",
        "  'nb': 0.59966340157018116,\n",
        "  'rf': 0.65069887739379262}}"
       ]
      }
     ],
     "prompt_number": 61
    },
    {
     "cell_type": "heading",
     "level": 3,
     "metadata": {},
     "source": [
      "Spectral Clustering"
     ]
    },
    {
     "cell_type": "code",
     "collapsed": false,
     "input": [
      "sorted(d.items(), key=lambda x: x[1])"
     ],
     "language": "python",
     "metadata": {},
     "outputs": []
    },
    {
     "cell_type": "code",
     "collapsed": false,
     "input": [
      "from sklearn.cluster import SpectralClustering\n",
      "\n",
      "df_gaze_features = df_all_data[gaze_cols]\n",
      "df_spectral_cluster_features = pd.DataFrame(index=df_gaze_features.index)\n",
      "# normalize dataset for easier parameter selection\n",
      "df_gaze_features = StandardScaler().fit_transform(df_gaze_features)\n",
      "\n",
      "for n in xrange(2,9):\n",
      "    spectral = SpectralClustering(n_clusters=n,\n",
      "                      eigen_solver='arpack',\n",
      "                      affinity=\"nearest_neighbors\")\n",
      "    spectral.fit(df_gaze_features)\n",
      "    spectral_labels = spectral.labels_\n",
      "    \n",
      "    #create dataframe with cluster\n",
      "    for cluster in xrange(n):\n",
      "        label = 'k%d_%d' % (n, cluster)\n",
      "        df_spectral_cluster_features[label] = [1 if x == cluster else 0 for x in spectral_labels]"
     ],
     "language": "python",
     "metadata": {},
     "outputs": [],
     "prompt_number": 63
    },
    {
     "cell_type": "code",
     "collapsed": false,
     "input": [
      "# add new features to existing features\n",
      "df_features_spectral_clusters = df_features.join(df_spectral_cluster_features)"
     ],
     "language": "python",
     "metadata": {},
     "outputs": [],
     "prompt_number": 64
    },
    {
     "cell_type": "code",
     "collapsed": false,
     "input": [
      "#clusters alone\n",
      "nb(df_spectral_cluster_features)\n",
      "max_ent(df_spectral_cluster_features)\n",
      "random_forest(df_spectral_cluster_features)"
     ],
     "language": "python",
     "metadata": {},
     "outputs": [
      {
       "output_type": "stream",
       "stream": "stderr",
       "text": [
        "/Users/colingerber/Documents/I_School_Classes/Edu_Machine/Final_Project/Edu_ML_Final_Project/env/lib/python2.7/site-packages/sklearn/cross_validation.py:65: DeprecationWarning: The indices parameter is deprecated and will be removed (assumed True) in 0.17\n",
        "  stacklevel=1)\n",
        "/Users/colingerber/Documents/I_School_Classes/Edu_Machine/Final_Project/Edu_ML_Final_Project/env/lib/python2.7/site-packages/sklearn/cross_validation.py:65: DeprecationWarning: The indices parameter is deprecated and will be removed (assumed True) in 0.17\n",
        "  stacklevel=1)\n"
       ]
      },
      {
       "output_type": "stream",
       "stream": "stdout",
       "text": [
        "NB average score: 0.582659219312\n",
        "NB scores: [0.61581920903954801, 0.54802259887005644, 0.57386363636363635, 0.52840909090909094, 0.61931818181818177, 0.60227272727272729, 0.59090909090909094]\n",
        "stddev: 0.0318844985028\n",
        "\n",
        "MaxEnt average score:"
       ]
      },
      {
       "output_type": "stream",
       "stream": "stdout",
       "text": [
        " 0.645833333333\n",
        "MaxEnt scores: [0.66666666666666663, 0.66666666666666663, 0.64772727272727271, 0.67045454545454541, 0.60227272727272729, 0.64204545454545459, 0.625]\n",
        "stddev: 0.023371988277\n",
        "\n",
        "RF average score:"
       ]
      },
      {
       "output_type": "stream",
       "stream": "stdout",
       "text": [
        " 0.661250825446\n",
        "RF scores: [0.68361581920903958, 0.65536723163841804, 0.6875, 0.61363636363636365, 0.63636363636363635, 0.67045454545454541, 0.68181818181818177]\n",
        "stddev: 0.0256850777992\n",
        "\n"
       ]
      },
      {
       "output_type": "stream",
       "stream": "stderr",
       "text": [
        "/Users/colingerber/Documents/I_School_Classes/Edu_Machine/Final_Project/Edu_ML_Final_Project/env/lib/python2.7/site-packages/sklearn/cross_validation.py:65: DeprecationWarning: The indices parameter is deprecated and will be removed (assumed True) in 0.17\n",
        "  stacklevel=1)\n"
       ]
      }
     ],
     "prompt_number": 67
    },
    {
     "cell_type": "code",
     "collapsed": false,
     "input": [
      "#conbined with cluster\n",
      "nb(df_features_spectral_clusters)\n",
      "max_ent(df_features_spectral_clusters)\n",
      "random_forest(df_features_spectral_clusters)"
     ],
     "language": "python",
     "metadata": {},
     "outputs": [
      {
       "output_type": "stream",
       "stream": "stderr",
       "text": [
        "/Users/colingerber/Documents/I_School_Classes/Edu_Machine/Final_Project/Edu_ML_Final_Project/env/lib/python2.7/site-packages/sklearn/cross_validation.py:65: DeprecationWarning: The indices parameter is deprecated and will be removed (assumed True) in 0.17\n",
        "  stacklevel=1)\n",
        "/Users/colingerber/Documents/I_School_Classes/Edu_Machine/Final_Project/Edu_ML_Final_Project/env/lib/python2.7/site-packages/sklearn/cross_validation.py:65: DeprecationWarning: The indices parameter is deprecated and will be removed (assumed True) in 0.17\n",
        "  stacklevel=1)\n"
       ]
      },
      {
       "output_type": "stream",
       "stream": "stdout",
       "text": [
        "NB average score: 0.593995340817\n",
        "NB scores: [0.61016949152542377, 0.58757062146892658, 0.57954545454545459, 0.59090909090909094, 0.63636363636363635, 0.55681818181818177, 0.59659090909090906]\n",
        "stddev: 0.0230066913093\n",
        "\n",
        "MaxEnt average score:"
       ]
      },
      {
       "output_type": "stream",
       "stream": "stdout",
       "text": [
        " 0.640243231345\n",
        "MaxEnt scores: [0.59322033898305082, 0.6271186440677966, 0.67613636363636365, 0.60795454545454541, 0.6875, 0.64772727272727271, 0.64204545454545459]\n",
        "stddev: 0.0316380070871\n",
        "\n",
        "RF average score:"
       ]
      },
      {
       "output_type": "stream",
       "stream": "stdout",
       "text": [
        " 0.649116773057\n",
        "RF scores: [0.61016949152542377, 0.67796610169491522, 0.6875, 0.64204545454545459, 0.60227272727272729, 0.66477272727272729, 0.65909090909090906]\n",
        "stddev: 0.0302640925263\n",
        "\n"
       ]
      },
      {
       "output_type": "stream",
       "stream": "stderr",
       "text": [
        "/Users/colingerber/Documents/I_School_Classes/Edu_Machine/Final_Project/Edu_ML_Final_Project/env/lib/python2.7/site-packages/sklearn/cross_validation.py:65: DeprecationWarning: The indices parameter is deprecated and will be removed (assumed True) in 0.17\n",
        "  stacklevel=1)\n"
       ]
      }
     ],
     "prompt_number": 66
    },
    {
     "cell_type": "heading",
     "level": 3,
     "metadata": {},
     "source": [
      "Finding best spectral n value"
     ]
    },
    {
     "cell_type": "code",
     "collapsed": false,
     "input": [
      "#loop through all the different k values and test they to find which is best\n",
      "\n",
      "spectral_cluster_results_dict = {}\n",
      "\n",
      "for n in xrange(2,9):\n",
      "    cluster = 'k%d' % (n)\n",
      "    spectral_cluster_results_dict[cluster] = {}\n",
      "    columns = [col for col in df_spectral_cluster_features.columns if cluster in col]\n",
      "    df_test = df_spectral_cluster_features[columns]\n",
      "    nb_result = nb_test(df_test)\n",
      "    me_result = max_ent_test(df_test)\n",
      "    rf_result = random_forest_test(df_test)\n",
      "    \n",
      "    spectral_cluster_results_dict[cluster]['nb'] = nb_result\n",
      "    spectral_cluster_results_dict[cluster]['me'] = me_result\n",
      "    spectral_cluster_results_dict[cluster]['rf'] = rf_result"
     ],
     "language": "python",
     "metadata": {},
     "outputs": []
    },
    {
     "cell_type": "code",
     "collapsed": false,
     "input": [
      "nb_top = 0; me_top = 0; rf_top = 0;\n",
      "for k in spectral_cluster_results_dict:\n",
      "    if spectral_cluster_results_dict[k]['nb'] > nb_top:\n",
      "        nb_top = spectral_cluster_results_dict[k]['nb']\n",
      "        nb_cluster = k\n",
      "    if spectral_cluster_results_dict[k]['me'] > me_top:\n",
      "        me_top = spectral_cluster_results_dict[k]['me']\n",
      "        me_cluster = k\n",
      "    if spectral_cluster_results_dict[k]['rf'] > rf_top:\n",
      "        rf_top = spectral_cluster_results_dict[k]['rf']\n",
      "        rf_cluster = k\n",
      "print 'Best Spectral Clusters'\n",
      "print 'NB: %s at %.3f%% accuracy' % (nb_cluster, nb_top)\n",
      "print 'ME: %s at %.3f%% accuracy' % (me_cluster, me_top)\n",
      "print 'RF: %s at %.3f%% accuracy' % (rf_cluster, rf_top)"
     ],
     "language": "python",
     "metadata": {},
     "outputs": [
      {
       "output_type": "stream",
       "stream": "stdout",
       "text": [
        "Best Spectral Clusters\n",
        "NB: k6 at 0.594% accuracy\n",
        "ME: k5 at 0.643% accuracy\n",
        "RF: k2 at 0.669% accuracy\n"
       ]
      }
     ],
     "prompt_number": 69
    },
    {
     "cell_type": "code",
     "collapsed": false,
     "input": [],
     "language": "python",
     "metadata": {},
     "outputs": []
    }
   ],
   "metadata": {}
  }
 ]
}