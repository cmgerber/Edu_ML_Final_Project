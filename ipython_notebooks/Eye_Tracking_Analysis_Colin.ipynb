{
 "metadata": {
  "name": "",
  "signature": "sha256:ff64f75c9298fa072976a5987a02fac55056986ee59da432e9f39c717295cdf8"
 },
 "nbformat": 3,
 "nbformat_minor": 0,
 "worksheets": [
  {
   "cells": [
    {
     "cell_type": "heading",
     "level": 1,
     "metadata": {},
     "source": [
      "Eye Tracking and Knowledge"
     ]
    },
    {
     "cell_type": "code",
     "collapsed": false,
     "input": [
      "import pandas as pd\n",
      "import numpy as np\n",
      "import string\n",
      "import re\n",
      "import time\n",
      "import math\n",
      "%matplotlib inline\n",
      "import matplotlib.pyplot as plt\n",
      "import seaborn\n",
      "from decimal import *\n",
      "from sklearn.naive_bayes import GaussianNB\n",
      "from sklearn.ensemble import RandomForestClassifier\n",
      "from sklearn.ensemble import ExtraTreesClassifier\n",
      "from sklearn.feature_selection import SelectKBest, chi2\n",
      "from sklearn.cross_validation import KFold\n",
      "\n",
      "from sklearn.multiclass import OneVsRestClassifier\n",
      "from sklearn.svm import LinearSVC\n",
      "from sklearn.linear_model import LogisticRegression\n",
      "from sklearn.pipeline import Pipeline\n",
      "from sklearn import metrics\n",
      "\n",
      "from sklearn.preprocessing import StandardScaler\n",
      "from sklearn.lda import LDA\n",
      "from sklearn.decomposition import PCA"
     ],
     "language": "python",
     "metadata": {},
     "outputs": [],
     "prompt_number": 1
    },
    {
     "cell_type": "heading",
     "level": 3,
     "metadata": {},
     "source": [
      "Load gaze and pupil data"
     ]
    },
    {
     "cell_type": "code",
     "collapsed": false,
     "input": [
      "df_gaze = pd.read_csv('../data/logsAndEye_09152014.csv', na_values=['None'])\n",
      "df_pupil = pd.read_csv('../data/pupilDiameters.csv', na_values=['None'])\n",
      "# df_pupil.head()"
     ],
     "language": "python",
     "metadata": {},
     "outputs": [],
     "prompt_number": 2
    },
    {
     "cell_type": "heading",
     "level": 3,
     "metadata": {},
     "source": [
      "Join datasets on subject_sync"
     ]
    },
    {
     "cell_type": "code",
     "collapsed": false,
     "input": [
      "# datasets are joined with rows containing null values dropped\n",
      "df_all_data = df_gaze.merge(df_pupil, on='subject_sync').set_index('subject_sync').dropna()\n",
      "\n",
      "# clean up column names (for pupil cols)\n",
      "clean_columns = [name.replace(\" \",\"_\").replace(\"[\",\"\").replace(\"]\",\"\") for name in df_all_data.columns]\n",
      "df_all_data.columns = clean_columns"
     ],
     "language": "python",
     "metadata": {},
     "outputs": [],
     "prompt_number": 3
    },
    {
     "cell_type": "code",
     "collapsed": false,
     "input": [
      "# list of all columns\n",
      "# [col for col in df_all_data.columns]"
     ],
     "language": "python",
     "metadata": {},
     "outputs": [],
     "prompt_number": 4
    },
    {
     "cell_type": "code",
     "collapsed": false,
     "input": [
      "feature_cols = [\n",
      " 'logs_Correct',\n",
      " 'eye_switch',\n",
      " 'eye_2ndFixDur_GR',\n",
      " 'eye_2ndFixDur_Interactions',\n",
      " 'eye_2ndFixDur_Titles',\n",
      " 'eye_2ndFixDur_Hints', #\n",
      " 'eye_2ndFixDur_Progress',\n",
      " 'eye_2ndFixDur_WhiteSpace',\n",
      " 'eye_1stFixDur_GR',\n",
      " 'eye_1stFixDur_Interactions',\n",
      " 'eye_1stFixDur_Titles',\n",
      " 'eye_1stFixDur_Hints',\n",
      " 'eye_1stFixDur_Progress',\n",
      " 'eye_1stFixDur_WhiteSpace',\n",
      " 'eye_fixDur_GR',\n",
      " 'eye_fixDur_Interactions',\n",
      " 'eye_fixDur_Titles',\n",
      " 'eye_fixDur_Hints', #\n",
      " 'eye_fixDur_Progress',\n",
      "#  'eye_fixDur_WhiteSpace',\n",
      " 'seq2_betweenGRs',\n",
      " 'seq2_autoGR',\n",
      " 'seq2_GR-caption',\n",
      " 'seq2_GR-Interactions',\n",
      " 'seq2_GR-HintText',\n",
      " 'seq2_GR-Progress',\n",
      " 'seq2_Interactions-Progress',\n",
      " 'seq2_Interactions-HintText',\n",
      " 'seq3_betweenGRs',\n",
      " 'seq3_autoGR', #\n",
      "#  'seq3_GR-caption-GR',\n",
      " 'seq3_caption-GR-caption',\n",
      " 'seq3_GR-Interactions-GR',\n",
      " 'seq3_Interactions-GR-Interactions',\n",
      "#  'seq3_GR-HintText-GR',\n",
      " 'seq3_HintText-GR-HintText',\n",
      " 'seq3_Interactions-HintText-Interactions',\n",
      " 'seq3_HintText-Interactions-HintText',\n",
      " 'seq3_GR-Progress-GR',\n",
      "#  'seq3_Progress-GR-Progress',\n",
      "#  'seq3_Progress-Interactions-Progress',\n",
      " 'pretest_sense',\n",
      "#  'posttest1_sense',\n",
      "#  'posttest2_sense',\n",
      " 'pretest_fluency',\n",
      "#  'posttest1_fluency',\n",
      "#  'posttest2_fluency',\n",
      " 'pretest_concScales',\n",
      "#  'posttest1_concScales',\n",
      "#  'posttest2_concScales',\n",
      "#  'prePost_concScales',\n",
      " 'Average_Pupil_Diameter_mm',\n",
      " 'AveragePupil_Size_px_X']\n",
      "\n",
      "#choose an outcome variable\n",
      "outcome_col = 'logs_errorRate_medianSplit' \n",
      "# oucome_col = 'logs_firstIncorrectRate_medianSplit'\n",
      "\n",
      "df_features = df_all_data[feature_cols]\n",
      "len(df_features)"
     ],
     "language": "python",
     "metadata": {},
     "outputs": [
      {
       "metadata": {},
       "output_type": "pyout",
       "prompt_number": 5,
       "text": [
        "1234"
       ]
      }
     ],
     "prompt_number": 5
    },
    {
     "cell_type": "heading",
     "level": 2,
     "metadata": {},
     "source": [
      "Cross-validation function"
     ]
    },
    {
     "cell_type": "code",
     "collapsed": false,
     "input": [
      "# Cross-Validation Function\n",
      "def cv_fun(pipeline):\n",
      "    scores = []\n",
      "    for train_idx, cv_idx in KFold(n=len(df_features), n_folds=7, indices=False, shuffle=True):\n",
      "        train_features = df_features[train_idx]\n",
      "        train_y    = np.asarray(df_all_data[train_idx][outcome_col])\n",
      "        test_features  = df_features[cv_idx]\n",
      "        test_y     = np.asarray(list(df_all_data[cv_idx][outcome_col]))\n",
      "        pipeline.fit(train_features, train_y)\n",
      "        score = pipeline.score(test_features, test_y)    \n",
      "        scores.append(score)\n",
      "    return scores, np.mean(scores)"
     ],
     "language": "python",
     "metadata": {},
     "outputs": [],
     "prompt_number": 6
    },
    {
     "cell_type": "code",
     "collapsed": false,
     "input": [
      "# Refining Random Forest features\n",
      "\n",
      "rf_feature_cols = [\n",
      " 'logs_Correct',\n",
      " 'eye_switch',\n",
      " 'eye_2ndFixDur_GR',\n",
      " 'eye_2ndFixDur_Interactions',\n",
      " 'eye_2ndFixDur_Titles',\n",
      "#  'eye_2ndFixDur_Hints', #\n",
      " 'eye_2ndFixDur_Progress',\n",
      " 'eye_2ndFixDur_WhiteSpace',\n",
      " 'eye_1stFixDur_GR',\n",
      " 'eye_1stFixDur_Interactions',\n",
      " 'eye_1stFixDur_Titles',\n",
      " 'eye_1stFixDur_Hints',\n",
      " 'eye_1stFixDur_Progress',\n",
      " 'eye_1stFixDur_WhiteSpace',\n",
      " 'eye_fixDur_GR',\n",
      " 'eye_fixDur_Interactions',\n",
      " 'eye_fixDur_Titles',\n",
      "#  'eye_fixDur_Hints', #\n",
      " 'eye_fixDur_Progress',\n",
      " 'eye_fixDur_WhiteSpace',\n",
      " 'seq2_betweenGRs',\n",
      " 'seq2_autoGR',\n",
      " 'seq2_GR-caption',\n",
      " 'seq2_GR-Interactions',\n",
      " 'seq2_GR-HintText',\n",
      " 'seq2_GR-Progress',\n",
      " 'seq2_Interactions-Progress',\n",
      "#  'seq2_Interactions-HintText',\n",
      "#  'seq3_betweenGRs',\n",
      " 'seq3_autoGR', #\n",
      " 'seq3_GR-caption-GR',\n",
      " 'seq3_caption-GR-caption',\n",
      "#  'seq3_GR-Interactions-GR',\n",
      " 'seq3_Interactions-GR-Interactions',\n",
      " 'seq3_GR-HintText-GR',\n",
      " 'seq3_HintText-GR-HintText',\n",
      " 'seq3_Interactions-HintText-Interactions',\n",
      " 'seq3_HintText-Interactions-HintText',\n",
      " 'seq3_GR-Progress-GR',\n",
      " 'seq3_Progress-GR-Progress',\n",
      " 'seq3_Progress-Interactions-Progress',\n",
      " 'pretest_sense',\n",
      "#  'posttest1_sense',\n",
      "#  'posttest2_sense',\n",
      " 'pretest_fluency',\n",
      "#  'posttest1_fluency',\n",
      "#  'posttest2_fluency',\n",
      " 'pretest_concScales',\n",
      "#  'posttest1_concScales',\n",
      "#  'posttest2_concScales',\n",
      "#  'prePost_concScales',\n",
      " 'Average_Pupil_Diameter_mm',\n",
      " 'AveragePupil_Size_px_X']\n",
      "\n",
      "df_rf_features = df_all_data[rf_feature_cols]\n",
      "\n",
      "\n",
      "# Feature Importance with Random Forest / ExtraTreesClassifier and Cross-Validation\n",
      "scores = []\n",
      "for train_idx, cv_idx in KFold(n=len(df_rf_features), n_folds=8, indices=False, shuffle=True):\n",
      "    train_features = df_rf_features[train_idx]\n",
      "    train_y = np.asarray(df_all_data[train_idx][outcome_col])\n",
      "    test_features  = df_rf_features[cv_idx]\n",
      "    test_y = np.asarray(list(df_all_data[cv_idx][outcome_col]))\n",
      "\n",
      "    importances = clf.feature_importances_\n",
      "    for col, importance in zip(rf_feature_cols, importances):    \n",
      "        if (importance > .03):\n",
      "            print col, importance\n",
      "        \n",
      "    print len([i for i in importances if i < .01])\n"
     ],
     "language": "python",
     "metadata": {},
     "outputs": [
      {
       "ename": "NameError",
       "evalue": "name 'clf' is not defined",
       "output_type": "pyerr",
       "traceback": [
        "\u001b[0;31m---------------------------------------------------------------------------\u001b[0m\n\u001b[0;31mNameError\u001b[0m                                 Traceback (most recent call last)",
        "\u001b[0;32m<ipython-input-7-b90e0f618012>\u001b[0m in \u001b[0;36m<module>\u001b[0;34m()\u001b[0m\n\u001b[1;32m     67\u001b[0m     \u001b[0mtest_y\u001b[0m \u001b[0;34m=\u001b[0m \u001b[0mnp\u001b[0m\u001b[0;34m.\u001b[0m\u001b[0masarray\u001b[0m\u001b[0;34m(\u001b[0m\u001b[0mlist\u001b[0m\u001b[0;34m(\u001b[0m\u001b[0mdf_all_data\u001b[0m\u001b[0;34m[\u001b[0m\u001b[0mcv_idx\u001b[0m\u001b[0;34m]\u001b[0m\u001b[0;34m[\u001b[0m\u001b[0moutcome_col\u001b[0m\u001b[0;34m]\u001b[0m\u001b[0;34m)\u001b[0m\u001b[0;34m)\u001b[0m\u001b[0;34m\u001b[0m\u001b[0m\n\u001b[1;32m     68\u001b[0m \u001b[0;34m\u001b[0m\u001b[0m\n\u001b[0;32m---> 69\u001b[0;31m     \u001b[0mimportances\u001b[0m \u001b[0;34m=\u001b[0m \u001b[0mclf\u001b[0m\u001b[0;34m.\u001b[0m\u001b[0mfeature_importances_\u001b[0m\u001b[0;34m\u001b[0m\u001b[0m\n\u001b[0m\u001b[1;32m     70\u001b[0m     \u001b[0;32mfor\u001b[0m \u001b[0mcol\u001b[0m\u001b[0;34m,\u001b[0m \u001b[0mimportance\u001b[0m \u001b[0;32min\u001b[0m \u001b[0mzip\u001b[0m\u001b[0;34m(\u001b[0m\u001b[0mrf_feature_cols\u001b[0m\u001b[0;34m,\u001b[0m \u001b[0mimportances\u001b[0m\u001b[0;34m)\u001b[0m\u001b[0;34m:\u001b[0m\u001b[0;34m\u001b[0m\u001b[0m\n\u001b[1;32m     71\u001b[0m         \u001b[0;32mif\u001b[0m \u001b[0;34m(\u001b[0m\u001b[0mimportance\u001b[0m \u001b[0;34m>\u001b[0m \u001b[0;36m.03\u001b[0m\u001b[0;34m)\u001b[0m\u001b[0;34m:\u001b[0m\u001b[0;34m\u001b[0m\u001b[0m\n",
        "\u001b[0;31mNameError\u001b[0m: name 'clf' is not defined"
       ]
      }
     ],
     "prompt_number": 7
    },
    {
     "cell_type": "heading",
     "level": 2,
     "metadata": {},
     "source": [
      "Classification pipelines"
     ]
    },
    {
     "cell_type": "code",
     "collapsed": false,
     "input": [
      "def nb(df_train):\n",
      "    pipeline = Pipeline([\n",
      "        #('scaler', StandardScaler()),\n",
      "        #('reduce_dim', PCA()),\n",
      "        #('reduce_dim', LDA()),\n",
      "        ('clf', GaussianNB())\n",
      "    ])\n",
      "    result = cv_fun(pipeline=pipeline)\n",
      "    print \"NB average score:\", result[1]\n",
      "    print \"NB scores:\", result[0]\n",
      "    print \"stddev:\", np.std(result[0]) \n",
      "#     print \"range:\", np.max(result[0]) - np.min(result[0])\n",
      "    print\n",
      "    \n",
      "    \n",
      "def max_ent(df_train):\n",
      "    pipeline = Pipeline([\n",
      "        #('scaler', StandardScaler()),\n",
      "        #('reduce_dim', PCA()),\n",
      "        #('reduce_dim', LDA()),\n",
      "        ('clf', LogisticRegression(penalty='l2'))\n",
      "    ])\n",
      "    result = cv_fun(pipeline=pipeline)\n",
      "    print \"MaxEnt average score:\", result[1]\n",
      "    print \"MaxEnt scores:\", result[0]\n",
      "    print \"stddev:\", np.std(result[0])\n",
      "#     print \"range:\", np.max(result[0]) - np.min(result[0])\n",
      "    print\n",
      "\n",
      "    \n",
      "def random_forest(df_train):\n",
      "    pipeline = Pipeline([\n",
      "        #('scaler', StandardScaler()),\n",
      "        #('reduce_dim', PCA()),\n",
      "        #('reduce_dim', LDA()),\n",
      "        ('feature_selection', ExtraTreesClassifier()), # need way to print this, see which features picked\n",
      "        ('clf', RandomForestClassifier())\n",
      "    ])\n",
      "    result = cv_fun(pipeline=pipeline)\n",
      "    print \"RF average score:\", result[1]\n",
      "    print \"RF scores:\", result[0]\n",
      "    print \"stddev:\", np.std(result[0])\n",
      "#     print \"range:\", np.max(result[0]) - np.min(result[0])\n",
      "    print\n",
      "\n"
     ],
     "language": "python",
     "metadata": {},
     "outputs": [],
     "prompt_number": 10
    },
    {
     "cell_type": "code",
     "collapsed": false,
     "input": [
      "# Evaluate scores across k folds\n",
      "\n",
      "# currently, features chosen using feature selection for RF, so not surprising that Naive Bayes\n",
      "# is not doing very well\n",
      "\n",
      "nb(df_features)\n",
      "max_ent(df_features)\n",
      "random_forest(df_features)"
     ],
     "language": "python",
     "metadata": {},
     "outputs": [
      {
       "output_type": "stream",
       "stream": "stdout",
       "text": [
        "NB average score: 0.589913970211\n",
        "NB scores: [0.59322033898305082, 0.63276836158192096, 0.57386363636363635, 0.58522727272727271, 0.60227272727272729, 0.53977272727272729, 0.60227272727272729]\n",
        "stddev: 0.0265831076324\n",
        "\n",
        "MaxEnt average score:"
       ]
      },
      {
       "output_type": "stream",
       "stream": "stdout",
       "text": [
        " 0.63613434588\n",
        "MaxEnt scores: [0.59887005649717517, 0.68361581920903958, 0.63636363636363635, 0.63068181818181823, 0.64204545454545459, 0.63636363636363635, 0.625]\n",
        "stddev: 0.0233967874568\n",
        "\n",
        "RF average score:"
       ]
      },
      {
       "output_type": "stream",
       "stream": "stdout",
       "text": [
        " 0.655582764693\n",
        "RF scores: [0.6384180790960452, 0.68361581920903958, 0.55113636363636365, 0.67613636363636365, 0.68181818181818177, 0.6875, 0.67045454545454541]\n",
        "stddev: 0.0452613941215\n",
        "\n"
       ]
      }
     ],
     "prompt_number": 11
    },
    {
     "cell_type": "code",
     "collapsed": false,
     "input": [
      "NB = .588\n",
      "ME = .64\n",
      "RF = .69"
     ],
     "language": "python",
     "metadata": {},
     "outputs": [],
     "prompt_number": 12
    },
    {
     "cell_type": "markdown",
     "metadata": {},
     "source": [
      "##Research Questions\n",
      "\n",
      "1. What are the features of eye tracking that best predict performance? \n",
      "\n",
      "2. Multiple representations of concepts were provided within the tutor. Can an analysis make recommendations about the efficacy of each representation?\n",
      "\n",
      "3. Can we predict learning (Post-Pre knowledge) from eye tracking features?"
     ]
    },
    {
     "cell_type": "code",
     "collapsed": false,
     "input": [
      "# Next TODOs:\n",
      "\n",
      "# Go back and inspect which rows were dropped with dropna(). Other outliers we need to take care of?\n",
      "\n",
      "# Improve feature selection to find most informative features\n",
      "# http://scikit-learn.org/stable/modules/feature_selection.html"
     ],
     "language": "python",
     "metadata": {},
     "outputs": [],
     "prompt_number": 13
    },
    {
     "cell_type": "markdown",
     "metadata": {},
     "source": [
      "Check predictive measure of pre-test for top x percent vs. bottom x percent\n",
      "\n",
      "K means k2 through k8 and binary features / spectral clustering\n",
      "  does one clustering do better than the other\n",
      "  test each k to see which is best, find feature break down of each cluster in best k\n",
      "  \n",
      "compare just clusters, just features, and both for predictions\n",
      "\n",
      "gaze behavior profile (pattern)"
     ]
    },
    {
     "cell_type": "heading",
     "level": 2,
     "metadata": {},
     "source": [
      "Clusters"
     ]
    },
    {
     "cell_type": "code",
     "collapsed": false,
     "input": [
      "gaze_cols = [\n",
      "#  'logs_Correct',\n",
      " 'eye_switch',\n",
      " 'eye_2ndFixDur_GR',\n",
      " 'eye_2ndFixDur_Interactions',\n",
      " 'eye_2ndFixDur_Titles',\n",
      " 'eye_2ndFixDur_Hints', \n",
      " 'eye_2ndFixDur_Progress',\n",
      " 'eye_2ndFixDur_WhiteSpace',\n",
      " 'eye_1stFixDur_GR',\n",
      " 'eye_1stFixDur_Interactions',\n",
      " 'eye_1stFixDur_Titles',\n",
      " 'eye_1stFixDur_Hints',\n",
      " 'eye_1stFixDur_Progress',\n",
      " 'eye_1stFixDur_WhiteSpace',\n",
      " 'eye_fixDur_GR',\n",
      " 'eye_fixDur_Interactions',\n",
      " 'eye_fixDur_Titles',\n",
      " 'eye_fixDur_Hints', \n",
      " 'eye_fixDur_Progress',\n",
      " 'eye_fixDur_WhiteSpace',\n",
      " 'seq2_betweenGRs',\n",
      " 'seq2_autoGR',\n",
      " 'seq2_GR-caption',\n",
      " 'seq2_GR-Interactions',\n",
      " 'seq2_GR-HintText',\n",
      " 'seq2_GR-Progress',\n",
      " 'seq2_Interactions-Progress',\n",
      " 'seq2_Interactions-HintText',\n",
      " 'seq3_betweenGRs',\n",
      " 'seq3_autoGR', \n",
      " 'seq3_GR-caption-GR',\n",
      " 'seq3_caption-GR-caption',\n",
      " 'seq3_GR-Interactions-GR',\n",
      " 'seq3_Interactions-GR-Interactions',\n",
      " 'seq3_GR-HintText-GR',\n",
      " 'seq3_HintText-GR-HintText',\n",
      " 'seq3_Interactions-HintText-Interactions',\n",
      " 'seq3_HintText-Interactions-HintText',\n",
      " 'seq3_GR-Progress-GR',\n",
      " 'seq3_Progress-GR-Progress',\n",
      " 'seq3_Progress-Interactions-Progress']"
     ],
     "language": "python",
     "metadata": {},
     "outputs": [],
     "prompt_number": 14
    },
    {
     "cell_type": "code",
     "collapsed": false,
     "input": [
      "from sklearn.cluster import KMeans\n",
      "\n",
      "df_gaze_features = df_all_data[gaze_cols]\n",
      "df_cluster_features = pd.DataFrame(index=df_gaze_features.index)\n",
      "\n",
      "for n in xrange(2,9):\n",
      "    k_means = KMeans(init='k-means++', n_clusters=n, n_init=10)\n",
      "    k_means.fit(df_gaze_features)\n",
      "    k_means_labels = k_means.labels_\n",
      "    k_means_cluster_centers = k_means.cluster_centers_\n",
      "    k_means_labels_unique = np.unique(k_means_labels)\n",
      "    \n",
      "    #create dataframe with cluster\n",
      "    for cluster in xrange(n):\n",
      "        label = 'k%d_%d' % (n, cluster)\n",
      "        df_cluster_features[label] = [1 if x == cluster else 0 for x in k_means_labels]"
     ],
     "language": "python",
     "metadata": {},
     "outputs": [],
     "prompt_number": 15
    },
    {
     "cell_type": "code",
     "collapsed": false,
     "input": [
      "len(df_cluster_features)- len(df_features)"
     ],
     "language": "python",
     "metadata": {},
     "outputs": [
      {
       "metadata": {},
       "output_type": "pyout",
       "prompt_number": 16,
       "text": [
        "0"
       ]
      }
     ],
     "prompt_number": 16
    },
    {
     "cell_type": "code",
     "collapsed": false,
     "input": [
      "# add new features to full data\n",
      "df_features_clusters = df_features.join(df_cluster_features)"
     ],
     "language": "python",
     "metadata": {},
     "outputs": [],
     "prompt_number": 17
    },
    {
     "cell_type": "code",
     "collapsed": false,
     "input": [
      "#clusters alone\n",
      "nb(df_cluster_features)\n",
      "max_ent(df_cluster_features)\n",
      "random_forest(df_cluster_features)"
     ],
     "language": "python",
     "metadata": {},
     "outputs": [
      {
       "output_type": "stream",
       "stream": "stdout",
       "text": [
        "NB average score: 0.58184294519\n",
        "NB scores: [0.59887005649717517, 0.57062146892655363, 0.59659090909090906, 0.55681818181818177, 0.58522727272727271, 0.59090909090909094, 0.57386363636363635]\n",
        "stddev: 0.0142272540793\n",
        "\n",
        "MaxEnt average score:"
       ]
      },
      {
       "output_type": "stream",
       "stream": "stdout",
       "text": [
        " 0.648328013794\n",
        "MaxEnt scores: [0.59322033898305082, 0.66666666666666663, 0.65340909090909094, 0.67045454545454541, 0.71022727272727271, 0.67613636363636365, 0.56818181818181823]\n",
        "stddev: 0.0461624430041\n",
        "\n",
        "RF average score:"
       ]
      },
      {
       "output_type": "stream",
       "stream": "stdout",
       "text": [
        " 0.664488407073\n",
        "RF scores: [0.6384180790960452, 0.71186440677966101, 0.65340909090909094, 0.65340909090909094, 0.67045454545454541, 0.63636363636363635, 0.6875]\n",
        "stddev: 0.0254271530512\n",
        "\n"
       ]
      }
     ],
     "prompt_number": 18
    },
    {
     "cell_type": "code",
     "collapsed": false,
     "input": [
      "#conbined with cluster\n",
      "nb(df_features_clusters)\n",
      "max_ent(df_features_clusters)\n",
      "random_forest(df_features_clusters)"
     ],
     "language": "python",
     "metadata": {},
     "outputs": [
      {
       "output_type": "stream",
       "stream": "stdout",
       "text": [
        "NB average score: 0.58672224668\n",
        "NB scores: [0.61581920903954801, 0.5423728813559322, 0.55113636363636365, 0.67613636363636365, 0.61363636363636365, 0.55113636363636365, 0.55681818181818177]\n",
        "stddev: 0.0462288046647\n",
        "\n",
        "MaxEnt average score:"
       ]
      },
      {
       "output_type": "stream",
       "stream": "stdout",
       "text": [
        " 0.641059505466\n",
        "MaxEnt scores: [0.6384180790960452, 0.57627118644067798, 0.67613636363636365, 0.63068181818181823, 0.67613636363636365, 0.67045454545454541, 0.61931818181818177]\n",
        "stddev: 0.0340372176487\n",
        "\n",
        "RF average score:"
       ]
      },
      {
       "output_type": "stream",
       "stream": "stdout",
       "text": [
        " 0.645072088928\n",
        "RF scores: [0.61581920903954801, 0.65536723163841804, 0.68181818181818177, 0.65340909090909094, 0.61363636363636365, 0.63068181818181823, 0.66477272727272729]\n",
        "stddev: 0.0237994650536\n",
        "\n"
       ]
      }
     ],
     "prompt_number": 24
    },
    {
     "cell_type": "code",
     "collapsed": false,
     "input": [
      "df_gaze_features = df_all_data[gaze_cols]\n",
      "scaler = StandardScaler().fit(df_gaze_features)"
     ],
     "language": "python",
     "metadata": {},
     "outputs": [],
     "prompt_number": 20
    },
    {
     "cell_type": "code",
     "collapsed": false,
     "input": [
      "scaler.transform(df_gaze_features)"
     ],
     "language": "python",
     "metadata": {},
     "outputs": [
      {
       "metadata": {},
       "output_type": "pyout",
       "prompt_number": 21,
       "text": [
        "array([[ 0.99880212, -0.63414118,  1.46894536, ..., -0.31111316,\n",
        "        -0.10619816, -0.28753314],\n",
        "       [ 0.22640369, -0.53107029,  0.55842964, ..., -0.31111316,\n",
        "        -0.10619816, -0.28753314],\n",
        "       [ 1.42791236, -0.68762497,  1.43358665, ..., -0.31111316,\n",
        "        -0.10619816, -0.28753314],\n",
        "       ..., \n",
        "       [-1.63307402, -0.82679741, -1.12073365, ..., -0.31111316,\n",
        "        -0.10619816, -0.28753314],\n",
        "       [-1.4185189 , -0.82809631, -0.88818656, ..., -0.31111316,\n",
        "        -0.10619816, -0.28753314],\n",
        "       [-1.38991155, -0.81896586, -0.47010735, ..., -0.31111316,\n",
        "        -0.10619816, -0.28753314]])"
       ]
      }
     ],
     "prompt_number": 21
    },
    {
     "cell_type": "code",
     "collapsed": false,
     "input": [],
     "language": "python",
     "metadata": {},
     "outputs": [],
     "prompt_number": 21
    }
   ],
   "metadata": {}
  }
 ]
}